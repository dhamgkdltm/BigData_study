{
  "nbformat": 4,
  "nbformat_minor": 0,
  "metadata": {
    "colab": {
      "provenance": []
    },
    "kernelspec": {
      "name": "python3",
      "display_name": "Python 3"
    },
    "language_info": {
      "name": "python"
    },
    "gpuClass": "standard"
  },
  "cells": [
    {
      "cell_type": "code",
      "execution_count": 2,
      "metadata": {
        "id": "iZIa8zRaRlGZ"
      },
      "outputs": [],
      "source": [
        "# 리눅스 명령어"
      ]
    },
    {
      "cell_type": "code",
      "source": [
        "!ls"
      ],
      "metadata": {
        "colab": {
          "base_uri": "https://localhost:8080/"
        },
        "id": "F7whmdRGSLsm",
        "outputId": "851985b1-38d1-448e-d547-9c0dfdcac7b7"
      },
      "execution_count": 3,
      "outputs": [
        {
          "output_type": "stream",
          "name": "stdout",
          "text": [
            "sample_data\n"
          ]
        }
      ]
    },
    {
      "cell_type": "markdown",
      "source": [
        "1. 현재 어디에 있는지 확인"
      ],
      "metadata": {
        "id": "DpynE2QCSvJY"
      }
    },
    {
      "cell_type": "code",
      "source": [
        "!pwd #present where dicrectory"
      ],
      "metadata": {
        "colab": {
          "base_uri": "https://localhost:8080/"
        },
        "id": "1coRZwAsSxx_",
        "outputId": "7496a5b6-29ab-431f-b5ce-0538443682b5"
      },
      "execution_count": 4,
      "outputs": [
        {
          "output_type": "stream",
          "name": "stdout",
          "text": [
            "/content\n"
          ]
        }
      ]
    },
    {
      "cell_type": "markdown",
      "source": [
        "2. 폴더 만들기"
      ],
      "metadata": {
        "id": "gW8wYRn8SHTd"
      }
    },
    {
      "cell_type": "code",
      "source": [
        "!mkdir test"
      ],
      "metadata": {
        "id": "qtcCrMjmRprm"
      },
      "execution_count": 5,
      "outputs": []
    },
    {
      "cell_type": "markdown",
      "source": [
        "3. 작업 디렉토리 이동하기"
      ],
      "metadata": {
        "id": "c9lyhdl9S-uI"
      }
    },
    {
      "cell_type": "code",
      "source": [
        "!cd test #change directory \"!\"는 임시"
      ],
      "metadata": {
        "id": "yrjuynAcS7vJ"
      },
      "execution_count": 6,
      "outputs": []
    },
    {
      "cell_type": "code",
      "source": [
        "!pwd"
      ],
      "metadata": {
        "colab": {
          "base_uri": "https://localhost:8080/"
        },
        "id": "t_r0TIQnTHyM",
        "outputId": "322baafd-e2bf-4167-943e-d76ae88b4c59"
      },
      "execution_count": 8,
      "outputs": [
        {
          "output_type": "stream",
          "name": "stdout",
          "text": [
            "/content\n"
          ]
        }
      ]
    },
    {
      "cell_type": "code",
      "source": [
        "%cd test # '%'를 써야 적용됨"
      ],
      "metadata": {
        "colab": {
          "base_uri": "https://localhost:8080/"
        },
        "id": "-c_U6YBYTIpQ",
        "outputId": "5634e92a-bf76-45a9-c65c-77e5f35c6159"
      },
      "execution_count": 12,
      "outputs": [
        {
          "output_type": "stream",
          "name": "stdout",
          "text": [
            "[Errno 2] No such file or directory: 'test # %를 써야 적용됨'\n",
            "/content/test\n"
          ]
        }
      ]
    },
    {
      "cell_type": "code",
      "source": [
        "!pwd"
      ],
      "metadata": {
        "colab": {
          "base_uri": "https://localhost:8080/"
        },
        "id": "wPjJJB_5TSHs",
        "outputId": "703914c8-81f2-4f0a-b0ff-ac4db36502f2"
      },
      "execution_count": 13,
      "outputs": [
        {
          "output_type": "stream",
          "name": "stdout",
          "text": [
            "/content/test\n"
          ]
        }
      ]
    },
    {
      "cell_type": "code",
      "source": [
        "import pandas as pd\n",
        "\n",
        "pd.read_csv('./chipo.csv')"
      ],
      "metadata": {
        "colab": {
          "base_uri": "https://localhost:8080/",
          "height": 423
        },
        "id": "f21jqZmrTcRc",
        "outputId": "99f97fe2-771f-4d27-82b4-7f858e807d04"
      },
      "execution_count": 17,
      "outputs": [
        {
          "output_type": "execute_result",
          "data": {
            "text/plain": [
              "      Unnamed: 0  order_id  quantity                              item_name  \\\n",
              "0              0         1         1           Chips and Fresh Tomato Salsa   \n",
              "1              1         1         1                                   Izze   \n",
              "2              2         1         1                       Nantucket Nectar   \n",
              "3              3         1         1  Chips and Tomatillo-Green Chili Salsa   \n",
              "4              4         2         2                           Chicken Bowl   \n",
              "...          ...       ...       ...                                    ...   \n",
              "4617        4617      1833         1                          Steak Burrito   \n",
              "4618        4618      1833         1                          Steak Burrito   \n",
              "4619        4619      1834         1                     Chicken Salad Bowl   \n",
              "4620        4620      1834         1                     Chicken Salad Bowl   \n",
              "4621        4621      1834         1                     Chicken Salad Bowl   \n",
              "\n",
              "                                     choice_description item_price  \n",
              "0                                                   NaN     $2.39   \n",
              "1                                          [Clementine]     $3.39   \n",
              "2                                               [Apple]     $3.39   \n",
              "3                                                   NaN     $2.39   \n",
              "4     [Tomatillo-Red Chili Salsa (Hot), [Black Beans...    $16.98   \n",
              "...                                                 ...        ...  \n",
              "4617  [Fresh Tomato Salsa, [Rice, Black Beans, Sour ...    $11.75   \n",
              "4618  [Fresh Tomato Salsa, [Rice, Sour Cream, Cheese...    $11.75   \n",
              "4619  [Fresh Tomato Salsa, [Fajita Vegetables, Pinto...    $11.25   \n",
              "4620  [Fresh Tomato Salsa, [Fajita Vegetables, Lettu...     $8.75   \n",
              "4621  [Fresh Tomato Salsa, [Fajita Vegetables, Pinto...     $8.75   \n",
              "\n",
              "[4622 rows x 6 columns]"
            ],
            "text/html": [
              "\n",
              "  <div id=\"df-06f73320-f7f7-4219-bc76-71a5efe60550\">\n",
              "    <div class=\"colab-df-container\">\n",
              "      <div>\n",
              "<style scoped>\n",
              "    .dataframe tbody tr th:only-of-type {\n",
              "        vertical-align: middle;\n",
              "    }\n",
              "\n",
              "    .dataframe tbody tr th {\n",
              "        vertical-align: top;\n",
              "    }\n",
              "\n",
              "    .dataframe thead th {\n",
              "        text-align: right;\n",
              "    }\n",
              "</style>\n",
              "<table border=\"1\" class=\"dataframe\">\n",
              "  <thead>\n",
              "    <tr style=\"text-align: right;\">\n",
              "      <th></th>\n",
              "      <th>Unnamed: 0</th>\n",
              "      <th>order_id</th>\n",
              "      <th>quantity</th>\n",
              "      <th>item_name</th>\n",
              "      <th>choice_description</th>\n",
              "      <th>item_price</th>\n",
              "    </tr>\n",
              "  </thead>\n",
              "  <tbody>\n",
              "    <tr>\n",
              "      <th>0</th>\n",
              "      <td>0</td>\n",
              "      <td>1</td>\n",
              "      <td>1</td>\n",
              "      <td>Chips and Fresh Tomato Salsa</td>\n",
              "      <td>NaN</td>\n",
              "      <td>$2.39</td>\n",
              "    </tr>\n",
              "    <tr>\n",
              "      <th>1</th>\n",
              "      <td>1</td>\n",
              "      <td>1</td>\n",
              "      <td>1</td>\n",
              "      <td>Izze</td>\n",
              "      <td>[Clementine]</td>\n",
              "      <td>$3.39</td>\n",
              "    </tr>\n",
              "    <tr>\n",
              "      <th>2</th>\n",
              "      <td>2</td>\n",
              "      <td>1</td>\n",
              "      <td>1</td>\n",
              "      <td>Nantucket Nectar</td>\n",
              "      <td>[Apple]</td>\n",
              "      <td>$3.39</td>\n",
              "    </tr>\n",
              "    <tr>\n",
              "      <th>3</th>\n",
              "      <td>3</td>\n",
              "      <td>1</td>\n",
              "      <td>1</td>\n",
              "      <td>Chips and Tomatillo-Green Chili Salsa</td>\n",
              "      <td>NaN</td>\n",
              "      <td>$2.39</td>\n",
              "    </tr>\n",
              "    <tr>\n",
              "      <th>4</th>\n",
              "      <td>4</td>\n",
              "      <td>2</td>\n",
              "      <td>2</td>\n",
              "      <td>Chicken Bowl</td>\n",
              "      <td>[Tomatillo-Red Chili Salsa (Hot), [Black Beans...</td>\n",
              "      <td>$16.98</td>\n",
              "    </tr>\n",
              "    <tr>\n",
              "      <th>...</th>\n",
              "      <td>...</td>\n",
              "      <td>...</td>\n",
              "      <td>...</td>\n",
              "      <td>...</td>\n",
              "      <td>...</td>\n",
              "      <td>...</td>\n",
              "    </tr>\n",
              "    <tr>\n",
              "      <th>4617</th>\n",
              "      <td>4617</td>\n",
              "      <td>1833</td>\n",
              "      <td>1</td>\n",
              "      <td>Steak Burrito</td>\n",
              "      <td>[Fresh Tomato Salsa, [Rice, Black Beans, Sour ...</td>\n",
              "      <td>$11.75</td>\n",
              "    </tr>\n",
              "    <tr>\n",
              "      <th>4618</th>\n",
              "      <td>4618</td>\n",
              "      <td>1833</td>\n",
              "      <td>1</td>\n",
              "      <td>Steak Burrito</td>\n",
              "      <td>[Fresh Tomato Salsa, [Rice, Sour Cream, Cheese...</td>\n",
              "      <td>$11.75</td>\n",
              "    </tr>\n",
              "    <tr>\n",
              "      <th>4619</th>\n",
              "      <td>4619</td>\n",
              "      <td>1834</td>\n",
              "      <td>1</td>\n",
              "      <td>Chicken Salad Bowl</td>\n",
              "      <td>[Fresh Tomato Salsa, [Fajita Vegetables, Pinto...</td>\n",
              "      <td>$11.25</td>\n",
              "    </tr>\n",
              "    <tr>\n",
              "      <th>4620</th>\n",
              "      <td>4620</td>\n",
              "      <td>1834</td>\n",
              "      <td>1</td>\n",
              "      <td>Chicken Salad Bowl</td>\n",
              "      <td>[Fresh Tomato Salsa, [Fajita Vegetables, Lettu...</td>\n",
              "      <td>$8.75</td>\n",
              "    </tr>\n",
              "    <tr>\n",
              "      <th>4621</th>\n",
              "      <td>4621</td>\n",
              "      <td>1834</td>\n",
              "      <td>1</td>\n",
              "      <td>Chicken Salad Bowl</td>\n",
              "      <td>[Fresh Tomato Salsa, [Fajita Vegetables, Pinto...</td>\n",
              "      <td>$8.75</td>\n",
              "    </tr>\n",
              "  </tbody>\n",
              "</table>\n",
              "<p>4622 rows × 6 columns</p>\n",
              "</div>\n",
              "      <button class=\"colab-df-convert\" onclick=\"convertToInteractive('df-06f73320-f7f7-4219-bc76-71a5efe60550')\"\n",
              "              title=\"Convert this dataframe to an interactive table.\"\n",
              "              style=\"display:none;\">\n",
              "        \n",
              "  <svg xmlns=\"http://www.w3.org/2000/svg\" height=\"24px\"viewBox=\"0 0 24 24\"\n",
              "       width=\"24px\">\n",
              "    <path d=\"M0 0h24v24H0V0z\" fill=\"none\"/>\n",
              "    <path d=\"M18.56 5.44l.94 2.06.94-2.06 2.06-.94-2.06-.94-.94-2.06-.94 2.06-2.06.94zm-11 1L8.5 8.5l.94-2.06 2.06-.94-2.06-.94L8.5 2.5l-.94 2.06-2.06.94zm10 10l.94 2.06.94-2.06 2.06-.94-2.06-.94-.94-2.06-.94 2.06-2.06.94z\"/><path d=\"M17.41 7.96l-1.37-1.37c-.4-.4-.92-.59-1.43-.59-.52 0-1.04.2-1.43.59L10.3 9.45l-7.72 7.72c-.78.78-.78 2.05 0 2.83L4 21.41c.39.39.9.59 1.41.59.51 0 1.02-.2 1.41-.59l7.78-7.78 2.81-2.81c.8-.78.8-2.07 0-2.86zM5.41 20L4 18.59l7.72-7.72 1.47 1.35L5.41 20z\"/>\n",
              "  </svg>\n",
              "      </button>\n",
              "      \n",
              "  <style>\n",
              "    .colab-df-container {\n",
              "      display:flex;\n",
              "      flex-wrap:wrap;\n",
              "      gap: 12px;\n",
              "    }\n",
              "\n",
              "    .colab-df-convert {\n",
              "      background-color: #E8F0FE;\n",
              "      border: none;\n",
              "      border-radius: 50%;\n",
              "      cursor: pointer;\n",
              "      display: none;\n",
              "      fill: #1967D2;\n",
              "      height: 32px;\n",
              "      padding: 0 0 0 0;\n",
              "      width: 32px;\n",
              "    }\n",
              "\n",
              "    .colab-df-convert:hover {\n",
              "      background-color: #E2EBFA;\n",
              "      box-shadow: 0px 1px 2px rgba(60, 64, 67, 0.3), 0px 1px 3px 1px rgba(60, 64, 67, 0.15);\n",
              "      fill: #174EA6;\n",
              "    }\n",
              "\n",
              "    [theme=dark] .colab-df-convert {\n",
              "      background-color: #3B4455;\n",
              "      fill: #D2E3FC;\n",
              "    }\n",
              "\n",
              "    [theme=dark] .colab-df-convert:hover {\n",
              "      background-color: #434B5C;\n",
              "      box-shadow: 0px 1px 3px 1px rgba(0, 0, 0, 0.15);\n",
              "      filter: drop-shadow(0px 1px 2px rgba(0, 0, 0, 0.3));\n",
              "      fill: #FFFFFF;\n",
              "    }\n",
              "  </style>\n",
              "\n",
              "      <script>\n",
              "        const buttonEl =\n",
              "          document.querySelector('#df-06f73320-f7f7-4219-bc76-71a5efe60550 button.colab-df-convert');\n",
              "        buttonEl.style.display =\n",
              "          google.colab.kernel.accessAllowed ? 'block' : 'none';\n",
              "\n",
              "        async function convertToInteractive(key) {\n",
              "          const element = document.querySelector('#df-06f73320-f7f7-4219-bc76-71a5efe60550');\n",
              "          const dataTable =\n",
              "            await google.colab.kernel.invokeFunction('convertToInteractive',\n",
              "                                                     [key], {});\n",
              "          if (!dataTable) return;\n",
              "\n",
              "          const docLinkHtml = 'Like what you see? Visit the ' +\n",
              "            '<a target=\"_blank\" href=https://colab.research.google.com/notebooks/data_table.ipynb>data table notebook</a>'\n",
              "            + ' to learn more about interactive tables.';\n",
              "          element.innerHTML = '';\n",
              "          dataTable['output_type'] = 'display_data';\n",
              "          await google.colab.output.renderOutput(dataTable, element);\n",
              "          const docLink = document.createElement('div');\n",
              "          docLink.innerHTML = docLinkHtml;\n",
              "          element.appendChild(docLink);\n",
              "        }\n",
              "      </script>\n",
              "    </div>\n",
              "  </div>\n",
              "  "
            ]
          },
          "metadata": {},
          "execution_count": 17
        }
      ]
    },
    {
      "cell_type": "markdown",
      "source": [
        "4. 파일 복사하기"
      ],
      "metadata": {
        "id": "VDw63GMCT0gT"
      }
    },
    {
      "cell_type": "code",
      "source": [
        "!cp /content/chipo.csv ./   # 해당 파일을 해당 경로에 복사 \"./\"는 현재 경로"
      ],
      "metadata": {
        "id": "wi8hbBLkTm5C"
      },
      "execution_count": 16,
      "outputs": []
    },
    {
      "cell_type": "markdown",
      "source": [
        "4-1. 폴더 복사하기"
      ],
      "metadata": {
        "id": "-oHTNwI0UjRW"
      }
    },
    {
      "cell_type": "code",
      "source": [
        "!cp -r /content/test2 ./ # \"-r\"은 옵션값, 구글에 \"리눅스 카피 옵션\" 검색해서 확인해보기"
      ],
      "metadata": {
        "id": "Mz-haamjUUyF"
      },
      "execution_count": 21,
      "outputs": []
    },
    {
      "cell_type": "code",
      "source": [
        "!cp --help"
      ],
      "metadata": {
        "colab": {
          "base_uri": "https://localhost:8080/"
        },
        "id": "Y_DdKE-mVAI4",
        "outputId": "eb19fd99-4e5c-4adf-f10d-5e6a8efe987f"
      },
      "execution_count": 7,
      "outputs": [
        {
          "output_type": "stream",
          "name": "stdout",
          "text": [
            "Usage: cp [OPTION]... [-T] SOURCE DEST\n",
            "  or:  cp [OPTION]... SOURCE... DIRECTORY\n",
            "  or:  cp [OPTION]... -t DIRECTORY SOURCE...\n",
            "Copy SOURCE to DEST, or multiple SOURCE(s) to DIRECTORY.\n",
            "\n",
            "Mandatory arguments to long options are mandatory for short options too.\n",
            "  -a, --archive                same as -dR --preserve=all\n",
            "      --attributes-only        don't copy the file data, just the attributes\n",
            "      --backup[=CONTROL]       make a backup of each existing destination file\n",
            "  -b                           like --backup but does not accept an argument\n",
            "      --copy-contents          copy contents of special files when recursive\n",
            "  -d                           same as --no-dereference --preserve=links\n",
            "  -f, --force                  if an existing destination file cannot be\n",
            "                                 opened, remove it and try again (this option\n",
            "                                 is ignored when the -n option is also used)\n",
            "  -i, --interactive            prompt before overwrite (overrides a previous -n\n",
            "                                  option)\n",
            "  -H                           follow command-line symbolic links in SOURCE\n",
            "  -l, --link                   hard link files instead of copying\n",
            "  -L, --dereference            always follow symbolic links in SOURCE\n",
            "  -n, --no-clobber             do not overwrite an existing file (overrides\n",
            "                                 a previous -i option)\n",
            "  -P, --no-dereference         never follow symbolic links in SOURCE\n",
            "  -p                           same as --preserve=mode,ownership,timestamps\n",
            "      --preserve[=ATTR_LIST]   preserve the specified attributes (default:\n",
            "                                 mode,ownership,timestamps), if possible\n",
            "                                 additional attributes: context, links, xattr,\n",
            "                                 all\n",
            "      --no-preserve=ATTR_LIST  don't preserve the specified attributes\n",
            "      --parents                use full source file name under DIRECTORY\n",
            "  -R, -r, --recursive          copy directories recursively\n",
            "      --reflink[=WHEN]         control clone/CoW copies. See below\n",
            "      --remove-destination     remove each existing destination file before\n",
            "                                 attempting to open it (contrast with --force)\n",
            "      --sparse=WHEN            control creation of sparse files. See below\n",
            "      --strip-trailing-slashes  remove any trailing slashes from each SOURCE\n",
            "                                 argument\n",
            "  -s, --symbolic-link          make symbolic links instead of copying\n",
            "  -S, --suffix=SUFFIX          override the usual backup suffix\n",
            "  -t, --target-directory=DIRECTORY  copy all SOURCE arguments into DIRECTORY\n",
            "  -T, --no-target-directory    treat DEST as a normal file\n",
            "  -u, --update                 copy only when the SOURCE file is newer\n",
            "                                 than the destination file or when the\n",
            "                                 destination file is missing\n",
            "  -v, --verbose                explain what is being done\n",
            "  -x, --one-file-system        stay on this file system\n",
            "  -Z                           set SELinux security context of destination\n",
            "                                 file to default type\n",
            "      --context[=CTX]          like -Z, or if CTX is specified then set the\n",
            "                                 SELinux or SMACK security context to CTX\n",
            "      --help     display this help and exit\n",
            "      --version  output version information and exit\n",
            "\n",
            "By default, sparse SOURCE files are detected by a crude heuristic and the\n",
            "corresponding DEST file is made sparse as well.  That is the behavior\n",
            "selected by --sparse=auto.  Specify --sparse=always to create a sparse DEST\n",
            "file whenever the SOURCE file contains a long enough sequence of zero bytes.\n",
            "Use --sparse=never to inhibit creation of sparse files.\n",
            "\n",
            "When --reflink[=always] is specified, perform a lightweight copy, where the\n",
            "data blocks are copied only when modified.  If this is not possible the copy\n",
            "fails, or if --reflink=auto is specified, fall back to a standard copy.\n",
            "Use --reflink=never to ensure a standard copy is performed.\n",
            "\n",
            "The backup suffix is '~', unless set with --suffix or SIMPLE_BACKUP_SUFFIX.\n",
            "The version control method may be selected via the --backup option or through\n",
            "the VERSION_CONTROL environment variable.  Here are the values:\n",
            "\n",
            "  none, off       never make backups (even if --backup is given)\n",
            "  numbered, t     make numbered backups\n",
            "  existing, nil   numbered if numbered backups exist, simple otherwise\n",
            "  simple, never   always make simple backups\n",
            "\n",
            "As a special case, cp makes a backup of SOURCE when the force and backup\n",
            "options are given and SOURCE and DEST are the same name for an existing,\n",
            "regular file.\n",
            "\n",
            "GNU coreutils online help: <https://www.gnu.org/software/coreutils/>\n",
            "Full documentation at: <https://www.gnu.org/software/coreutils/cp>\n",
            "or available locally via: info '(coreutils) cp invocation'\n"
          ]
        }
      ]
    },
    {
      "cell_type": "code",
      "source": [
        "!cp ./*.csv ./sample_data # 현대 디렉토리의 .csv로 끝나는 파일을 \"sample_data\"에 복사"
      ],
      "metadata": {
        "id": "vJ5EtCapb-Ok"
      },
      "execution_count": 8,
      "outputs": []
    },
    {
      "cell_type": "markdown",
      "source": [
        "5. 파일 이동하기"
      ],
      "metadata": {
        "id": "HuUeNMxAUIZO"
      }
    },
    {
      "cell_type": "code",
      "source": [
        "!mv /content/chipo.csv ./"
      ],
      "metadata": {
        "id": "nhEBSprfUIQd"
      },
      "execution_count": 18,
      "outputs": []
    },
    {
      "cell_type": "markdown",
      "source": [
        "6. 이름 바꾸기"
      ],
      "metadata": {
        "id": "c-8HJHmDVHCX"
      }
    },
    {
      "cell_type": "code",
      "source": [
        "!mv ./chipo.csv ./chipo2.csv"
      ],
      "metadata": {
        "id": "kwytEmFUT-ad"
      },
      "execution_count": 23,
      "outputs": []
    },
    {
      "cell_type": "markdown",
      "source": [
        "7. cpu, 램, 사용중인 프로세스 보기"
      ],
      "metadata": {
        "id": "S0mxUBAgVTNx"
      }
    },
    {
      "cell_type": "code",
      "source": [
        "!top # 딥러닝, 머신러닝 중에는 실행하면 안된다."
      ],
      "metadata": {
        "colab": {
          "base_uri": "https://localhost:8080/"
        },
        "id": "sSdND5ZPVN-1",
        "outputId": "8a89bd9d-14fe-403b-a59a-315aac1f7f82"
      },
      "execution_count": 25,
      "outputs": [
        {
          "output_type": "stream",
          "name": "stdout",
          "text": [
            "\u001b[?1h\u001b=\u001b[H\u001b[2J\u001b[mtop - 02:00:54 up 19 min,  0 users,  load average: 0.22, 0.24, 0.24\u001b[m\u001b[m\u001b[m\u001b[m\u001b[K\n",
            "Tasks:\u001b[m\u001b[m\u001b[1m  15 \u001b[m\u001b[mtotal,\u001b[m\u001b[m\u001b[1m   1 \u001b[m\u001b[mrunning,\u001b[m\u001b[m\u001b[1m  13 \u001b[m\u001b[msleeping,\u001b[m\u001b[m\u001b[1m   0 \u001b[m\u001b[mstopped,\u001b[m\u001b[m\u001b[1m   1 \u001b[m\u001b[mzombie\u001b[m\u001b[m\u001b[m\u001b[m\u001b[K\n",
            "%Cpu(s):\u001b[m\u001b[m\u001b[1m  3.2 \u001b[m\u001b[mus,\u001b[m\u001b[m\u001b[1m  3.2 \u001b[m\u001b[msy,\u001b[m\u001b[m\u001b[1m  0.0 \u001b[m\u001b[mni,\u001b[m\u001b[m\u001b[1m 93.5 \u001b[m\u001b[mid,\u001b[m\u001b[m\u001b[1m  0.0 \u001b[m\u001b[mwa,\u001b[m\u001b[m\u001b[1m  0.0 \u001b[m\u001b[mhi,\u001b[m\u001b[m\u001b[1m  0.0 \u001b[m\u001b[msi,\u001b[m\u001b[m\u001b[1m  0.0 \u001b[m\u001b[mst\u001b[m\u001b[m\u001b[m\u001b[m\u001b[K\n",
            "MiB Mem :\u001b[m\u001b[m\u001b[1m  12985.5 \u001b[m\u001b[mtotal,\u001b[m\u001b[m\u001b[1m   8883.7 \u001b[m\u001b[mfree,\u001b[m\u001b[m\u001b[1m    939.0 \u001b[m\u001b[mused,\u001b[m\u001b[m\u001b[1m   3162.9 \u001b[m\u001b[mbuff/cache\u001b[m\u001b[m\u001b[m\u001b[m\u001b[K\n",
            "MiB Swap:\u001b[m\u001b[m\u001b[1m      0.0 \u001b[m\u001b[mtotal,\u001b[m\u001b[m\u001b[1m      0.0 \u001b[m\u001b[mfree,\u001b[m\u001b[m\u001b[1m      0.0 \u001b[m\u001b[mused.\u001b[m\u001b[m\u001b[1m  11765.0 \u001b[m\u001b[mavail Mem \u001b[m\u001b[m\u001b[m\u001b[m\u001b[K\n",
            "\u001b[K\n",
            "\u001b[7m    PID USER      PR  NI    VIRT    RES    SHR S  %CPU  %MEM     TIME+ COMMAND  \u001b[m\u001b[m\u001b[K\n",
            "\u001b[m     78 root      20   0  556664 153000  48688 S   6.7   1.2   0:05.78 jupyter+ \u001b[m\u001b[m\u001b[K\n",
            "\u001b[m    166 root      20   0 1285476 190076  61896 S   6.7   1.4   0:10.48 python3  \u001b[m\u001b[m\u001b[K\n",
            "\u001b[m\u001b[1m   5089 root      20   0    9128   3584   3084 R   6.7   0.0   0:00.01 top      \u001b[m\u001b[m\u001b[K\n",
            "\u001b[m      1 root      20   0    1012      8      0 S   0.0   0.0   0:00.60 docker-+ \u001b[m\u001b[m\u001b[K\n",
            "\u001b[m      7 root      20   0  898076  51992  30768 S   0.0   0.4   0:05.62 node     \u001b[m\u001b[m\u001b[K\n",
            "\u001b[m     19 root      20   0    5524    576    508 S   0.0   0.0   0:00.60 tail     \u001b[m\u001b[m\u001b[K\n",
            "\u001b[m     30 root      20   0    6904   3256   2964 S   0.0   0.0   0:00.61 oom_mon+ \u001b[m\u001b[m\u001b[K\n",
            "\u001b[m     32 root      20   0    6904   1612   1340 S   0.0   0.0   0:00.00 run.sh   \u001b[m\u001b[m\u001b[K\n",
            "\u001b[m     33 root      20   0  722040  15292   8180 S   0.0   0.1   0:00.66 kernel_+ \u001b[m\u001b[m\u001b[K\n",
            "\u001b[m     60 root      20   0       0      0      0 Z   0.0   0.0   0:06.26 python3  \u001b[m\u001b[m\u001b[K\n",
            "\u001b[m     61 root      20   0   77500  44436  12940 S   0.0   0.3   0:00.75 colab-f+ \u001b[m\u001b[m\u001b[K\n",
            "\u001b[m     79 root      20   0  713148   8732   2864 S   0.0   0.1   0:00.80 dap_mul+ \u001b[m\u001b[m\u001b[K\n",
            "\u001b[m    201 root      20   0  538116  14456   5548 S   0.0   0.1   0:01.31 python3  \u001b[m\u001b[m\u001b[K\n",
            "\u001b[m    236 root      20   0 1105192 359792  29512 S   0.0   2.7   1:03.22 node     \u001b[m\u001b[m\u001b[K\n",
            "\u001b[m   5088 root      20   0    5488    588    516 S   0.0   0.0   0:00.00 sleep    \u001b[m\u001b[m\u001b[K\n",
            "\u001b[J\u001b[?1l\u001b>\u001b[25;1H\n",
            "\u001b[K"
          ]
        }
      ]
    },
    {
      "cell_type": "markdown",
      "source": [
        "8. GPU 종류와 VRAM 용량 확인 ****매우 중요***"
      ],
      "metadata": {
        "id": "B3bMf3xVWDyc"
      }
    },
    {
      "cell_type": "code",
      "source": [
        "!nvidia-smi"
      ],
      "metadata": {
        "colab": {
          "base_uri": "https://localhost:8080/"
        },
        "id": "i7tlZ2wHVYrZ",
        "outputId": "370a6583-6987-4648-e0ae-ebc6859ca86b"
      },
      "execution_count": 1,
      "outputs": [
        {
          "output_type": "stream",
          "name": "stdout",
          "text": [
            "Thu Apr 13 02:02:13 2023       \n",
            "+-----------------------------------------------------------------------------+\n",
            "| NVIDIA-SMI 525.85.12    Driver Version: 525.85.12    CUDA Version: 12.0     |\n",
            "|-------------------------------+----------------------+----------------------+\n",
            "| GPU  Name        Persistence-M| Bus-Id        Disp.A | Volatile Uncorr. ECC |\n",
            "| Fan  Temp  Perf  Pwr:Usage/Cap|         Memory-Usage | GPU-Util  Compute M. |\n",
            "|                               |                      |               MIG M. |\n",
            "|===============================+======================+======================|\n",
            "|   0  Tesla T4            Off  | 00000000:00:04.0 Off |                    0 |\n",
            "| N/A   48C    P8    11W /  70W |      0MiB / 15360MiB |      0%      Default |\n",
            "|                               |                      |                  N/A |\n",
            "+-------------------------------+----------------------+----------------------+\n",
            "                                                                               \n",
            "+-----------------------------------------------------------------------------+\n",
            "| Processes:                                                                  |\n",
            "|  GPU   GI   CI        PID   Type   Process name                  GPU Memory |\n",
            "|        ID   ID                                                   Usage      |\n",
            "|=============================================================================|\n",
            "|  No running processes found                                                 |\n",
            "+-----------------------------------------------------------------------------+\n"
          ]
        }
      ]
    },
    {
      "cell_type": "markdown",
      "source": [
        "9. 프로세스 끄기"
      ],
      "metadata": {
        "id": "GmQqBnn5W3lp"
      }
    },
    {
      "cell_type": "code",
      "source": [
        "!kill -9 프로세스아이디 # '-9'는 레벨, 강제종료"
      ],
      "metadata": {
        "id": "d-oPELmVWR1F"
      },
      "execution_count": null,
      "outputs": []
    },
    {
      "cell_type": "markdown",
      "source": [
        "10. 파일들의 권한 및 모든 정보 확인하기"
      ],
      "metadata": {
        "id": "TEG9P3RFadTW"
      }
    },
    {
      "cell_type": "code",
      "source": [
        "!ls -al # \".\" 현재 디렉토리, \"..\"부모. *나머지들은 찾아보기"
      ],
      "metadata": {
        "colab": {
          "base_uri": "https://localhost:8080/"
        },
        "id": "PcPNEOuYagmw",
        "outputId": "8899cece-ca26-40fa-ffc6-fba385de5bcc"
      },
      "execution_count": 1,
      "outputs": [
        {
          "output_type": "stream",
          "name": "stdout",
          "text": [
            "total 16\n",
            "drwxr-xr-x 1 root root 4096 Apr 11 13:33 .\n",
            "drwxr-xr-x 1 root root 4096 Apr 13 02:14 ..\n",
            "drwxr-xr-x 4 root root 4096 Apr 11 13:32 .config\n",
            "drwxr-xr-x 1 root root 4096 Apr 11 13:33 sample_data\n"
          ]
        }
      ]
    },
    {
      "cell_type": "markdown",
      "source": [
        "11. 특정 정보만 조회하기"
      ],
      "metadata": {
        "id": "MV_Xc6mebdew"
      }
    },
    {
      "cell_type": "code",
      "source": [
        "!ls *.csv # 'csv'로 끝나는 파일만 조회"
      ],
      "metadata": {
        "colab": {
          "base_uri": "https://localhost:8080/"
        },
        "id": "D01Coi4saiAC",
        "outputId": "d61f0d31-72a4-44c3-8703-8dc0cfcbb839"
      },
      "execution_count": 2,
      "outputs": [
        {
          "output_type": "stream",
          "name": "stdout",
          "text": [
            "Jeju.csv  titanic.csv\n"
          ]
        }
      ]
    },
    {
      "cell_type": "code",
      "source": [
        "!ls -al *.csv # 파일의 정보를 추가로 조회"
      ],
      "metadata": {
        "colab": {
          "base_uri": "https://localhost:8080/"
        },
        "id": "B0So_MKtbg0Q",
        "outputId": "1ead84b3-1d5a-44b2-ab42-fd840a5e504d"
      },
      "execution_count": 6,
      "outputs": [
        {
          "output_type": "stream",
          "name": "stdout",
          "text": [
            "-rw-r--r-- 1 root root 1125558 Apr 13 02:24 Jeju.csv\n",
            "-rw-r--r-- 1 root root   60302 Apr 13 02:24 titanic.csv\n"
          ]
        }
      ]
    },
    {
      "cell_type": "markdown",
      "source": [
        "12. 권한 바꾸기 *매우 중요"
      ],
      "metadata": {
        "id": "mHV5heQecMbE"
      }
    },
    {
      "cell_type": "code",
      "source": [
        "!ls -al\n",
        "\n",
        "#421421421\n",
        "#drwxrwxrwx"
      ],
      "metadata": {
        "colab": {
          "base_uri": "https://localhost:8080/"
        },
        "id": "FIcJGkhdbqgU",
        "outputId": "5a1d6158-dc61-4c4b-ce0e-3c8dd2265179"
      },
      "execution_count": 9,
      "outputs": [
        {
          "output_type": "stream",
          "name": "stdout",
          "text": [
            "total 1208\n",
            "drwxr-xr-x 1 root root    4096 Apr 13 02:24 .\n",
            "drwxr-xr-x 1 root root    4096 Apr 13 02:14 ..\n",
            "drwxr-xr-x 4 root root    4096 Apr 11 13:32 .config\n",
            "-rw-r--r-- 1 root root   28330 Apr 13 02:24 판다스문제.ipynb\n",
            "-rw-r--r-- 1 root root 1125558 Apr 13 02:24 Jeju.csv\n",
            "drwxr-xr-x 1 root root    4096 Apr 13 02:27 sample_data\n",
            "-rw-r--r-- 1 root root   60302 Apr 13 02:24 titanic.csv\n"
          ]
        }
      ]
    },
    {
      "cell_type": "code",
      "source": [
        "!chmod 777 ./Jeju.csv # 777 은 위의 4+2+1, 4+2+1, 4+2+1"
      ],
      "metadata": {
        "id": "qgBqDi2xcVEP"
      },
      "execution_count": 12,
      "outputs": []
    },
    {
      "cell_type": "code",
      "source": [
        "!ls -al"
      ],
      "metadata": {
        "colab": {
          "base_uri": "https://localhost:8080/"
        },
        "id": "zp-ZK8Dwctd9",
        "outputId": "765e5989-9ee3-4e86-b1ba-4cacd5876288"
      },
      "execution_count": 13,
      "outputs": [
        {
          "output_type": "stream",
          "name": "stdout",
          "text": [
            "total 1208\n",
            "drwxr-xr-x 1 root root    4096 Apr 13 02:24 .\n",
            "drwxr-xr-x 1 root root    4096 Apr 13 02:14 ..\n",
            "drwxr-xr-x 4 root root    4096 Apr 11 13:32 .config\n",
            "-rw-r--r-- 1 root root   28330 Apr 13 02:24 판다스문제.ipynb\n",
            "-rwxrwxrwx 1 root root 1125558 Apr 13 02:24 Jeju.csv\n",
            "drwxr-xr-x 1 root root    4096 Apr 13 02:27 sample_data\n",
            "-rw-r--r-- 1 root root   60302 Apr 13 02:24 titanic.csv\n"
          ]
        }
      ]
    },
    {
      "cell_type": "code",
      "source": [
        "!chmod 555 ./Jeju.csv # 555는 r-x, r-x, r-x"
      ],
      "metadata": {
        "id": "rHu28sURc3Pe"
      },
      "execution_count": 14,
      "outputs": []
    },
    {
      "cell_type": "code",
      "source": [
        "!ls -al"
      ],
      "metadata": {
        "colab": {
          "base_uri": "https://localhost:8080/"
        },
        "id": "YLkZpKUmdC4Y",
        "outputId": "fef1c16f-2518-4879-c0a7-9cccc4d4f22c"
      },
      "execution_count": 15,
      "outputs": [
        {
          "output_type": "stream",
          "name": "stdout",
          "text": [
            "total 1208\n",
            "drwxr-xr-x 1 root root    4096 Apr 13 02:24 .\n",
            "drwxr-xr-x 1 root root    4096 Apr 13 02:14 ..\n",
            "drwxr-xr-x 4 root root    4096 Apr 11 13:32 .config\n",
            "-rw-r--r-- 1 root root   28330 Apr 13 02:24 판다스문제.ipynb\n",
            "-r-xr-xr-x 1 root root 1125558 Apr 13 02:24 Jeju.csv\n",
            "drwxr-xr-x 1 root root    4096 Apr 13 02:27 sample_data\n",
            "-rw-r--r-- 1 root root   60302 Apr 13 02:24 titanic.csv\n"
          ]
        }
      ]
    },
    {
      "cell_type": "markdown",
      "source": [
        "13. 폴더 및 그 안에 있는 폴더도 싹다 권한 바꾸기"
      ],
      "metadata": {
        "id": "iXh7-dindbUz"
      }
    },
    {
      "cell_type": "code",
      "source": [
        "!ls -al ./test/ # test폴더 안의 파일을 전부 출력"
      ],
      "metadata": {
        "colab": {
          "base_uri": "https://localhost:8080/"
        },
        "id": "M72plzSKdFDa",
        "outputId": "92405ef1-1fa4-4616-a7b7-73f6dbd2f0e9"
      },
      "execution_count": 17,
      "outputs": [
        {
          "output_type": "stream",
          "name": "stdout",
          "text": [
            "total 1172\n",
            "drwxr-xr-x 2 root root    4096 Apr 13 02:33 .\n",
            "drwxr-xr-x 1 root root    4096 Apr 13 02:33 ..\n",
            "-r-xr-xr-x 1 root root 1125558 Apr 13 02:24 Jeju.csv\n",
            "-rw-r--r-- 1 root root   60302 Apr 13 02:24 titanic.csv\n"
          ]
        }
      ]
    },
    {
      "cell_type": "code",
      "source": [
        "!chmod 777 -R ./test # 테스트 폴더 안에 있는 파일까지 '-R':디렉토리 포함해서 하부요소를 전부 바꿈"
      ],
      "metadata": {
        "id": "VO4K0_PNdkUa"
      },
      "execution_count": 20,
      "outputs": []
    },
    {
      "cell_type": "code",
      "source": [
        "!ls -al ./test/"
      ],
      "metadata": {
        "colab": {
          "base_uri": "https://localhost:8080/"
        },
        "id": "giFav-Z8dwUy",
        "outputId": "3d8d8ead-ba79-4d98-eab7-86bc826588b1"
      },
      "execution_count": 21,
      "outputs": [
        {
          "output_type": "stream",
          "name": "stdout",
          "text": [
            "total 1172\n",
            "drwxrwxrwx 2 root root    4096 Apr 13 02:33 .\n",
            "drwxr-xr-x 1 root root    4096 Apr 13 02:33 ..\n",
            "-rwxrwxrwx 1 root root 1125558 Apr 13 02:24 Jeju.csv\n",
            "-rwxrwxrwx 1 root root   60302 Apr 13 02:24 titanic.csv\n"
          ]
        }
      ]
    },
    {
      "cell_type": "markdown",
      "source": [
        "14. 파일 삭제하기"
      ],
      "metadata": {
        "id": "TgcyaTpPeUGV"
      }
    },
    {
      "cell_type": "code",
      "source": [
        "!rm 판다스문제.ipynb"
      ],
      "metadata": {
        "id": "799w099CdyKK"
      },
      "execution_count": 22,
      "outputs": []
    },
    {
      "cell_type": "code",
      "source": [
        "!rm test # 'test'는 폴더이기 때문에 그냥은 못지운다."
      ],
      "metadata": {
        "colab": {
          "base_uri": "https://localhost:8080/"
        },
        "id": "DjUvszS8edkF",
        "outputId": "927c94d9-a120-4435-9ead-f821f893c909"
      },
      "execution_count": 23,
      "outputs": [
        {
          "output_type": "stream",
          "name": "stdout",
          "text": [
            "rm: cannot remove 'test': Is a directory\n"
          ]
        }
      ]
    },
    {
      "cell_type": "code",
      "source": [
        "!rm -r test"
      ],
      "metadata": {
        "id": "Iq8u0jFzeflx"
      },
      "execution_count": 24,
      "outputs": []
    },
    {
      "cell_type": "markdown",
      "source": [
        "15. 컴퓨터 용량 확인하기"
      ],
      "metadata": {
        "id": "GNrU3Lb2ewFO"
      }
    },
    {
      "cell_type": "code",
      "source": [
        "!df -h"
      ],
      "metadata": {
        "colab": {
          "base_uri": "https://localhost:8080/"
        },
        "id": "uB35I4erev6H",
        "outputId": "6c62b11c-37ad-44e1-d456-ab79a1b64d05"
      },
      "execution_count": 25,
      "outputs": [
        {
          "output_type": "stream",
          "name": "stdout",
          "text": [
            "Filesystem      Size  Used Avail Use% Mounted on\n",
            "overlay         108G   24G   85G  22% /\n",
            "tmpfs            64M     0   64M   0% /dev\n",
            "shm             5.8G     0  5.8G   0% /dev/shm\n",
            "/dev/root       2.0G  1.1G  841M  58% /usr/sbin/docker-init\n",
            "tmpfs           6.4G  4.3M  6.4G   1% /var/colab\n",
            "/dev/sda1        70G   42G   28G  61% /etc/hosts\n",
            "tmpfs           6.4G     0  6.4G   0% /proc/acpi\n",
            "tmpfs           6.4G     0  6.4G   0% /proc/scsi\n",
            "tmpfs           6.4G     0  6.4G   0% /sys/firmware\n"
          ]
        }
      ]
    },
    {
      "cell_type": "markdown",
      "source": [],
      "metadata": {
        "id": "WGhOklqotUbd"
      }
    },
    {
      "cell_type": "markdown",
      "source": [
        "16. 파일찾기"
      ],
      "metadata": {
        "id": "RAYzontCfDKc"
      }
    },
    {
      "cell_type": "code",
      "source": [
        "#숙제\n",
        "!find #를 사용해서 파일을 찾는 방법을 알아오기"
      ],
      "metadata": {
        "colab": {
          "base_uri": "https://localhost:8080/"
        },
        "id": "rq4bI-jtelh4",
        "outputId": "f0d4b659-a011-47f2-aaa0-3822c53bfb78"
      },
      "execution_count": 26,
      "outputs": [
        {
          "output_type": "stream",
          "name": "stdout",
          "text": [
            ".\n",
            "./.config\n",
            "./.config/.last_opt_in_prompt.yaml\n",
            "./.config/.last_survey_prompt.yaml\n",
            "./.config/configurations\n",
            "./.config/configurations/config_default\n",
            "./.config/.last_update_check.json\n",
            "./.config/gce\n",
            "./.config/logs\n",
            "./.config/logs/2023.04.11\n",
            "./.config/logs/2023.04.11/13.32.15.805715.log\n",
            "./.config/logs/2023.04.11/13.32.23.789326.log\n",
            "./.config/logs/2023.04.11/13.32.49.233306.log\n",
            "./.config/logs/2023.04.11/13.32.48.459537.log\n",
            "./.config/logs/2023.04.11/13.31.51.872689.log\n",
            "./.config/logs/2023.04.11/13.31.26.214808.log\n",
            "./.config/config_sentinel\n",
            "./.config/active_config\n",
            "./sample_data\n",
            "./sample_data/anscombe.json\n",
            "./sample_data/README.md\n",
            "./sample_data/Jeju.csv\n",
            "./sample_data/titanic.csv\n",
            "./sample_data/mnist_train_small.csv\n",
            "./sample_data/california_housing_test.csv\n",
            "./sample_data/mnist_test.csv\n",
            "./sample_data/california_housing_train.csv\n",
            "./.ipynb_checkpoints\n"
          ]
        }
      ]
    },
    {
      "cell_type": "code",
      "source": [
        "# 아나콘다 베이스\n",
        "# 실제 pc에 설치한 것처럼 가상환경을 구성"
      ],
      "metadata": {
        "id": "RANiwKFwx6nz"
      },
      "execution_count": 27,
      "outputs": []
    },
    {
      "cell_type": "code",
      "source": [
        "#\n",
        "#\n",
        "# 데이터 크롤링\n",
        "#\n",
        "#"
      ],
      "metadata": {
        "id": "dbsyqT9d4RpH"
      },
      "execution_count": 28,
      "outputs": []
    },
    {
      "cell_type": "code",
      "source": [
        "# HTML은 Hyper Text Markup Language"
      ],
      "metadata": {
        "id": "kkck3cA14UPt"
      },
      "execution_count": 29,
      "outputs": []
    },
    {
      "cell_type": "code",
      "source": [
        "# VS에서 web에서 갖고있는 파이썬을 사용하는것을 '인터프리터' 설정"
      ],
      "metadata": {
        "id": "x8MKFpVa8BKc"
      },
      "execution_count": 30,
      "outputs": []
    },
    {
      "cell_type": "code",
      "source": [
        "# vs 하단의 Terminal 옆의 + 버튼 옆의 화살표를 누르고 Power Shell"
      ],
      "metadata": {
        "id": "HbIb462S8WDg"
      },
      "execution_count": null,
      "outputs": []
    }
  ]
}