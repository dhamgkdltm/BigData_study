{
  "nbformat": 4,
  "nbformat_minor": 0,
  "metadata": {
    "colab": {
      "provenance": []
    },
    "kernelspec": {
      "name": "python3",
      "display_name": "Python 3"
    },
    "language_info": {
      "name": "python"
    },
    "gpuClass": "standard"
  },
  "cells": [
    {
      "cell_type": "code",
      "execution_count": null,
      "metadata": {
        "colab": {
          "base_uri": "https://localhost:8080/"
        },
        "id": "wJUhUQ8bSY9O",
        "outputId": "36a9cf2a-6499-4e7d-cf9b-dbba2e2b2a09"
      },
      "outputs": [
        {
          "output_type": "execute_result",
          "data": {
            "text/plain": [
              "314.0"
            ]
          },
          "metadata": {},
          "execution_count": 1
        }
      ],
      "source": [
        "3.14 * 10 * 10"
      ]
    },
    {
      "cell_type": "code",
      "source": [
        "3.14 * 10**2"
      ],
      "metadata": {
        "colab": {
          "base_uri": "https://localhost:8080/"
        },
        "id": "6cY-q8ofTEwM",
        "outputId": "adfd95f7-438b-4a9e-fc4c-805a4f8cac84"
      },
      "execution_count": null,
      "outputs": [
        {
          "output_type": "execute_result",
          "data": {
            "text/plain": [
              "314.0"
            ]
          },
          "metadata": {},
          "execution_count": 3
        }
      ]
    },
    {
      "cell_type": "code",
      "source": [
        "import math\n",
        "math.sin(40)"
      ],
      "metadata": {
        "colab": {
          "base_uri": "https://localhost:8080/"
        },
        "id": "raaTK6OaTNiD",
        "outputId": "9f2ad16e-1010-4750-f516-f5d0ef5dfc62"
      },
      "execution_count": null,
      "outputs": [
        {
          "output_type": "execute_result",
          "data": {
            "text/plain": [
              "0.7451131604793488"
            ]
          },
          "metadata": {},
          "execution_count": 5
        }
      ]
    },
    {
      "cell_type": "code",
      "source": [
        "\"안녕하세요\""
      ],
      "metadata": {
        "colab": {
          "base_uri": "https://localhost:8080/",
          "height": 35
        },
        "id": "9h6-a3FATfFt",
        "outputId": "847d56d2-3531-4849-f1a1-4d6c8d4d3ff2"
      },
      "execution_count": null,
      "outputs": [
        {
          "output_type": "execute_result",
          "data": {
            "text/plain": [
              "'안녕하세요'"
            ],
            "application/vnd.google.colaboratory.intrinsic+json": {
              "type": "string"
            }
          },
          "metadata": {},
          "execution_count": 6
        }
      ]
    },
    {
      "cell_type": "code",
      "source": [
        "print(\"Hello World!\")"
      ],
      "metadata": {
        "colab": {
          "base_uri": "https://localhost:8080/"
        },
        "id": "QbV2pJ9cTrgn",
        "outputId": "97e8e98b-1bd6-413e-b48b-5cb291db4555"
      },
      "execution_count": null,
      "outputs": [
        {
          "output_type": "stream",
          "name": "stdout",
          "text": [
            "Hello World!\n"
          ]
        }
      ]
    },
    {
      "cell_type": "code",
      "source": [
        "print(\"결과값은\", 10, \"입니다\")"
      ],
      "metadata": {
        "colab": {
          "base_uri": "https://localhost:8080/"
        },
        "id": "GbO5SzPwTyiX",
        "outputId": "fce89a4a-1c9f-48e1-83a7-15c5a1067a38"
      },
      "execution_count": null,
      "outputs": [
        {
          "output_type": "stream",
          "name": "stdout",
          "text": [
            "결과값은 10 입니다\n"
          ]
        }
      ]
    },
    {
      "cell_type": "code",
      "source": [
        "print(\"나의\" + \"고양이\")"
      ],
      "metadata": {
        "colab": {
          "base_uri": "https://localhost:8080/"
        },
        "id": "TW4OXpXLUJYK",
        "outputId": "5e12a5f6-a1ae-4813-e555-f5a03b1cfbee"
      },
      "execution_count": null,
      "outputs": [
        {
          "output_type": "stream",
          "name": "stdout",
          "text": [
            "나의고양이\n"
          ]
        }
      ]
    },
    {
      "cell_type": "code",
      "source": [
        "print(\"야옹\" * 10 )"
      ],
      "metadata": {
        "colab": {
          "base_uri": "https://localhost:8080/"
        },
        "id": "X5JpEMZYUc2Y",
        "outputId": "d572f6f8-e470-4e0c-fa1a-05286160b64d"
      },
      "execution_count": null,
      "outputs": [
        {
          "output_type": "stream",
          "name": "stdout",
          "text": [
            "야옹야옹야옹야옹야옹야옹야옹야옹야옹야옹\n"
          ]
        }
      ]
    },
    {
      "cell_type": "code",
      "source": [
        "print(\"2+3=\", 2+3)"
      ],
      "metadata": {
        "colab": {
          "base_uri": "https://localhost:8080/"
        },
        "id": "bMIS8ns_Ught",
        "outputId": "e8d397f0-f91e-4ff5-b6e3-894ca653dc3b"
      },
      "execution_count": null,
      "outputs": [
        {
          "output_type": "stream",
          "name": "stdout",
          "text": [
            "2+3= 5\n"
          ]
        }
      ]
    },
    {
      "cell_type": "code",
      "source": [
        "x = 10000\n",
        "y = 20000"
      ],
      "metadata": {
        "id": "rRcopfS9Uqgm"
      },
      "execution_count": null,
      "outputs": []
    },
    {
      "cell_type": "code",
      "source": [
        "print(x + y)"
      ],
      "metadata": {
        "colab": {
          "base_uri": "https://localhost:8080/"
        },
        "id": "kemO44wuVGWt",
        "outputId": "7e872c56-0149-4c57-a624-6d031a68524a"
      },
      "execution_count": null,
      "outputs": [
        {
          "output_type": "stream",
          "name": "stdout",
          "text": [
            "30000\n"
          ]
        }
      ]
    },
    {
      "cell_type": "code",
      "source": [
        "radius = 10"
      ],
      "metadata": {
        "id": "zeNncmufVI-2"
      },
      "execution_count": null,
      "outputs": []
    },
    {
      "cell_type": "code",
      "source": [
        "area = 3.14 * radius**2"
      ],
      "metadata": {
        "id": "cJ75ziCNVaXX"
      },
      "execution_count": null,
      "outputs": []
    },
    {
      "cell_type": "code",
      "source": [
        "print(\"반지름이\", radius,\"인 원의 면적은 \", area, \"입니다\")"
      ],
      "metadata": {
        "colab": {
          "base_uri": "https://localhost:8080/"
        },
        "id": "DxL9KpCpVf7F",
        "outputId": "74ea9903-01ed-4345-efd8-7bb9b3af1c04"
      },
      "execution_count": null,
      "outputs": [
        {
          "output_type": "stream",
          "name": "stdout",
          "text": [
            "반지름이 10 인 원의 면적은  314.0 입니다\n"
          ]
        }
      ]
    },
    {
      "cell_type": "code",
      "source": [
        "type(area)"
      ],
      "metadata": {
        "colab": {
          "base_uri": "https://localhost:8080/"
        },
        "id": "Tl6RLpOwVosc",
        "outputId": "5ce7117c-8247-4723-b755-5035976ff368"
      },
      "execution_count": null,
      "outputs": [
        {
          "output_type": "execute_result",
          "data": {
            "text/plain": [
              "float"
            ]
          },
          "metadata": {},
          "execution_count": 19
        }
      ]
    },
    {
      "cell_type": "code",
      "source": [
        "type(x)"
      ],
      "metadata": {
        "colab": {
          "base_uri": "https://localhost:8080/"
        },
        "id": "JwYasy_pWxCJ",
        "outputId": "6a4faea4-7764-43a4-c979-b6738ad0ca94"
      },
      "execution_count": null,
      "outputs": [
        {
          "output_type": "execute_result",
          "data": {
            "text/plain": [
              "int"
            ]
          },
          "metadata": {},
          "execution_count": 20
        }
      ]
    },
    {
      "cell_type": "code",
      "source": [
        "type(12.30)\n",
        "type(\"hello\")"
      ],
      "metadata": {
        "colab": {
          "base_uri": "https://localhost:8080/"
        },
        "id": "WNlfM1IKW2f_",
        "outputId": "f3f2c7c2-a4f9-48f6-dd43-6499e21cb2c7"
      },
      "execution_count": null,
      "outputs": [
        {
          "output_type": "execute_result",
          "data": {
            "text/plain": [
              "str"
            ]
          },
          "metadata": {},
          "execution_count": 21
        }
      ]
    },
    {
      "cell_type": "code",
      "source": [
        "type(12.30)"
      ],
      "metadata": {
        "colab": {
          "base_uri": "https://localhost:8080/"
        },
        "id": "JAJyMJt6W-4H",
        "outputId": "efb7ae8e-2cf5-4088-9426-5d17f5eba60c"
      },
      "execution_count": null,
      "outputs": [
        {
          "output_type": "execute_result",
          "data": {
            "text/plain": [
              "float"
            ]
          },
          "metadata": {},
          "execution_count": 22
        }
      ]
    },
    {
      "cell_type": "code",
      "source": [
        "x = y = z = 10"
      ],
      "metadata": {
        "id": "kISs2tSeXBOs"
      },
      "execution_count": null,
      "outputs": []
    },
    {
      "cell_type": "code",
      "source": [
        "x,y,z = 10,20,30"
      ],
      "metadata": {
        "id": "uwRWmTz7XkIE"
      },
      "execution_count": null,
      "outputs": []
    },
    {
      "cell_type": "code",
      "source": [
        "x = 1000\n",
        "print(\"x의 초기값 x=\", x)\n",
        "x +=2\n",
        "print(\"x += 2 후의 x=\", x)\n",
        "x -= 2\n",
        "print(\"x -= 2 후의 x=\", x)"
      ],
      "metadata": {
        "colab": {
          "base_uri": "https://localhost:8080/"
        },
        "id": "zCCMDthXXrE6",
        "outputId": "f308b349-7007-4d16-821d-fbf36bf57fea"
      },
      "execution_count": null,
      "outputs": [
        {
          "output_type": "stream",
          "name": "stdout",
          "text": [
            "x의 초기값 x= 1000\n",
            "x += 2 후의 x= 1002\n",
            "x -= 2 후의 x= 1000\n"
          ]
        }
      ]
    },
    {
      "cell_type": "code",
      "source": [
        "x = 3.14\n",
        "\n",
        "y = str(x)\n",
        "\n",
        "print(y)\n",
        "print(type(y))"
      ],
      "metadata": {
        "colab": {
          "base_uri": "https://localhost:8080/"
        },
        "id": "O4OTpbV_X6P5",
        "outputId": "a43d1cd1-8819-4851-c0dd-b39429a2c43e"
      },
      "execution_count": null,
      "outputs": [
        {
          "output_type": "stream",
          "name": "stdout",
          "text": [
            "3.14\n",
            "<class 'str'>\n"
          ]
        }
      ]
    },
    {
      "cell_type": "code",
      "source": [
        "price = 12345\n",
        "tax = price * 0.075\n",
        "tax = round(tax, 2)\n",
        "print(tax)"
      ],
      "metadata": {
        "colab": {
          "base_uri": "https://localhost:8080/"
        },
        "id": "XuiNWT8IYyrQ",
        "outputId": "99c760e9-d1c5-4e6e-e685-258c2331adf9"
      },
      "execution_count": null,
      "outputs": [
        {
          "output_type": "stream",
          "name": "stdout",
          "text": [
            "925.88\n"
          ]
        }
      ]
    },
    {
      "cell_type": "code",
      "source": [
        "msg = \"철수가 '안녕'이라고 말했습니다\""
      ],
      "metadata": {
        "id": "-U-fea9QZCwT"
      },
      "execution_count": null,
      "outputs": []
    },
    {
      "cell_type": "code",
      "source": [
        "print(msg)"
      ],
      "metadata": {
        "colab": {
          "base_uri": "https://localhost:8080/"
        },
        "id": "sUU2V5M2ZzLB",
        "outputId": "3e451917-97b5-4a8c-8816-d8f0c1ee4007"
      },
      "execution_count": null,
      "outputs": [
        {
          "output_type": "stream",
          "name": "stdout",
          "text": [
            "철수가 '안녕'이라고 말했습니다\n"
          ]
        }
      ]
    },
    {
      "cell_type": "code",
      "source": [
        "# 문단째로 저장할 땐 큰 따옴표 3개를 사용, 여러줄을 주석처리할 때에도 사용\n",
        "a = \"\"\"안녕하세요\n",
        "오승환입니다.\"\"\""
      ],
      "metadata": {
        "id": "vLEqRCbSZ1NO"
      },
      "execution_count": null,
      "outputs": []
    },
    {
      "cell_type": "code",
      "source": [
        "print(a)"
      ],
      "metadata": {
        "colab": {
          "base_uri": "https://localhost:8080/"
        },
        "id": "rJBTvKPqZ9mh",
        "outputId": "d0146876-845d-481d-978e-0d9ebac106e6"
      },
      "execution_count": null,
      "outputs": [
        {
          "output_type": "stream",
          "name": "stdout",
          "text": [
            "안녕하세요\n",
            "오승환입니다.\n"
          ]
        }
      ]
    },
    {
      "cell_type": "code",
      "source": [
        "print(\"말 한마디로\\n천냥빚을 갚는다\")"
      ],
      "metadata": {
        "colab": {
          "base_uri": "https://localhost:8080/"
        },
        "id": "r5ifXe--Z_A7",
        "outputId": "33bbced1-f880-4029-f328-2e642e30dabe"
      },
      "execution_count": null,
      "outputs": [
        {
          "output_type": "stream",
          "name": "stdout",
          "text": [
            "말 한마디로\n",
            "천냥빚을 갚는다\n"
          ]
        }
      ]
    },
    {
      "cell_type": "code",
      "source": [
        "print(\"말\\t한마디로 천냥빚을 갚는다\")"
      ],
      "metadata": {
        "colab": {
          "base_uri": "https://localhost:8080/"
        },
        "id": "S5ELYSV2dGym",
        "outputId": "c614f07b-9559-4557-ff6f-3de91bbcf765"
      },
      "execution_count": null,
      "outputs": [
        {
          "output_type": "stream",
          "name": "stdout",
          "text": [
            "말\t한마디로 천냥빚을 갚는다\n"
          ]
        }
      ]
    },
    {
      "cell_type": "code",
      "source": [
        "print(\"she\\'s gone\")"
      ],
      "metadata": {
        "colab": {
          "base_uri": "https://localhost:8080/"
        },
        "id": "0mJHRdFKdZRY",
        "outputId": "49af11e6-8a2f-43c4-e1a2-a921943844da"
      },
      "execution_count": null,
      "outputs": [
        {
          "output_type": "stream",
          "name": "stdout",
          "text": [
            "she's gone\n"
          ]
        }
      ]
    },
    {
      "cell_type": "code",
      "source": [
        "s = \"Hello World\"\n",
        "print(s[0] + s[6])"
      ],
      "metadata": {
        "colab": {
          "base_uri": "https://localhost:8080/"
        },
        "id": "pXxgKyLRdjrZ",
        "outputId": "b557f40c-cde6-4a8e-f6d5-96cd6c1b5a8d"
      },
      "execution_count": null,
      "outputs": [
        {
          "output_type": "stream",
          "name": "stdout",
          "text": [
            "HW\n"
          ]
        }
      ]
    },
    {
      "cell_type": "code",
      "source": [
        "#슬라이싱 기법 index 0 부터 2 이전까지\n",
        "print(s[0:2])"
      ],
      "metadata": {
        "colab": {
          "base_uri": "https://localhost:8080/"
        },
        "id": "_grYiYGaeAFQ",
        "outputId": "b5d20da6-2d5d-4e24-e668-3e9b95fefe1d"
      },
      "execution_count": null,
      "outputs": [
        {
          "output_type": "stream",
          "name": "stdout",
          "text": [
            "He\n"
          ]
        }
      ]
    },
    {
      "cell_type": "code",
      "source": [
        "name = \"Harry Parter\"\n",
        "lower_name = name.lower()\n",
        "print(lower_name)"
      ],
      "metadata": {
        "colab": {
          "base_uri": "https://localhost:8080/"
        },
        "id": "WjhfaONgen8p",
        "outputId": "d6812464-5ef8-42bd-888a-f76d2294eb82"
      },
      "execution_count": null,
      "outputs": [
        {
          "output_type": "stream",
          "name": "stdout",
          "text": [
            "harry parter\n"
          ]
        }
      ]
    },
    {
      "cell_type": "code",
      "source": [
        "new_name = name.replace(\"Parter\",\"Porter\")\n",
        "print(new_name)"
      ],
      "metadata": {
        "colab": {
          "base_uri": "https://localhost:8080/"
        },
        "id": "X028_B-sexGX",
        "outputId": "923ad3c5-2e35-4333-c2a6-b4dbf037ba2b"
      },
      "execution_count": null,
      "outputs": [
        {
          "output_type": "stream",
          "name": "stdout",
          "text": [
            "Harry Porter\n"
          ]
        }
      ]
    },
    {
      "cell_type": "code",
      "source": [
        "name = input(\"이름을 입려하시오.:\")"
      ],
      "metadata": {
        "colab": {
          "base_uri": "https://localhost:8080/"
        },
        "id": "AAbmzNEDfV7u",
        "outputId": "2c6ad510-6055-43cb-f357-9fdc1b8cade4"
      },
      "execution_count": null,
      "outputs": [
        {
          "name": "stdout",
          "output_type": "stream",
          "text": [
            "이름을 입려하시오.:홍길동\n"
          ]
        }
      ]
    },
    {
      "cell_type": "code",
      "source": [
        "print(name)\n",
        "type(name)"
      ],
      "metadata": {
        "colab": {
          "base_uri": "https://localhost:8080/"
        },
        "id": "vbNpLlrjfveV",
        "outputId": "fa56db2c-da87-4833-ae72-f0a9b69499a7"
      },
      "execution_count": null,
      "outputs": [
        {
          "output_type": "stream",
          "name": "stdout",
          "text": [
            "홍길동\n"
          ]
        },
        {
          "output_type": "execute_result",
          "data": {
            "text/plain": [
              "str"
            ]
          },
          "metadata": {},
          "execution_count": 17
        }
      ]
    },
    {
      "cell_type": "code",
      "source": [
        "x = int(input(\"첫 번째 정수를 입력하시오: \"))\n",
        "y = int(input(\"두 번째 정수를 입력하시오: \"))\n",
        "print(x + y)"
      ],
      "metadata": {
        "colab": {
          "base_uri": "https://localhost:8080/"
        },
        "id": "8nc7_LYAf1_p",
        "outputId": "4b3bd9f7-1148-497c-8113-7c32ea5f0807"
      },
      "execution_count": null,
      "outputs": [
        {
          "output_type": "stream",
          "name": "stdout",
          "text": [
            "첫 번째 정수를 입력하시오: 30\n",
            "두 번째 정수를 입력하시오: 40\n",
            "70\n"
          ]
        }
      ]
    },
    {
      "cell_type": "code",
      "source": [
        "x = 100\n",
        "y = 200\n",
        "print(f\"{x}와 {y}의 합 = {x + y}\")\n"
      ],
      "metadata": {
        "colab": {
          "base_uri": "https://localhost:8080/"
        },
        "id": "e_pIHQwSgRAI",
        "outputId": "1c8e75d5-90dc-46a1-a6fb-8c1a6943f0d2"
      },
      "execution_count": null,
      "outputs": [
        {
          "output_type": "stream",
          "name": "stdout",
          "text": [
            "100와 200의 합 = 300\n"
          ]
        }
      ]
    },
    {
      "cell_type": "code",
      "source": [
        "# 10칸(결과포함).소수점 둘 째 자리, float타입\n",
        "py = 7.1234\n",
        "print(\"테스트 출력: %10.2f\" % py)"
      ],
      "metadata": {
        "colab": {
          "base_uri": "https://localhost:8080/"
        },
        "id": "8GX3b3QxgpCm",
        "outputId": "968f0e9a-83a9-4a47-e9e4-1cb91a6357b2"
      },
      "execution_count": null,
      "outputs": [
        {
          "output_type": "stream",
          "name": "stdout",
          "text": [
            "테스트 출력:       7.12\n"
          ]
        }
      ]
    },
    {
      "cell_type": "code",
      "source": [
        "py = 7.1234\n",
        "print(\"테스트 출력: %2.1f\" % py)"
      ],
      "metadata": {
        "colab": {
          "base_uri": "https://localhost:8080/"
        },
        "id": "ByY-hLLRhAud",
        "outputId": "097148bb-7b24-4e19-f811-9a593c836d43"
      },
      "execution_count": null,
      "outputs": [
        {
          "output_type": "stream",
          "name": "stdout",
          "text": [
            "테스트 출력: 7.1\n"
          ]
        }
      ]
    },
    {
      "cell_type": "code",
      "source": [
        "a = \"안녕하세요\"\n",
        "print(a[3]) #인덱싱\n",
        "print(a[-2]) #인버스인덱싱\n",
        "print(a[0:2]) #슬라이싱\n",
        "print(a[0:5:2])#스텝\n",
        "print(a[::2]) #스텝, 범위생략\n",
        "print(a[::-2]) #리버스스텝"
      ],
      "metadata": {
        "id": "3NWr91KchW4E",
        "colab": {
          "base_uri": "https://localhost:8080/"
        },
        "outputId": "243b7a6f-ad22-4ac2-9c51-7a7a99bba510"
      },
      "execution_count": 4,
      "outputs": [
        {
          "output_type": "stream",
          "name": "stdout",
          "text": [
            "세\n",
            "세\n",
            "안녕\n",
            "안하요\n",
            "안하요\n",
            "요하안\n"
          ]
        }
      ]
    },
    {
      "cell_type": "code",
      "source": [
        "#@@@@@@@@@@@@@@@@@@@@\n",
        "#@@@@@@@@@@@@@@@@@@@@\n",
        "#@@@@@@@@@@@@@@@@@@@@\n",
        "#조건문\n",
        "#@@@@@@@@@@@@@@@@@@@@\n",
        "#@@@@@@@@@@@@@@@@@@@@\n",
        "#@@@@@@@@@@@@@@@@@@@@"
      ],
      "metadata": {
        "id": "5oxFlgNW6iXw"
      },
      "execution_count": 5,
      "outputs": []
    },
    {
      "cell_type": "code",
      "source": [
        "price = int(input(\"상품의 가격: \"))\n",
        "\n",
        "if price > 20000 :\n",
        "  shipping_cost = 0\n",
        "else :\n",
        "  shipping_cost = 3000\n",
        "\n",
        "print(\"배송비= \",shipping_cost)"
      ],
      "metadata": {
        "colab": {
          "base_uri": "https://localhost:8080/"
        },
        "id": "KHQelBrIGX1_",
        "outputId": "d8341358-4a0d-4e15-beec-d018f2460aad"
      },
      "execution_count": 8,
      "outputs": [
        {
          "output_type": "stream",
          "name": "stdout",
          "text": [
            "상품의 가격: 15000\n",
            "배송비=  3000\n"
          ]
        }
      ]
    },
    {
      "cell_type": "code",
      "source": [
        "#python에서는 들여쓰기를 잘못해도 오류가 발생할 수 있다"
      ],
      "metadata": {
        "id": "LPM3Vz0UGtfR"
      },
      "execution_count": 9,
      "outputs": []
    },
    {
      "cell_type": "code",
      "source": [
        "a = 5000\n",
        "\n",
        "if a > 10000 :\n",
        "  print(\"if 걸림\")\n",
        "else :\n",
        "  print(\"if 안걸림\")\n",
        "print(\"코드 끝\")"
      ],
      "metadata": {
        "colab": {
          "base_uri": "https://localhost:8080/"
        },
        "id": "XZM1xgD8HJci",
        "outputId": "d5d03351-9796-4363-c5be-7fe1f9c23ac1"
      },
      "execution_count": 13,
      "outputs": [
        {
          "output_type": "stream",
          "name": "stdout",
          "text": [
            "if 안걸림\n",
            "코드 끝\n"
          ]
        }
      ]
    },
    {
      "cell_type": "code",
      "source": [
        "radius = 100\n",
        "flag = (radius > 32)\n",
        "print(flag)"
      ],
      "metadata": {
        "colab": {
          "base_uri": "https://localhost:8080/"
        },
        "id": "OLZ6_gObHUWd",
        "outputId": "c46c709b-3a81-4dfe-adec-7d71e1faed1f"
      },
      "execution_count": 14,
      "outputs": [
        {
          "output_type": "stream",
          "name": "stdout",
          "text": [
            "True\n"
          ]
        }
      ]
    },
    {
      "cell_type": "code",
      "source": [
        "#문자열의 비교는 가장 앞 글자의 알파벳번호로 비교한다.(같을 경우 뒷자리 비교)\n",
        "s1 = \"Audrey Hepburn\"\n",
        "s2 = \"Grace Kelly\"\n",
        "print(s1 < s2)"
      ],
      "metadata": {
        "colab": {
          "base_uri": "https://localhost:8080/"
        },
        "id": "vOQpYX8MHqS-",
        "outputId": "8454274a-767f-4981-92f1-6281a48f8e41"
      },
      "execution_count": 16,
      "outputs": [
        {
          "output_type": "stream",
          "name": "stdout",
          "text": [
            "True\n"
          ]
        }
      ]
    },
    {
      "cell_type": "code",
      "source": [
        "import math\n",
        "math.sqrt(9)"
      ],
      "metadata": {
        "colab": {
          "base_uri": "https://localhost:8080/"
        },
        "id": "n-5RPTelIPLq",
        "outputId": "470d2b78-e5b0-4691-b5d6-422f514d0519"
      },
      "execution_count": 21,
      "outputs": [
        {
          "output_type": "execute_result",
          "data": {
            "text/plain": [
              "3.0"
            ]
          },
          "metadata": {},
          "execution_count": 21
        }
      ]
    },
    {
      "cell_type": "code",
      "source": [
        "from math import sqrt\n",
        "sqrt(9)"
      ],
      "metadata": {
        "colab": {
          "base_uri": "https://localhost:8080/"
        },
        "id": "m1QNIJvIIpO4",
        "outputId": "c5941bd3-02bc-4da9-9287-e1ae8c80a880"
      },
      "execution_count": 18,
      "outputs": [
        {
          "output_type": "execute_result",
          "data": {
            "text/plain": [
              "3.0"
            ]
          },
          "metadata": {},
          "execution_count": 18
        }
      ]
    },
    {
      "cell_type": "code",
      "source": [
        "x = int(input(\"첫 번째 수 = \"))\n",
        "y = int(input(\"두 번째 수 = \"))\n",
        "\n",
        "max_value = (x if x>y else y)\n",
        "min_value = (y if x>y else x)\n",
        "print(\"큰 수 = \",max_value,\"작은 수= \",min_value)"
      ],
      "metadata": {
        "colab": {
          "base_uri": "https://localhost:8080/"
        },
        "id": "qDa3C7orItVf",
        "outputId": "1af93aec-8ae5-4c00-fc8e-eeac8d121a71"
      },
      "execution_count": 26,
      "outputs": [
        {
          "output_type": "stream",
          "name": "stdout",
          "text": [
            "첫 번째 수 = 10\n",
            "두 번째 수 = 20\n",
            "큰 수 =  20 작은 수=  10\n"
          ]
        }
      ]
    },
    {
      "cell_type": "code",
      "source": [
        "a = int(input(\"수를 입력하세요: \"))\n",
        "\n",
        "if a%2 == 0 :\n",
        "  print(\"짝수\")\n",
        "else :\n",
        "  print(\"홀수\")"
      ],
      "metadata": {
        "colab": {
          "base_uri": "https://localhost:8080/"
        },
        "id": "e6ylttLeJms6",
        "outputId": "c7e05d07-d485-4ffc-964d-24fbd6f42c9f"
      },
      "execution_count": 31,
      "outputs": [
        {
          "output_type": "stream",
          "name": "stdout",
          "text": [
            "수를 입력하세요: 2\n",
            "짝수\n"
          ]
        }
      ]
    },
    {
      "cell_type": "code",
      "source": [
        "if price > 20000 and card == \"python\" :\n",
        "  print(\"배송료가 없습니다\")\n",
        "else :\n",
        "  print(\"배송료는 3000원입니다\")"
      ],
      "metadata": {
        "colab": {
          "base_uri": "https://localhost:8080/"
        },
        "id": "bENI0HZWKsAo",
        "outputId": "ac9a5486-bfbc-4480-8ed0-c85aec7e07b0"
      },
      "execution_count": 35,
      "outputs": [
        {
          "output_type": "stream",
          "name": "stdout",
          "text": [
            "배송료는 3000원입니다\n"
          ]
        }
      ]
    },
    {
      "cell_type": "code",
      "source": [
        "num = int(input(\"정수를 입력하세요\"))\n",
        "\n",
        "if num > 0 :\n",
        "  print(\"양의 정수입니다\")\n",
        "elif num == 0 :\n",
        "  print(\"0입니다\")\n",
        "else :\n",
        "  print(\"음의 정수입니다\")"
      ],
      "metadata": {
        "colab": {
          "base_uri": "https://localhost:8080/"
        },
        "id": "piVRbsg5L0hE",
        "outputId": "2478b858-c85e-451a-f215-a1052f590dce"
      },
      "execution_count": 38,
      "outputs": [
        {
          "output_type": "stream",
          "name": "stdout",
          "text": [
            "정수를 입력하세요0\n",
            "0입니다\n"
          ]
        }
      ]
    },
    {
      "cell_type": "code",
      "source": [
        "a = float(input(\"리히터규모를 입력: \"))\n",
        "\n",
        "if a<2.0 :\n",
        "  print(\"지진계에 의해서만 탐지 가능합니다.\")\n",
        "elif 2.0<=a<4 :\n",
        "  print(\"물건들이 흔들리거나 떨어집니다.\")\n",
        "elif 4.0<=a<7 :\n",
        "  print(\"빈약한 건물에 큰 피해가 있습니다.\")\n",
        "elif 7.0<=a<8 :\n",
        "  print(\"지표면에 균열이 발생합니다.\")\n",
        "else :\n",
        "  print(\"대부분의 구조물이 파괴됩니다.\")"
      ],
      "metadata": {
        "colab": {
          "base_uri": "https://localhost:8080/"
        },
        "id": "SgUw089DMZlT",
        "outputId": "5049cfbd-4f55-4d4e-b6a1-4718107d2dda"
      },
      "execution_count": 41,
      "outputs": [
        {
          "output_type": "stream",
          "name": "stdout",
          "text": [
            "리히터규모를 입력: 5.2\n",
            "빈약한 건물에 큰 피해가 있습니다.\n"
          ]
        }
      ]
    },
    {
      "cell_type": "code",
      "source": [],
      "metadata": {
        "id": "WXoYtXrqNqeV"
      },
      "execution_count": null,
      "outputs": []
    }
  ]
}