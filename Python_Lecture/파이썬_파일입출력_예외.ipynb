{
  "nbformat": 4,
  "nbformat_minor": 0,
  "metadata": {
    "colab": {
      "provenance": []
    },
    "kernelspec": {
      "name": "python3",
      "display_name": "Python 3"
    },
    "language_info": {
      "name": "python"
    }
  },
  "cells": [
    {
      "cell_type": "markdown",
      "source": [
        "01 파일 쓰기\n",
        "\n",
        "작업디렉토리에 '매수종목1.txt' 파일을 생성한 후 다음과 같이 종목코드를 파일에 써보세요.\n",
        "\n",
        "```\n",
        "005930\n",
        "005380\n",
        "035420\n",
        "```"
      ],
      "metadata": {
        "id": "IMd3U_tfh-ih"
      }
    },
    {
      "cell_type": "code",
      "execution_count": 3,
      "metadata": {
        "id": "YG3FfS_eh5zu"
      },
      "outputs": [],
      "source": [
        "f = open(\"./매수종목1.txt\",\"w\")\n",
        "\n",
        "f.write(\"005930\\n\")\n",
        "f.write(\"005380\\n\")\n",
        "f.write(\"035420\")\n",
        "\n",
        "f.close()"
      ]
    },
    {
      "cell_type": "markdown",
      "source": [
        "02 파일 쓰기\n",
        "\n",
        "작업디렉토리에 '매수종목2.txt' 파일을 생성한 후 다음과 같이 종목코드와 종목명을 파일에 써보세요.\n",
        "\n",
        "```\n",
        "005930 삼성전자\n",
        "005380 현대차\n",
        "035420 NAVER\n",
        "```"
      ],
      "metadata": {
        "id": "rSyJe_SViB1d"
      }
    },
    {
      "cell_type": "code",
      "source": [
        "f = open(\"./매수종목2.txt\",\"w\")\n",
        "\n",
        "f.write(\"005930 삼성전자\\n\")\n",
        "f.write(\"005380 현대차\\n\")\n",
        "f.write(\"035420 NAVER\")\n",
        "\n",
        "f.close()"
      ],
      "metadata": {
        "id": "3dOv4XJUiDar"
      },
      "execution_count": 4,
      "outputs": []
    },
    {
      "cell_type": "markdown",
      "source": [
        "03 파일 읽기\n",
        "\n",
        "작업디렉토리에 생성한 '매수종목1.txt' 파일을 읽은 후 종목코드를 리스트에 저장해보세요.\n",
        "\n",
        "```\n",
        "005930\n",
        "005380\n",
        "035420\n",
        "```"
      ],
      "metadata": {
        "id": "wkkDIbR6iGXt"
      }
    },
    {
      "cell_type": "code",
      "source": [
        "infile = open(\"./매수종목1.txt\",\"r\") # 매수종목 파일을 처음부터 읽는다.\n",
        "\n",
        "code = [] # code 리스트 선언\n",
        "line = infile.readline().strip() # 1줄의 좌,우의 공백을 지운 후 line 객체에 할당\n",
        "while line != \"\": # line 객체에 아무것도 들어있지 않은게 아니라면\n",
        "  code.append(line) # code 리스트에 line을 추가\n",
        "  line = infile.readline().strip() # 다음 줄을 line에 할당, 끝까지 읽었다면 \"\"을 할당\n",
        "\n",
        "print(code) # code 리스트 출력\n",
        "\n"
      ],
      "metadata": {
        "id": "FZKIA2vHiLEC",
        "colab": {
          "base_uri": "https://localhost:8080/"
        },
        "outputId": "f5672325-a284-4c81-d893-e353b4d81b41"
      },
      "execution_count": 18,
      "outputs": [
        {
          "output_type": "stream",
          "name": "stdout",
          "text": [
            "['005930', '005380', '035420']\n"
          ]
        }
      ]
    },
    {
      "cell_type": "markdown",
      "source": [
        "04 파일 읽기\n",
        "\n",
        "바탕화면에 생성한 '매수종목2.txt' 파일을 읽은 후 종목코드와 종목명을 딕셔너리로 저장해보세요. 종목명을 key로 종목명을 value로 저장합니다.\n",
        "\n",
        "```\n",
        "005930 삼성전자\n",
        "005380 현대차\n",
        "035420 NAVER\n",
        "```"
      ],
      "metadata": {
        "id": "xSx__uJriT7Q"
      }
    },
    {
      "cell_type": "code",
      "source": [
        "infile = open(\"./매수종목2.txt\",\"r\")\n",
        "\n",
        "dic = {}\n",
        "\n",
        "line = infile.readline().rstrip().split(\" \")\n",
        "while line[0] != \"\":\n",
        "  dic[line[0]] = line[1]\n",
        "  line = infile.readline().rstrip().split(\" \")\n",
        "\n",
        "print(dic)\n"
      ],
      "metadata": {
        "id": "P4BWEQr_iWfq",
        "colab": {
          "base_uri": "https://localhost:8080/"
        },
        "outputId": "f3015c66-02b7-41ca-92df-4190050eadb4"
      },
      "execution_count": 23,
      "outputs": [
        {
          "output_type": "stream",
          "name": "stdout",
          "text": [
            "{'005930': '삼성전자', '005380': '현대차', '035420': 'NAVER'}\n"
          ]
        }
      ]
    },
    {
      "cell_type": "markdown",
      "source": [
        "05 예외처리\n",
        "\n",
        "문자열 PER (Price to Earning Ratio) 값을 실수로 변환할 때 에러가 발생합니다. 예외처리를 통해 에러가 발생하는 PER은 0으로 출력하세요.\n",
        "\n",
        "```\n",
        "per = [\"10.31\", \"\", \"8.00\"]\n",
        "\n",
        "for i in per:\n",
        "    print(float(i))\n",
        "```"
      ],
      "metadata": {
        "id": "2_a7bCSdib7l"
      }
    },
    {
      "cell_type": "code",
      "source": [
        "per = [\"10.31\", \"\", \"8.00\"]\n",
        "\n",
        "for i in per:\n",
        "  try:\n",
        "    print(float(i))\n",
        "  except:\n",
        "    print(0)\n",
        "    "
      ],
      "metadata": {
        "id": "Lh49l_Lmie15",
        "colab": {
          "base_uri": "https://localhost:8080/"
        },
        "outputId": "86905c85-2c35-4b3d-8c8c-68c4764a4e0b"
      },
      "execution_count": 26,
      "outputs": [
        {
          "output_type": "stream",
          "name": "stdout",
          "text": [
            "10.31\n",
            "0\n",
            "8.0\n"
          ]
        }
      ]
    },
    {
      "cell_type": "markdown",
      "source": [
        "06 예외처리 및 리스트에 저장\n",
        "\n",
        "문자열로 표현된 PER 값을 실수로 변환한 후 이를 새로운 리스트에 저장해보세요.\n",
        "\n",
        "```\n",
        "per = [\"10.31\", \"\", \"8.00\"]\n",
        "\n",
        "for i in per:\n",
        "    print(float(per))\n",
        "```"
      ],
      "metadata": {
        "id": "zKDafTiDifbo"
      }
    },
    {
      "cell_type": "code",
      "source": [
        "per = [\"10.31\", \"\", \"8.00\"] # 문자열로 구성된 리스트\n",
        "\n",
        "list = [] # 새로운 리스트 선언\n",
        "\n",
        "for i in per: # per의 요소를 순회하는 i\n",
        "  try: # 도전!\n",
        "    list.append(float(i)) # i를 float으로 변환하여 리스트에 추가\n",
        "  except: # 예외가 발생한다면...(i를 float으로 변환하지 못하는 경우)\n",
        "    list.append(float(0)) # 0을 입력\n",
        "\n",
        "print(list)"
      ],
      "metadata": {
        "id": "p97F1P7kinCh",
        "colab": {
          "base_uri": "https://localhost:8080/"
        },
        "outputId": "32b09b8e-a04c-4afa-9253-ee5d7acd62c3"
      },
      "execution_count": 36,
      "outputs": [
        {
          "output_type": "stream",
          "name": "stdout",
          "text": [
            "[10.31, 0.0, 8.0]\n"
          ]
        }
      ]
    },
    {
      "cell_type": "markdown",
      "source": [
        "07 특정 예외만 처리하기\n",
        "\n",
        "어떤 값을 0으로 나누면 ZeroDivisionError 에러가 발생합니다. try ~ except로 모든 에러에 대해 예외처리하지 말고 ZeroDivisionError 에러만 예외처리해보세요."
      ],
      "metadata": {
        "id": "OWW4wY1Xioth"
      }
    },
    {
      "cell_type": "code",
      "source": [
        "try:\n",
        "  x = 10/0\n",
        "except ZeroDivisionError:\n",
        "  print(\"0으로 나눌 수 없습니다.\")"
      ],
      "metadata": {
        "id": "iXDLhPbFirTB",
        "colab": {
          "base_uri": "https://localhost:8080/"
        },
        "outputId": "3d621722-99e7-44dc-e270-0c88c539b413"
      },
      "execution_count": 38,
      "outputs": [
        {
          "output_type": "stream",
          "name": "stdout",
          "text": [
            "0으로 나눌 수 없습니다.\n"
          ]
        }
      ]
    },
    {
      "cell_type": "markdown",
      "source": [
        "08 예외의 메시지 출력하기\n",
        "\n",
        "다음과 같은 코드 구조를 사용하면 예외 발생 시 에러 메시지를 변수로 바인딩할 수 있습니다.\n",
        "\n",
        "```\n",
        "try:\n",
        "    실행코드\n",
        "except 예외 as 변수:\n",
        "    예외처리코드 \n",
        "리스트의 인덱싱에 대해 에러를 출력해보세요.\n",
        "\n",
        "data = [1, 2, 3]\n",
        "\n",
        "for i in range(5)\n",
        "    print(data[i])\n",
        "```"
      ],
      "metadata": {
        "id": "Kx_EcdtGixLg"
      }
    },
    {
      "cell_type": "code",
      "source": [
        "data = [1, 2, 3]\n",
        "\n",
        "try:\n",
        "  for i in range(5):\n",
        "      print(data[i])\n",
        "except Exception as e:\n",
        "  print(e)"
      ],
      "metadata": {
        "id": "OE7ly5aUiz-5",
        "colab": {
          "base_uri": "https://localhost:8080/"
        },
        "outputId": "5144e620-12f9-4342-b4a6-052f3f05bf74"
      },
      "execution_count": 44,
      "outputs": [
        {
          "output_type": "stream",
          "name": "stdout",
          "text": [
            "1\n",
            "2\n",
            "3\n",
            "list index out of range\n"
          ]
        }
      ]
    },
    {
      "cell_type": "markdown",
      "source": [
        "09 try, except, else, finally 구조 사용해보기\n",
        "\n",
        "파이썬 예외처리는 다음과 같은 구조를 가질 수 있습니다.\n",
        "\n",
        "```\n",
        "try:\n",
        "    실행 코드\n",
        "except:\n",
        "    예외가 발생했을 때 수행할 코드\n",
        "else:\n",
        "    예외가 발생하지 않았을 때 수행할 코드\n",
        "finally:\n",
        "    예외 발생 여부와 상관없이 항상 수행할 코드\n",
        "\n",
        "```\n",
        "\n",
        "아래의 코드에 대해서 예외처리를 사용하고 try, except, else, finally에 적당한 코드를 작성해봅시다. else와 finally는 적당한 문구를 print하시면 됩니다.\n",
        "\n",
        "```\n",
        "per = [\"10.31\", \"\", \"8.00\"]\n",
        "\n",
        "for i in per:\n",
        "    print(float(per))\n",
        "\n",
        "```"
      ],
      "metadata": {
        "id": "xA9XEf1Qi5MX"
      }
    },
    {
      "cell_type": "code",
      "source": [
        "per = [\"10.31\", \"\", \"8.00\"] # 문자열 리스트\n",
        "\n",
        "for i in per: # per 리스트의 요소를 순회하는 i\n",
        "  try: # 도전\n",
        "      float(i) # i를 float 타입으로 변환\n",
        "  except: # 예외가 발생했다면\n",
        "    print(\"except: 예외가 발생\") # 문자열 출력\n",
        "  else: # 예외가 발생하지 않았다면\n",
        "    print(\"코드실행:\",float(i)) # 코드 실행\n",
        "  finally: # 예외 발생유무에 상관없이\n",
        "    print(\"finally: 적당한 문구\\n\") # 문자열 출력\n"
      ],
      "metadata": {
        "id": "T1wyVhy3i-AQ",
        "colab": {
          "base_uri": "https://localhost:8080/"
        },
        "outputId": "17b539fe-eb69-47d3-f996-442fdca50d23"
      },
      "execution_count": 54,
      "outputs": [
        {
          "output_type": "stream",
          "name": "stdout",
          "text": [
            "코드실행: 10.31\n",
            "finally: 적당한 문구\n",
            "\n",
            "except: 예외가 발생\n",
            "finally: 적당한 문구\n",
            "\n",
            "코드실행: 8.0\n",
            "finally: 적당한 문구\n",
            "\n"
          ]
        }
      ]
    }
  ]
}