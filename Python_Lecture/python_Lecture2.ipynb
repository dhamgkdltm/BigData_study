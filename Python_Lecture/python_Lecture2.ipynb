{
  "nbformat": 4,
  "nbformat_minor": 0,
  "metadata": {
    "colab": {
      "provenance": []
    },
    "kernelspec": {
      "name": "python3",
      "display_name": "Python 3"
    },
    "language_info": {
      "name": "python"
    }
  },
  "cells": [
    {
      "cell_type": "code",
      "source": [
        "#함수"
      ],
      "metadata": {
        "id": "rDxP1YM4_8ho"
      },
      "execution_count": null,
      "outputs": []
    },
    {
      "cell_type": "code",
      "execution_count": 1,
      "metadata": {
        "colab": {
          "base_uri": "https://localhost:8080/"
        },
        "id": "OsUqoNa7_nHX",
        "outputId": "1d1c1beb-8faf-4965-bc57-6b3ff61a3f63"
      },
      "outputs": [
        {
          "output_type": "stream",
          "name": "stdout",
          "text": [
            "반지름이 3인 원의 면적:  28.26\n"
          ]
        }
      ],
      "source": [
        "def get_area(radius) :\n",
        "  area = 3.14 * radius**2\n",
        "  return area\n",
        "\n",
        "result = get_area(3)\n",
        "print(\"반지름이 3인 원의 면적: \", result)"
      ]
    },
    {
      "cell_type": "code",
      "source": [
        "#여러개의 값 반환"
      ],
      "metadata": {
        "id": "XWPvxZMs_2b5"
      },
      "execution_count": 2,
      "outputs": []
    },
    {
      "cell_type": "code",
      "source": [
        "def get_input():\n",
        "  return 2,3\n",
        "\n",
        "x,y = get_input()\n",
        "print(x,y)"
      ],
      "metadata": {
        "colab": {
          "base_uri": "https://localhost:8080/"
        },
        "id": "lNU0CmF7AJWy",
        "outputId": "7d04a201-714c-48ed-85dd-79d2575d07d3"
      },
      "execution_count": 5,
      "outputs": [
        {
          "output_type": "stream",
          "name": "stdout",
          "text": [
            "2 3\n"
          ]
        }
      ]
    },
    {
      "cell_type": "code",
      "source": [
        "def test(*args) :\n",
        "  print(args)\n",
        "  print(type(args))\n",
        "\n",
        "test(10,20,30)"
      ],
      "metadata": {
        "colab": {
          "base_uri": "https://localhost:8080/"
        },
        "id": "-ocrJmETAXG9",
        "outputId": "6b4adb6b-d209-48d8-e6f2-d8899db98d66"
      },
      "execution_count": 8,
      "outputs": [
        {
          "output_type": "stream",
          "name": "stdout",
          "text": [
            "(10, 20, 30)\n",
            "<class 'tuple'>\n"
          ]
        }
      ]
    },
    {
      "cell_type": "code",
      "source": [
        "def varfunc(*args) :\n",
        "  print(args)\n",
        "  \n",
        "print(\"하나의 값으로 호출\")\n",
        "varfunc(10)\n",
        "\n",
        "print(\"여러 개의 값으로 호출\")\n",
        "varfunc(10,20,30)"
      ],
      "metadata": {
        "colab": {
          "base_uri": "https://localhost:8080/"
        },
        "id": "wHC9toRiBwZL",
        "outputId": "4c4be806-47f9-4246-d258-589423cdd6a5"
      },
      "execution_count": 11,
      "outputs": [
        {
          "output_type": "stream",
          "name": "stdout",
          "text": [
            "하나의 값으로 호출\n",
            "(10,)\n",
            "여러 개의 값으로 호출\n",
            "(10, 20, 30)\n"
          ]
        }
      ]
    },
    {
      "cell_type": "code",
      "source": [
        "a = {\"하나\":1, \"둘\":2, \"셋\":3}\n",
        "\n",
        "print(a)\n",
        "print(type(a))\n",
        "print(a[\"하나\"])"
      ],
      "metadata": {
        "colab": {
          "base_uri": "https://localhost:8080/"
        },
        "id": "GKycbCNwCG17",
        "outputId": "7b42e13a-bbc4-407f-b782-5e5f55c87016"
      },
      "execution_count": 20,
      "outputs": [
        {
          "output_type": "stream",
          "name": "stdout",
          "text": [
            "{'하나': 1, '둘': 2, '셋': 3}\n",
            "<class 'dict'>\n",
            "1\n"
          ]
        }
      ]
    },
    {
      "cell_type": "code",
      "source": [
        "def factorial(n) :\n",
        "  if n == 1 :\n",
        "    return(1)\n",
        "  else :\n",
        "    return n * factorial(n-1)\n",
        "\n",
        "n = eval(input(\"정수를 입력하시오:\"))\n",
        "print(n, \"!= \", factorial(n))"
      ],
      "metadata": {
        "colab": {
          "base_uri": "https://localhost:8080/"
        },
        "id": "j_02pZvTCckW",
        "outputId": "625c13a0-9514-4724-b847-493aae26e5c9"
      },
      "execution_count": 24,
      "outputs": [
        {
          "output_type": "stream",
          "name": "stdout",
          "text": [
            "정수를 입력하시오:4\n",
            "4 !=  24\n"
          ]
        }
      ]
    },
    {
      "cell_type": "code",
      "source": [
        "gx = 100\n",
        "g = 200\n",
        "def myfunc():\n",
        "  global gx #global로 전역변수를 선언해야 전역변수의 값에 영향을 줄 수 있다.\n",
        "  gx = g\n",
        "  print(gx)\n",
        "\n",
        "myfunc()\n",
        "print(gx)"
      ],
      "metadata": {
        "colab": {
          "base_uri": "https://localhost:8080/"
        },
        "id": "itj0u5rzWkCQ",
        "outputId": "ff3a672c-9f75-4cf9-9729-32486bade388"
      },
      "execution_count": 27,
      "outputs": [
        {
          "output_type": "stream",
          "name": "stdout",
          "text": [
            "200\n",
            "200\n"
          ]
        }
      ]
    },
    {
      "cell_type": "code",
      "source": [
        "#zip() 함수"
      ],
      "metadata": {
        "id": "LJ-Q841cXkXw"
      },
      "execution_count": 28,
      "outputs": []
    },
    {
      "cell_type": "code",
      "source": [
        "questions = ['name','quest','color']\n",
        "answers = ['kim','파이썬','blue']\n",
        "for q,a in zip(questions, answers) :\n",
        "  print(f\"What is your {q}? It is {a}\")"
      ],
      "metadata": {
        "colab": {
          "base_uri": "https://localhost:8080/"
        },
        "id": "FBzD_E725B0D",
        "outputId": "2ae37fb6-8577-4f67-a926-86fe23b9a841"
      },
      "execution_count": 30,
      "outputs": [
        {
          "output_type": "stream",
          "name": "stdout",
          "text": [
            "What is your name? It is kim\n",
            "What is your quest? It is 파이썬\n",
            "What is your color? It is blue\n"
          ]
        }
      ]
    },
    {
      "cell_type": "code",
      "source": [
        "#append\n",
        "a = ['a','b','c']\n",
        "b = [1,2,3]\n",
        "\n",
        "a.append(b)\n",
        "print(a)"
      ],
      "metadata": {
        "colab": {
          "base_uri": "https://localhost:8080/"
        },
        "id": "LRKIOHeR5Njp",
        "outputId": "967c99a3-6d1e-4b86-d6d6-2de70aac33b1"
      },
      "execution_count": 31,
      "outputs": [
        {
          "output_type": "stream",
          "name": "stdout",
          "text": [
            "['a', 'b', 'c', [1, 2, 3]]\n"
          ]
        }
      ]
    },
    {
      "cell_type": "code",
      "source": [
        "#extend\n",
        "a = ['a','b','c']\n",
        "b = [1,2,3]\n",
        "\n",
        "a.extend(b)\n",
        "print(a)"
      ],
      "metadata": {
        "colab": {
          "base_uri": "https://localhost:8080/"
        },
        "id": "xNi4fvvw7tyX",
        "outputId": "0dc28b66-05af-41ce-c192-e361e60f5ad4"
      },
      "execution_count": 32,
      "outputs": [
        {
          "output_type": "stream",
          "name": "stdout",
          "text": [
            "['a', 'b', 'c', 1, 2, 3]\n"
          ]
        }
      ]
    },
    {
      "cell_type": "code",
      "source": [
        "#list의 합연산(extend와 유사)\n",
        "a = ['a','b','c']\n",
        "b = [1,2,3]\n",
        "\n",
        "a = a + b\n",
        "print(a)"
      ],
      "metadata": {
        "colab": {
          "base_uri": "https://localhost:8080/"
        },
        "id": "VKPhz6917w4g",
        "outputId": "26df573f-1049-4e7d-e516-39b2ecdae4e3"
      },
      "execution_count": 34,
      "outputs": [
        {
          "output_type": "stream",
          "name": "stdout",
          "text": [
            "['a', 'b', 'c', 1, 2, 3]\n"
          ]
        }
      ]
    },
    {
      "cell_type": "code",
      "source": [
        "scores = [10.0, 9.0, 8.3, 7.1, 3.0, 9.0]\n",
        "print(\"제거 전\", scores)\n",
        "scores.remove(max(scores))\n",
        "scores.remove(min(scores))\n",
        "print(\"제거후\",scores)"
      ],
      "metadata": {
        "colab": {
          "base_uri": "https://localhost:8080/"
        },
        "id": "VOonU7ib7zpi",
        "outputId": "3c73aca3-c4cc-42cf-d03f-2682facc7193"
      },
      "execution_count": 35,
      "outputs": [
        {
          "output_type": "stream",
          "name": "stdout",
          "text": [
            "제거 전 [10.0, 9.0, 8.3, 7.1, 3.0, 9.0]\n",
            "제거후 [9.0, 8.3, 7.1, 9.0]\n"
          ]
        }
      ]
    },
    {
      "cell_type": "code",
      "source": [
        "#리스트 함축"
      ],
      "metadata": {
        "id": "I29-J28pCYT4"
      },
      "execution_count": null,
      "outputs": []
    },
    {
      "cell_type": "code",
      "source": [
        "squares = []\n",
        "\n",
        "for x in range(10) :\n",
        "  squares.append(x*x)\n",
        "\n",
        "print(squares)"
      ],
      "metadata": {
        "colab": {
          "base_uri": "https://localhost:8080/"
        },
        "id": "kQ5Q9rrkBx1b",
        "outputId": "229cbec7-8fb3-4964-a06c-95150d8db4ee"
      },
      "execution_count": 38,
      "outputs": [
        {
          "output_type": "stream",
          "name": "stdout",
          "text": [
            "[0, 1, 4, 9, 16, 25, 36, 49, 64, 81]\n"
          ]
        }
      ]
    },
    {
      "cell_type": "code",
      "source": [
        "squares = [x*x for x in range(10)]\n",
        "\n",
        "print(squares)"
      ],
      "metadata": {
        "colab": {
          "base_uri": "https://localhost:8080/"
        },
        "id": "Ijb9eIeCBcv6",
        "outputId": "29a885f8-d040-484c-a9e2-352f7a153783"
      },
      "execution_count": 37,
      "outputs": [
        {
          "output_type": "stream",
          "name": "stdout",
          "text": [
            "[0, 1, 4, 9, 16, 25, 36, 49, 64, 81]\n"
          ]
        }
      ]
    },
    {
      "cell_type": "code",
      "source": [
        "# a = [x*y for x in range(10) for y in range(10)]\n",
        "# 풀어서 작성하면 아래와 같다.\n",
        "\n",
        "a = []\n",
        "\n",
        "for x in range(10) :\n",
        "  for y in range(10) :\n",
        "    a.append(x*y)"
      ],
      "metadata": {
        "id": "Eik8YWeIBg00"
      },
      "execution_count": 39,
      "outputs": []
    },
    {
      "cell_type": "code",
      "source": [
        "#else문이 존재할 경우 if문은 왼쪽으로 배치된다.\n",
        "\n",
        "prices = [135, -545, 922, 356, -922, 217]\n",
        "mprices = [i if i>0 else 0 for i in prices]\n",
        "\n",
        "#풀어서 작성할 경우\n",
        "#for i in prices :\n",
        "# ifi>0 :\n",
        "  #   mprices.append(i)\n",
        "  # else :\n",
        "  #   mprices.append(0)"
      ],
      "metadata": {
        "id": "MXWeccEwC7za"
      },
      "execution_count": 40,
      "outputs": []
    },
    {
      "cell_type": "code",
      "source": [
        "numbers = [x+y for x in ['a','b','c'] for y in ['x','y','z']]\n",
        "\n",
        "print(numbers)"
      ],
      "metadata": {
        "colab": {
          "base_uri": "https://localhost:8080/"
        },
        "id": "361jsh6UD-3-",
        "outputId": "e168d764-48a6-45fa-ddb5-0aae57a6ed75"
      },
      "execution_count": 42,
      "outputs": [
        {
          "output_type": "stream",
          "name": "stdout",
          "text": [
            "['ax', 'ay', 'az', 'bx', 'by', 'bz', 'cx', 'cy', 'cz']\n"
          ]
        }
      ]
    },
    {
      "cell_type": "code",
      "source": [],
      "metadata": {
        "id": "57qwUlUVEKoe"
      },
      "execution_count": null,
      "outputs": []
    }
  ]
}