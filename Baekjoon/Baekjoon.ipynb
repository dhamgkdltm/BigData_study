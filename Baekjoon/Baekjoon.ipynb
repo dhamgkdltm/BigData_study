{
  "nbformat": 4,
  "nbformat_minor": 0,
  "metadata": {
    "colab": {
      "provenance": []
    },
    "kernelspec": {
      "name": "python3",
      "display_name": "Python 3"
    },
    "language_info": {
      "name": "python"
    }
  },
  "cells": [
    {
      "cell_type": "code",
      "execution_count": 27,
      "metadata": {
        "colab": {
          "base_uri": "https://localhost:8080/"
        },
        "id": "anIIXr6BMvpD",
        "outputId": "fde9dd3e-d6e7-48da-a93f-95fd2a9bd063"
      },
      "outputs": [
        {
          "output_type": "stream",
          "name": "stdout",
          "text": [
            "할머니 단어를 알려주세요!O\n",
            "7\n"
          ]
        }
      ],
      "source": [
        "# Bj5622\n",
        "# 전화기 다이얼 문제\n",
        "# 첫째 줄에 대문자로 이루어진 단어가 주어진다.\n",
        "\n",
        "# 전화기 다이얼의 숫자(키)와 문자들(값)을 가지는 딕셔너리\n",
        "dial = {2:[\"A\",\"B\",\"C\"],\n",
        "        3:[\"D\",\"E\",\"F\"],\n",
        "        4:[\"G\",\"H\",\"I\"],\n",
        "        5:[\"J\",\"K\",\"L\"],\n",
        "        6:[\"M\",\"N\",\"O\"],\n",
        "        7:[\"P\",\"Q\",\"R\",\"S\"],\n",
        "        8:[\"T\",\"U\",\"V\"],\n",
        "        9:[\"W\",\"X\",\"Y\",\"Z\"]\n",
        "        }\n",
        "\n",
        "result_time = 0 # 총 걸린 시간\n",
        "\n",
        "word = input(\"할머니 단어를 알려주세요!\")\n",
        "\n",
        "# 단어를 나눠서 해당 문자를 가지고 있는 숫자의 키값을 찾는다.\n",
        "for i in range(len(word)) :\n",
        "  for key in dial :\n",
        "    # 해당 키에 word[i]가 존재하는지 확인\n",
        "    if word[i] in dial.get(key, []) :\n",
        "       result_time += key + 1\n",
        "\n",
        "print(result_time)"
      ]
    },
    {
      "cell_type": "code",
      "source": [],
      "metadata": {
        "id": "PCNW1a8QcHFS"
      },
      "execution_count": 23,
      "outputs": []
    }
  ]
}