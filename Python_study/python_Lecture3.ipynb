{
  "nbformat": 4,
  "nbformat_minor": 0,
  "metadata": {
    "colab": {
      "provenance": []
    },
    "kernelspec": {
      "name": "python3",
      "display_name": "Python 3"
    },
    "language_info": {
      "name": "python"
    }
  },
  "cells": [
    {
      "cell_type": "code",
      "execution_count": null,
      "metadata": {
        "id": "sAGfcn39nfl7"
      },
      "outputs": [],
      "source": [
        "# 리스트 함축 사용하기"
      ]
    },
    {
      "cell_type": "code",
      "source": [
        "#[0, 6, 12, 18, 24, 30, 36, 42, 48, 54, 60, 66, 72, 78, 84, 90, 96]\n",
        "\n",
        "numbers = [x for x in range(100) if x%2 == 0 and x%3 == 0]\n",
        "print(numbers)"
      ],
      "metadata": {
        "colab": {
          "base_uri": "https://localhost:8080/"
        },
        "id": "kLCACwoAnw3b",
        "outputId": "fde99e3f-beea-4fbf-d9c1-eab8a45f7f87"
      },
      "execution_count": null,
      "outputs": [
        {
          "output_type": "stream",
          "name": "stdout",
          "text": [
            "[0, 6, 12, 18, 24, 30, 36, 42, 48, 54, 60, 66, 72, 78, 84, 90, 96]\n"
          ]
        }
      ]
    },
    {
      "cell_type": "code",
      "source": [
        "# 조건문에 else문이 있으면 for문의 왼쪽에 작성\n",
        "alist = ['짝수' if i%2 == 0 else '홀수' for i in range(10)]\n",
        "print(alist)"
      ],
      "metadata": {
        "colab": {
          "base_uri": "https://localhost:8080/"
        },
        "id": "pi_KmnRfoG3D",
        "outputId": "d8c9d568-db62-4890-dc28-dd4200365a19"
      },
      "execution_count": null,
      "outputs": [
        {
          "output_type": "stream",
          "name": "stdout",
          "text": [
            "['짝수', '홀수', '짝수', '홀수', '짝수', '홀수', '짝수', '홀수', '짝수', '홀수']\n"
          ]
        }
      ]
    },
    {
      "cell_type": "code",
      "source": [
        "# 2차원 리스트\n",
        "s = [\n",
        "      [1,2,3,4,5],\n",
        "      [6,7,8,9,10],\n",
        "      [11,12,13,14,15]\n",
        "     ]\n",
        "print(s)\n",
        "\n",
        "# 2행 3열의 8을 출력, 인덱스는 0부터 시작한다.\n",
        "print(s[1][2])\n",
        "\n",
        "# 열은 범위로 지정할 수 있다. 2행의 3열부터 4열까지 출력\n",
        "print(s[1][2:4])"
      ],
      "metadata": {
        "colab": {
          "base_uri": "https://localhost:8080/"
        },
        "id": "mkJep1nAoiG3",
        "outputId": "664c86d9-bef9-4d2d-b85f-e23c7107fd1a"
      },
      "execution_count": null,
      "outputs": [
        {
          "output_type": "stream",
          "name": "stdout",
          "text": [
            "[[1, 2, 3, 4, 5], [6, 7, 8, 9, 10], [11, 12, 13, 14, 15]]\n",
            "8\n",
            "[8, 9]\n"
          ]
        }
      ]
    },
    {
      "cell_type": "code",
      "source": [
        "matrix1 = []\n",
        "\n",
        "# 언더바도 변수로 사용가능\n",
        "for _ in range(6) : \n",
        "  matrix2 = [] # matrix2를 선언 하며 비워준다.\n",
        "  for i in range(5) :\n",
        "    matrix2.append(i)\n",
        "  matrix1.append(matrix2)\n",
        "\n",
        "print(matrix1)"
      ],
      "metadata": {
        "colab": {
          "base_uri": "https://localhost:8080/"
        },
        "id": "EDu52weDpOFM",
        "outputId": "eeeb5085-ab2e-4887-eec9-d29e23704a2d"
      },
      "execution_count": null,
      "outputs": [
        {
          "output_type": "stream",
          "name": "stdout",
          "text": [
            "[[0, 1, 2, 3, 4], [0, 1, 2, 3, 4], [0, 1, 2, 3, 4], [0, 1, 2, 3, 4], [0, 1, 2, 3, 4], [0, 1, 2, 3, 4]]\n"
          ]
        }
      ]
    },
    {
      "cell_type": "code",
      "source": [
        "# 2차원 리스트 함축\n",
        "\n",
        "matrix = [[i for i in range(5)] for _ in range(6)]\n",
        "print(matrix)"
      ],
      "metadata": {
        "colab": {
          "base_uri": "https://localhost:8080/"
        },
        "id": "7oPbMILRq0ek",
        "outputId": "36d76424-062e-4d2a-d9ae-c3cc3da20bc3"
      },
      "execution_count": null,
      "outputs": [
        {
          "output_type": "stream",
          "name": "stdout",
          "text": [
            "[[0, 1, 2, 3, 4], [0, 1, 2, 3, 4], [0, 1, 2, 3, 4], [0, 1, 2, 3, 4], [0, 1, 2, 3, 4], [0, 1, 2, 3, 4]]\n"
          ]
        }
      ]
    },
    {
      "cell_type": "code",
      "source": [
        "matrix = [[0,0,0],[1,1,1],[2,2,2]]\n",
        "\n",
        "result = []\n",
        "\n",
        "for row in matrix : # row는 matrix의 요소를 순회한다. 첫 번째: [0,0,0] 두 번째: [1,1,1] 세 번째: [2,2,2]\n",
        "  for num in row : # num은 row에 포함된 요소를 순회. 첫 번째 row를 순회하면 0,0,0\n",
        "    result.append(num) # 순회하는 num을 result에 순서대로 추가해준다.\n",
        "\n",
        "print(result)"
      ],
      "metadata": {
        "colab": {
          "base_uri": "https://localhost:8080/"
        },
        "id": "VdxFPnHArm6F",
        "outputId": "292e1fe0-2519-4807-93e2-6c6cda85c1c4"
      },
      "execution_count": null,
      "outputs": [
        {
          "output_type": "stream",
          "name": "stdout",
          "text": [
            "[0, 0, 0, 1, 1, 1, 2, 2, 2]\n"
          ]
        }
      ]
    },
    {
      "cell_type": "code",
      "source": [
        "matrix = [['하나','둘','셋'],['넷','다섯','여섯'],['일곱','여덟','아홉']]\n",
        "\n",
        "# 기대하는 출력\n",
        "# 1 하나\n",
        "# 2 둘\n",
        "# 3 셋\n",
        "# ...\n",
        "\n",
        "i = 1\n",
        "for row in matrix :\n",
        "  for s in row :\n",
        "    print( i, s)\n",
        "    i += 1"
      ],
      "metadata": {
        "colab": {
          "base_uri": "https://localhost:8080/"
        },
        "id": "IKASAB6lr_8D",
        "outputId": "02eb040d-c7d0-4bec-9311-7d5c9f8fa9a3"
      },
      "execution_count": null,
      "outputs": [
        {
          "output_type": "stream",
          "name": "stdout",
          "text": [
            "1 하나\n",
            "2 둘\n",
            "3 셋\n",
            "4 넷\n",
            "5 다섯\n",
            "6 여섯\n",
            "7 일곱\n",
            "8 여덟\n",
            "9 아홉\n"
          ]
        }
      ]
    },
    {
      "cell_type": "code",
      "source": [
        "#\n",
        "#\n",
        "# 자료형 2\n",
        "#\n",
        "#"
      ],
      "metadata": {
        "id": "Rsqzb9cw3w3V"
      },
      "execution_count": null,
      "outputs": []
    },
    {
      "cell_type": "code",
      "source": [
        "# 튜플\n",
        "# 튜플은 리스트와 유사하지만\n",
        "# 1. () 소괄호를 사용, 괄호를 사용하지 않아도 된다\n",
        "# 2. 수정이 불가능하다.\n",
        "# 3. list()를 통해 리스트로 변환이 가능하다. tuple()을 통해 역으로 변환 가능"
      ],
      "metadata": {
        "id": "1bpCbO116AkZ"
      },
      "execution_count": null,
      "outputs": []
    },
    {
      "cell_type": "code",
      "source": [
        "# enumerate()"
      ],
      "metadata": {
        "id": "0YwHMqE07FOv"
      },
      "execution_count": null,
      "outputs": []
    },
    {
      "cell_type": "code",
      "source": [
        "fruits = [\"apple\", \"banana\", \"grape\"]\n",
        "print(list(enumerate(fruits)))\n",
        "for index, value in enumerate(fruits) :\n",
        "  print(index, value)"
      ],
      "metadata": {
        "colab": {
          "base_uri": "https://localhost:8080/"
        },
        "id": "-J3zXzm67Hvm",
        "outputId": "8af56089-1714-47c4-c083-fcfba8909d0c"
      },
      "execution_count": null,
      "outputs": [
        {
          "output_type": "stream",
          "name": "stdout",
          "text": [
            "[(0, 'apple'), (1, 'banana'), (2, 'grape')]\n",
            "0 apple\n",
            "1 banana\n",
            "2 grape\n"
          ]
        }
      ]
    },
    {
      "cell_type": "code",
      "source": [
        "# set() 집합\n",
        "# set를 초기화 할때 {}로 초기화하면 안된다. set() 사용\n",
        "# set는 중복허용이 안된다."
      ],
      "metadata": {
        "id": "BEtIKcGO7Vhb"
      },
      "execution_count": null,
      "outputs": []
    },
    {
      "cell_type": "code",
      "source": [
        "aList = {1,2,3,4,5,1,2}\n",
        "result = {x for x in aList if x%2==0}\n",
        "print(result)"
      ],
      "metadata": {
        "colab": {
          "base_uri": "https://localhost:8080/"
        },
        "id": "74nqQVTA7yN7",
        "outputId": "1088922a-f44d-4bca-8099-3930e6b9fe81"
      },
      "execution_count": null,
      "outputs": [
        {
          "output_type": "stream",
          "name": "stdout",
          "text": [
            "{2, 4}\n"
          ]
        }
      ]
    },
    {
      "cell_type": "code",
      "source": [
        "list1 = [1,2,3,4,5]\n",
        "list2 = [3,4,5,6,7]\n",
        "set(list1) & set(list2) # list1, list2 를 set로 변환 후 교집합(intersection)을 구한다."
      ],
      "metadata": {
        "colab": {
          "base_uri": "https://localhost:8080/"
        },
        "id": "1JjD2sNv8eUV",
        "outputId": "077de5cb-c1a8-4a71-f0ac-5d398a41192f"
      },
      "execution_count": null,
      "outputs": [
        {
          "output_type": "execute_result",
          "data": {
            "text/plain": [
              "{3, 4, 5}"
            ]
          },
          "metadata": {},
          "execution_count": 88
        }
      ]
    },
    {
      "cell_type": "code",
      "source": [
        "capitals = {}\n",
        "capitals = { \"KOREA\":\"Seoul\",\"USA\":\"Washington\",\"UK\":\"London\"}\n",
        "\n",
        "print(capitals[\"KOREA\"])"
      ],
      "metadata": {
        "colab": {
          "base_uri": "https://localhost:8080/"
        },
        "id": "Bap0I9tK9kHu",
        "outputId": "f456baaf-874d-4a8b-d980-c81c921acf3b"
      },
      "execution_count": null,
      "outputs": [
        {
          "output_type": "stream",
          "name": "stdout",
          "text": [
            "Seoul\n"
          ]
        }
      ]
    },
    {
      "cell_type": "code",
      "source": [
        "capitals = {}\n",
        "capitals[\"KOREA\"]=\"Seoul\"\n",
        "capitals[\"USA\"]=\"Washington\"\n",
        "capitals[\"UK\"]=\"London\"\n",
        "capitals[\"FRANCE\"]=\"Paris\"\n",
        "\n",
        "print(capitals)"
      ],
      "metadata": {
        "colab": {
          "base_uri": "https://localhost:8080/"
        },
        "id": "f3Eq88ZH-OBw",
        "outputId": "66d2fd7e-7248-4b00-90a9-3bc3efb6f428"
      },
      "execution_count": null,
      "outputs": [
        {
          "output_type": "stream",
          "name": "stdout",
          "text": [
            "{'KOREA': 'Seoul', 'USA': 'Washington', 'UK': 'London', 'FRANCE': 'Paris'}\n"
          ]
        }
      ]
    },
    {
      "cell_type": "code",
      "source": [
        "capitals = {\"KOREA\":\"Seaoul\"} # capitals 딕셔너리를 선언\n",
        "c = capitals.pop(\"KOREA\") \n",
        "print(c)\n",
        "print(capitals)"
      ],
      "metadata": {
        "colab": {
          "base_uri": "https://localhost:8080/"
        },
        "id": "hbbtc9S7-yD1",
        "outputId": "6ea8e229-dd48-4f81-ad58-efcae31a7b94"
      },
      "execution_count": null,
      "outputs": [
        {
          "output_type": "stream",
          "name": "stdout",
          "text": [
            "Seaoul\n",
            "{}\n"
          ]
        }
      ]
    },
    {
      "cell_type": "code",
      "source": [
        "capitals = {\"KOREA\":\"Seoul\",\"USA\":\"Washington\"}\n",
        "\n",
        "print(capitals.items())\n",
        "print(capitals.keys()) # 딕셔너리 요소의 \"키\"들만 출력\n",
        "print(capitals.values()) # 딕셔너리 요소의 \"값\"들만 출력\n",
        "\n",
        "print(list(capitals.items())[0]) # 리스트로 변환 후 인덱스 0인 요소를 출력"
      ],
      "metadata": {
        "colab": {
          "base_uri": "https://localhost:8080/"
        },
        "id": "aJLn6YZD_Fy5",
        "outputId": "09a58616-3499-4ba8-a66d-19367ecaba9d"
      },
      "execution_count": null,
      "outputs": [
        {
          "output_type": "stream",
          "name": "stdout",
          "text": [
            "dict_items([('KOREA', 'Seoul'), ('USA', 'Washington')])\n",
            "dict_keys(['KOREA', 'USA'])\n",
            "dict_values(['Seoul', 'Washington'])\n",
            "('KOREA', 'Seoul')\n"
          ]
        }
      ]
    },
    {
      "cell_type": "code",
      "source": [
        "capitals = {\"Korea\":\"Seoul\",\"USA\":\"Washington\",\"UK\":\"London\"}\n",
        "\n",
        "for key in capitals.items(): # 딕셔너리.itmes()를 하나의 변수로 for문을 순회하면 키,값 쌍으로 순회\n",
        "  print(key)\n",
        "\n",
        "for k, v in capitals.items() : # 딕셔너리.items()를 두개의 변수로 for문을 순회하면 각각의 변수에 키와 값으로 순회\n",
        "  print(k,v)"
      ],
      "metadata": {
        "colab": {
          "base_uri": "https://localhost:8080/"
        },
        "id": "U0-Zc6O6AQlP",
        "outputId": "88a4e296-83a0-46a4-aa18-96c5bacc331f"
      },
      "execution_count": null,
      "outputs": [
        {
          "output_type": "stream",
          "name": "stdout",
          "text": [
            "('Korea', 'Seoul')\n",
            "('USA', 'Washington')\n",
            "('UK', 'London')\n",
            "Korea Seoul\n",
            "USA Washington\n",
            "UK London\n"
          ]
        }
      ]
    },
    {
      "cell_type": "code",
      "source": [
        "for key in sorted(capitals.keys()) :\n",
        "  print(key, end=\" \")"
      ],
      "metadata": {
        "colab": {
          "base_uri": "https://localhost:8080/"
        },
        "id": "szWtlL4NA1NL",
        "outputId": "499389ff-5369-4b60-9c60-ee13ed84446c"
      },
      "execution_count": null,
      "outputs": [
        {
          "output_type": "stream",
          "name": "stdout",
          "text": [
            "Korea UK USA "
          ]
        }
      ]
    },
    {
      "cell_type": "code",
      "source": [
        "values = [1,2,3,4,5,6]\n",
        "\n",
        "dic = {x : x**2 for x in values if x%2==0}\n",
        "\n",
        "print(dic)"
      ],
      "metadata": {
        "id": "GUbVn4ShtNu6",
        "colab": {
          "base_uri": "https://localhost:8080/"
        },
        "outputId": "f5c8005f-0494-493c-c5cf-9ff90be4f664"
      },
      "execution_count": 21,
      "outputs": [
        {
          "output_type": "stream",
          "name": "stdout",
          "text": [
            "{2: 4, 4: 16, 6: 36}\n"
          ]
        }
      ]
    },
    {
      "cell_type": "code",
      "source": [
        "# 딕셔너리에 요소를 추가할 때 특정 index에 추가하고싶다면 list로 변환한 후 추가하고 다시 변환해야하나?"
      ],
      "metadata": {
        "id": "nCLH_d8xEq-T"
      },
      "execution_count": 22,
      "outputs": []
    },
    {
      "cell_type": "code",
      "source": [
        "#회문"
      ],
      "metadata": {
        "id": "MyAIkWt8GRWU"
      },
      "execution_count": 23,
      "outputs": []
    },
    {
      "cell_type": "code",
      "source": [
        "s = input(\"문자열을 입력하시오: \")\n",
        "\n",
        "s1 = s[::-1] # 문자열을 거꾸로 만든다\n",
        "\n",
        "if s == s1 :\n",
        "  print(\"회문입니다.\")\n",
        "else :\n",
        "  print(\"회문이 아닙니다.\")"
      ],
      "metadata": {
        "colab": {
          "base_uri": "https://localhost:8080/"
        },
        "id": "2UtkmXfTHCHW",
        "outputId": "6ef97cf2-0952-4c68-f823-55dcd67fa8c7"
      },
      "execution_count": 25,
      "outputs": [
        {
          "output_type": "stream",
          "name": "stdout",
          "text": [
            "문자열을 입력하시오sis\n",
            "회문입니다.\n"
          ]
        }
      ]
    },
    {
      "cell_type": "code",
      "source": [
        "\"ABCabc\".isalpha() # 문자열이 알파벳으로 이루어져있는가?"
      ],
      "metadata": {
        "colab": {
          "base_uri": "https://localhost:8080/"
        },
        "id": "Bsh_9f8EHEfT",
        "outputId": "635c70b3-f442-4304-8aa9-88a19986fa39"
      },
      "execution_count": 28,
      "outputs": [
        {
          "output_type": "execute_result",
          "data": {
            "text/plain": [
              "True"
            ]
          },
          "metadata": {},
          "execution_count": 28
        }
      ]
    },
    {
      "cell_type": "code",
      "source": [
        "\"123\".isdigit() # 문자열이 숫자로 이루어져있는가?"
      ],
      "metadata": {
        "colab": {
          "base_uri": "https://localhost:8080/"
        },
        "id": "7qWF-vg-IBEV",
        "outputId": "20371696-3f20-430f-fe74-b30df81bc8a7"
      },
      "execution_count": 29,
      "outputs": [
        {
          "output_type": "execute_result",
          "data": {
            "text/plain": [
              "True"
            ]
          },
          "metadata": {},
          "execution_count": 29
        }
      ]
    },
    {
      "cell_type": "code",
      "source": [
        "\"abc\".islower() # 문자열이 소문자인가?"
      ],
      "metadata": {
        "colab": {
          "base_uri": "https://localhost:8080/"
        },
        "id": "Y6cF5VprIIt3",
        "outputId": "bb635d06-7520-4cdd-b48e-e9202c535053"
      },
      "execution_count": 30,
      "outputs": [
        {
          "output_type": "execute_result",
          "data": {
            "text/plain": [
              "True"
            ]
          },
          "metadata": {},
          "execution_count": 30
        }
      ]
    },
    {
      "cell_type": "code",
      "source": [
        "#\n",
        "#\n",
        "# 객체와 클래스\n",
        "#\n",
        "#"
      ],
      "metadata": {
        "id": "Gd4AlxJxIJLo"
      },
      "execution_count": 31,
      "outputs": []
    },
    {
      "cell_type": "code",
      "source": [
        "class Avante :      # 아반떼 설계도, 차 속성은 가격만 설정\n",
        "  def __init__(self,price) :    # initialization 함수. 특수메소드\n",
        "    self.price = price\n",
        "    print(price)\n",
        "\n",
        "myAvante = Avante(2500)"
      ],
      "metadata": {
        "colab": {
          "base_uri": "https://localhost:8080/"
        },
        "id": "_Agdyo4aprkA",
        "outputId": "944f62c2-506e-49c4-bda6-57984c51a6f6"
      },
      "execution_count": 33,
      "outputs": [
        {
          "output_type": "stream",
          "name": "stdout",
          "text": [
            "2500\n"
          ]
        }
      ]
    },
    {
      "cell_type": "code",
      "source": [
        "class Sonata :\n",
        "  def __init__(self, price, color) :\n",
        "    self.price = price    # 인스턴스 속성\n",
        "    self.color = color\n",
        "\n",
        "  def driving(self) :\n",
        "    print('주행을 시작합니다')\n",
        "\n",
        "mySonata = Sonata(3000, 'black')\n",
        "print(mySonata.price)\n",
        "print(mySonata.color)\n",
        "\n",
        "mySonata.driving() # => 함수 인자에 self가 들어가는 이유 Sonata.driving(mySonata)"
      ],
      "metadata": {
        "colab": {
          "base_uri": "https://localhost:8080/"
        },
        "id": "CwqfL7gXqWs0",
        "outputId": "6bfb5c6e-d803-46b8-94fb-5f9ea6fa0971"
      },
      "execution_count": 40,
      "outputs": [
        {
          "output_type": "stream",
          "name": "stdout",
          "text": [
            "3000\n",
            "black\n",
            "주행을 시작합니다\n"
          ]
        }
      ]
    },
    {
      "cell_type": "code",
      "source": [],
      "metadata": {
        "id": "GvFAHP8yvvPq"
      },
      "execution_count": null,
      "outputs": []
    },
    {
      "cell_type": "code",
      "source": [
        "class Counter :\n",
        "  def __init__(self, initValue=0) :\n",
        "    self.count = initValue\n",
        "\n",
        "  def increment(self) : # Counter의 멤버함수 또는 인스턴스함수\n",
        "    self.count += 1\n",
        "\n",
        "a = Counter()\n",
        "\n",
        "print(a.count)\n",
        "\n",
        "a.increment()\n",
        "\n",
        "print(a.count)\n",
        "\n",
        "b = Counter(100)    # 카운터의 초기값은 100이 된다.\n",
        "c = Counter()       # 카운터의 초기값은 0이 된다.\n",
        "\n",
        "print(b.count)"
      ],
      "metadata": {
        "colab": {
          "base_uri": "https://localhost:8080/"
        },
        "id": "xEAMpxoqq8iI",
        "outputId": "b63697e6-1893-40f9-fcee-ab27e0386416"
      },
      "execution_count": 46,
      "outputs": [
        {
          "output_type": "stream",
          "name": "stdout",
          "text": [
            "0\n",
            "1\n",
            "100\n"
          ]
        }
      ]
    },
    {
      "cell_type": "code",
      "source": [
        "# 원 클래스 정의\n",
        "import math\n",
        "# Circle 클래스를 정의한다.\n",
        "class Circle :\n",
        "  def __init__(self, radius=0) :\n",
        "    self.radius = radius\n",
        "\n",
        "  def getArea(self) :\n",
        "    return math.pi * self.radius * self.radius\n",
        "  def getPerimeter(self) :\n",
        "    return 2 * math.pi * self.radius\n",
        "\n",
        "# Circle 객체를 생성한다.\n",
        "c = Circle(10)\n",
        "print(\"원의 면적: \",c.getArea())\n",
        "print(\"원의 둘레: \",c.getPerimeter())"
      ],
      "metadata": {
        "colab": {
          "base_uri": "https://localhost:8080/"
        },
        "id": "DC3Ih0ljwg22",
        "outputId": "040761d5-874f-4a02-a479-ef4c5fb63594"
      },
      "execution_count": 50,
      "outputs": [
        {
          "output_type": "stream",
          "name": "stdout",
          "text": [
            "원의 면적:  314.1592653589793\n",
            "원의 둘레:  62.83185307179586\n"
          ]
        }
      ]
    },
    {
      "cell_type": "code",
      "source": [
        "# 자동차 클래스 정의\n",
        "class Car :\n",
        "  def __init__(self,speed,color,model) :\n",
        "    print(\"자동차 객체를 생성하였습니다.\")\n",
        "    self.__speed = speed # 앞에 \"__\"를 추가하면 정보를 은닉할 수 있다.\n",
        "    self.color = color\n",
        "    self.model = model\n",
        "\n",
        "  def getSpeed(self) :\n",
        "    return self.__speed\n",
        "\n",
        "  def setSpeed(self, speed) :\n",
        "    self.__speed = speed\n",
        "\n",
        "myCar = Car(0,\"blue\",\"E-class\")\n",
        "print(myCar.getSpeed())\n",
        "myCar.setSpeed(10)\n",
        "print(myCar.getSpeed())"
      ],
      "metadata": {
        "colab": {
          "base_uri": "https://localhost:8080/"
        },
        "id": "YZ9c9KGpyQ2d",
        "outputId": "112eca65-9727-4a16-ccd6-425966679516"
      },
      "execution_count": 74,
      "outputs": [
        {
          "output_type": "stream",
          "name": "stdout",
          "text": [
            "자동차 객체를 생성하였습니다.\n",
            "0\n",
            "10\n"
          ]
        }
      ]
    },
    {
      "cell_type": "code",
      "source": [
        "print(\"자동차의 속도는 \", myCar.getSpeed())\n",
        "print(\"자동차의 색상은 \", myCar.color)\n",
        "print(\"자동차의 모델은 \", myCar.model)"
      ],
      "metadata": {
        "colab": {
          "base_uri": "https://localhost:8080/"
        },
        "id": "ax9_X22hzRYi",
        "outputId": "60e7f5ae-7cd9-4945-c015-93a5f08501dc"
      },
      "execution_count": 77,
      "outputs": [
        {
          "output_type": "stream",
          "name": "stdout",
          "text": [
            "자동차의 속도는  10\n",
            "자동차의 색상은  blue\n",
            "자동차의 모델은  E-class\n"
          ]
        }
      ]
    },
    {
      "cell_type": "code",
      "source": [
        "# 클래스 변수\n",
        "\n",
        "class Counter :\n",
        "  value = 0\n",
        "  def __init__(self) :\n",
        "    Counter.value += 1\n",
        "    self.count = Counter.value\n",
        "\n",
        "a = Counter()\n",
        "\n",
        "print(a.count)\n",
        "\n",
        "b = Counter()\n",
        "\n",
        "print(b.count)\n",
        "\n",
        "print(a==b)"
      ],
      "metadata": {
        "colab": {
          "base_uri": "https://localhost:8080/"
        },
        "id": "YCkE-Nrh1RUb",
        "outputId": "d8b1db8f-ca7d-4fa4-94a4-53c68afba83d"
      },
      "execution_count": 84,
      "outputs": [
        {
          "output_type": "stream",
          "name": "stdout",
          "text": [
            "1\n",
            "2\n",
            "False\n"
          ]
        }
      ]
    },
    {
      "cell_type": "code",
      "source": [
        "# 특수 메소드\n",
        "class Counter :\n",
        "  def __init__(self, value) :\n",
        "    self.count = value\n",
        "  \n",
        "  def __eq__(self, other) :\n",
        "    print(\"eq메소드 실행!\")\n",
        "    return self.count == other.count\n",
        "\n",
        "  def __str__(self) :\n",
        "    return \"문자열 출력!\"\n",
        "\n",
        "a = Counter(10)\n",
        "b = Counter(10)\n",
        "\n",
        "print(\"====================\")\n",
        "print(a==b)\n",
        "\n",
        "print(a)"
      ],
      "metadata": {
        "colab": {
          "base_uri": "https://localhost:8080/"
        },
        "id": "XMHPM9Kj8umJ",
        "outputId": "cfbf473a-1364-43c7-ba76-04bf6d842e16"
      },
      "execution_count": 91,
      "outputs": [
        {
          "output_type": "stream",
          "name": "stdout",
          "text": [
            "====================\n",
            "eq메소드 실행!\n",
            "True\n",
            "문자열 출력!\n"
          ]
        }
      ]
    },
    {
      "cell_type": "code",
      "source": [
        "class Vector2D :\n",
        "  def __init__(self, x, y) :\n",
        "    self.x = x\n",
        "    self.y = y\n",
        "\n",
        "  def __add__(self, other) :\n",
        "    print(self.x, other.x)\n",
        "    print(self.y, other.y)\n",
        "    print(self.x + other.x, self.y + other.y)\n",
        "\n",
        "    return Vector2D(self.x + other.x, self.y + other.y)\n",
        "\n",
        "  def __str__(self) :\n",
        "    return f\"({self.x},{self.y})\"\n",
        "    \n",
        "u = Vector2D(1,2)\n",
        "v = Vector2D(3,4)\n",
        "\n",
        "a = u + v\n",
        "\n",
        "print(a)"
      ],
      "metadata": {
        "colab": {
          "base_uri": "https://localhost:8080/"
        },
        "id": "cCaiS-R691Mg",
        "outputId": "3c541fb0-cd58-4f80-f339-0a1358501a0f"
      },
      "execution_count": 102,
      "outputs": [
        {
          "output_type": "stream",
          "name": "stdout",
          "text": [
            "1 3\n",
            "2 4\n",
            "4 6\n",
            "(4,6)\n"
          ]
        }
      ]
    },
    {
      "cell_type": "code",
      "source": [
        "# 상속"
      ],
      "metadata": {
        "id": "8s1tB2Sq_sCK"
      },
      "execution_count": 103,
      "outputs": []
    },
    {
      "cell_type": "code",
      "source": [
        "class Car : # 부모\n",
        "  def __init__(self, Car_price, color, km) :\n",
        "    self.Car_price = Car_price\n",
        "    self.color = color\n",
        "    self.km = km\n",
        "\n",
        "class Avante(Car) : # 자식, 부모(Car)를 상속\n",
        "  def __init__(self, Car_price, color, km, year) :\n",
        "    super().__init__(Car_price, color, km)  # 부모의 생성 함수\n",
        "    self.year = year\n",
        "\n",
        "myAvante = Avante(3000, \"red\", \"120000km\", \"2009\")\n",
        "\n",
        "myAvante.Car_price"
      ],
      "metadata": {
        "colab": {
          "base_uri": "https://localhost:8080/"
        },
        "id": "3cgqige5Bjq2",
        "outputId": "125c40c8-0b23-492d-b03a-f081208ed883"
      },
      "execution_count": 105,
      "outputs": [
        {
          "output_type": "execute_result",
          "data": {
            "text/plain": [
              "3000"
            ]
          },
          "metadata": {},
          "execution_count": 105
        }
      ]
    },
    {
      "cell_type": "code",
      "source": [],
      "metadata": {
        "id": "Jf0eSkMZDU84"
      },
      "execution_count": null,
      "outputs": []
    }
  ]
}