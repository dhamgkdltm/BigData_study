{
  "nbformat": 4,
  "nbformat_minor": 0,
  "metadata": {
    "colab": {
      "provenance": []
    },
    "kernelspec": {
      "name": "python3",
      "display_name": "Python 3"
    },
    "language_info": {
      "name": "python"
    }
  },
  "cells": [
    {
      "cell_type": "code",
      "source": [
        "from google.colab import drive\n",
        "drive.mount('/content/drive')"
      ],
      "metadata": {
        "colab": {
          "base_uri": "https://localhost:8080/"
        },
        "id": "AWM5EddL2D52",
        "outputId": "76139bf7-325d-4312-b185-c5a6cbc644e5"
      },
      "execution_count": null,
      "outputs": [
        {
          "output_type": "stream",
          "name": "stdout",
          "text": [
            "Mounted at /content/drive\n"
          ]
        }
      ]
    },
    {
      "cell_type": "code",
      "source": [
        "%cd /content/drive/MyDrive/"
      ],
      "metadata": {
        "colab": {
          "base_uri": "https://localhost:8080/"
        },
        "id": "k2d3KqBY2daU",
        "outputId": "0c1d189c-e540-4277-9427-2c77eb6e4334"
      },
      "execution_count": null,
      "outputs": [
        {
          "output_type": "stream",
          "name": "stdout",
          "text": [
            "/content/drive/MyDrive\n"
          ]
        }
      ]
    },
    {
      "cell_type": "code",
      "source": [
        "!ls"
      ],
      "metadata": {
        "colab": {
          "base_uri": "https://localhost:8080/"
        },
        "id": "NYzcJLq32qj9",
        "outputId": "5efb40f2-b797-4d9f-f3b0-c85b9b14244e"
      },
      "execution_count": null,
      "outputs": [
        {
          "output_type": "stream",
          "name": "stdout",
          "text": [
            " 201008_AP4_RM_제작_도면.zip  'P8 MMG 1품1도.zip'   자료\n",
            "'Colab Notebooks'\t       김태영.zip\t    주모_SQL정리.xlsx\n",
            "'CSOT T4.zip'\t\t       인생\n"
          ]
        }
      ]
    },
    {
      "cell_type": "markdown",
      "source": [
        "01\n",
        "\n",
        "for문의 실행결과를 예측하라.\n",
        "\n",
        "```\n",
        "과일 = [\"사과\", \"귤\", \"수박\"]\n",
        "for 변수 in 과일:\n",
        "    print(변수)\n",
        "\n",
        "```"
      ],
      "metadata": {
        "id": "nj3TlapiH5L7"
      }
    },
    {
      "cell_type": "code",
      "source": [
        "#사과\n",
        "#귤\n",
        "#수박\n",
        "과일 = [\"사과\", \"귤\", \"수박\"] #\"사과\", \"귤\", \"수박\" 을 요소로 하는 \"과일\" 리스트를 선언.\n",
        "for 변수 in 과일: #\"변수\"라는 객체를 통해 \"과일\" 리스트의 모든 요소를 반복한다.\n",
        "    print(변수) #각 반복마다 \"과일\"의 요소(\"변수\")를 출력한다."
      ],
      "metadata": {
        "id": "daXA4ISFH4t-",
        "colab": {
          "base_uri": "https://localhost:8080/"
        },
        "outputId": "981ccd46-d93d-488c-a1ae-ad4a7e904d54"
      },
      "execution_count": null,
      "outputs": [
        {
          "output_type": "stream",
          "name": "stdout",
          "text": [
            "사과\n",
            "귤\n",
            "수박\n"
          ]
        }
      ]
    },
    {
      "cell_type": "markdown",
      "source": [
        "02\n",
        "\n",
        "for문의 실행결과를 예측하라.\n",
        "\n",
        "```\n",
        "과일 = [\"사과\", \"귤\", \"수박\"]\n",
        "for 변수 in 과일:\n",
        "  print(\"#####\")\n",
        "```"
      ],
      "metadata": {
        "id": "-IlHn2gZIZd_"
      }
    },
    {
      "cell_type": "code",
      "execution_count": null,
      "metadata": {
        "id": "D1wrhEPoH0q4",
        "colab": {
          "base_uri": "https://localhost:8080/"
        },
        "outputId": "d6b76105-d1e8-4fc6-b927-da771271d07b"
      },
      "outputs": [
        {
          "output_type": "stream",
          "name": "stdout",
          "text": [
            "#####\n",
            "#####\n",
            "#####\n"
          ]
        }
      ],
      "source": [
        "# #####\n",
        "# #####\n",
        "# #####\n",
        "\n",
        "과일 = [\"사과\", \"귤\", \"수박\"]\n",
        "for 변수 in 과일:\n",
        "  print(\"#####\") #1번문제와 거의 동일하나 \"변수\"로 선언했던 과일의 요소대신 \"#####\"라는 문자열을 출력한다."
      ]
    },
    {
      "cell_type": "markdown",
      "source": [
        "03\n",
        "\n",
        "다음 for 문과 동일한 기능을 수행하는 코드를 작성하세요.\n",
        "\n",
        "```\n",
        "for 변수 in [\"A\", \"B\", \"C\"]:\n",
        "  print(변수)\n",
        "```"
      ],
      "metadata": {
        "id": "y63R3vi1Ie9-"
      }
    },
    {
      "cell_type": "code",
      "source": [
        "list = [\"A\", \"B\", \"C\"] #\"list\"라는 이름의 LIst를 선언하고 요소를 설정\n",
        "\n",
        "for i in range(3) : #\"i\"를 range(3)만큼 반복하며 해당 요소(0,1,2)를 순회한다\n",
        "  print(list[i]) #각 반복마다 \"i\"는 0,1,2의 값을 가지고, list의 index 0,1,2에 해당하는 값을 출력한다 "
      ],
      "metadata": {
        "id": "HVfkYSGSIiUd",
        "colab": {
          "base_uri": "https://localhost:8080/"
        },
        "outputId": "5175b919-d324-4654-96cb-bf5d4aa6c066"
      },
      "execution_count": null,
      "outputs": [
        {
          "output_type": "stream",
          "name": "stdout",
          "text": [
            "A\n",
            "B\n",
            "C\n",
            "A\n",
            "B\n",
            "C\n"
          ]
        }
      ]
    },
    {
      "cell_type": "markdown",
      "source": [
        "04\n",
        "\n",
        "for문을 풀어서 동일한 동작을하는 코드를 작성하라.\n",
        "\n",
        "```\n",
        "for 변수 in [\"A\", \"B\", \"C\"]:\n",
        "  print(\"출력:\", 변수)\n",
        "```"
      ],
      "metadata": {
        "id": "ugFsFUIOIjV2"
      }
    },
    {
      "cell_type": "code",
      "source": [
        "#3번 문제와 동일, 출력할 때 마다 값의 앞에 \"출력:\"이라는 문자열을 붙여서 출력한다.\n",
        " \n",
        "list = [\"A\",\"B\",\"C\"] #\"list\"라는 이름의 LIst를 선언하고 요소를 설정\n",
        "\n",
        "for i in range(3) : #\"i\"를 range(3)만큼 반복하며 해당 요소(0,1,2)를 순회한다\n",
        "  print(\"출력:\", list[i]) #각 반복마다 \"i\"는 0,1,2의 값을 가지고, list의 index 0,1,2에 해당하는 값을 출력한다 "
      ],
      "metadata": {
        "id": "5elfVCaGIlu5",
        "colab": {
          "base_uri": "https://localhost:8080/"
        },
        "outputId": "29b82d01-096b-4d02-b32e-bcef2ff21bdd"
      },
      "execution_count": null,
      "outputs": [
        {
          "output_type": "stream",
          "name": "stdout",
          "text": [
            "출력: A\n"
          ]
        }
      ]
    },
    {
      "cell_type": "markdown",
      "source": [
        "05\n",
        "\n",
        "for문을 풀어서 동일한 동작을 하는 코드를 작성하라.\n",
        "\n",
        "```\n",
        "for 변수 in [\"A\", \"B\", \"C\"]:\n",
        "  b = 변수.lower()\n",
        "  print(\"변환:\", b)\n",
        "```"
      ],
      "metadata": {
        "id": "LnsnBSOdInw9"
      }
    },
    {
      "cell_type": "code",
      "source": [
        "변수 = \"A\" #\"변수\"라는 이름의 변수에 문자열 \"A\"를 대입\n",
        "b = 변수.lower() #\"b\"라는 이름의 변수에 \"변수\"의 값을 소문자로 변환하여 대입\n",
        "print(\"변환:\", b) #\"변환: (b의 값)\" 형식으로 출력\n",
        "\n",
        "#아래도 위와 동일하게 반복\n",
        "\n",
        "변수 = \"B\"\n",
        "b = 변수.lower()\n",
        "print(\"변환\":, b)\n",
        "\n",
        "변수 = \"C\"\n",
        "b = 변수.lower()\n",
        "print(\"변환\":, b)"
      ],
      "metadata": {
        "id": "1ngoFd7EIrAo"
      },
      "execution_count": null,
      "outputs": []
    },
    {
      "cell_type": "markdown",
      "source": [
        "06\n",
        "\n",
        "다음 코드를 for문으로 작성하라.\n",
        "\n",
        "```\n",
        "변수 = 10\n",
        "print(변수)\n",
        "변수 = 20\n",
        "print(변수)\n",
        "변수 = 30\n",
        "print(변수)\n",
        "```"
      ],
      "metadata": {
        "id": "fWee8nxXItat"
      }
    },
    {
      "cell_type": "code",
      "source": [
        "for 변수 in [10, 20, 30] : #\"변수\"라는 이름의 변수로 해당 리스트의 요소들을 순회한다.\n",
        "  print(변수) #반복할 리스트의 크기(3)만큼 반복하며 해당하는 요소의 값을 출력한다."
      ],
      "metadata": {
        "id": "Ts11q_cRIw7Q",
        "colab": {
          "base_uri": "https://localhost:8080/"
        },
        "outputId": "9e3efc64-abe1-4f4d-a5fd-84aa86815052"
      },
      "execution_count": null,
      "outputs": [
        {
          "output_type": "stream",
          "name": "stdout",
          "text": [
            "변수 = 10\n",
            "10\n",
            "변수 = 20\n",
            "20\n",
            "변수 = 30\n",
            "30\n"
          ]
        }
      ]
    },
    {
      "cell_type": "markdown",
      "source": [
        "07\n",
        "\n",
        "다음 코드를 for문으로 작성하라.\n",
        "\n",
        "```\n",
        "print(10)\n",
        "print(20)\n",
        "print(30)\n",
        "```"
      ],
      "metadata": {
        "id": "JVBw3URdIyd4"
      }
    },
    {
      "cell_type": "code",
      "source": [
        "for i in range(3) : #변수 \"i\"를 range(3)만큼 반복, 각 반복 시 i는 0,1,2의 값을 가진다.\n",
        "  print((i+1)*10) #i의 값에 1을 더하여 순서대로 1,2,3이 되도록 한 후, 10을 곱하여 10,20,30을 순차적으로 출력한다."
      ],
      "metadata": {
        "id": "XLvKeXuiI2HH",
        "colab": {
          "base_uri": "https://localhost:8080/"
        },
        "outputId": "b7cc2109-c5aa-4c12-886b-14f713a34f2e"
      },
      "execution_count": null,
      "outputs": [
        {
          "output_type": "stream",
          "name": "stdout",
          "text": [
            "10\n",
            "20\n",
            "30\n"
          ]
        }
      ]
    },
    {
      "cell_type": "markdown",
      "source": [
        "08\n",
        "\n",
        "다음 코드를 for문으로 작성하라.\n",
        "\n",
        "```\n",
        "print(10)\n",
        "print(\"-------\")\n",
        "print(20)\n",
        "print(\"-------\")\n",
        "print(30)\n",
        "print(\"-------\")\n",
        "```"
      ],
      "metadata": {
        "id": "2sDzJxplI3Jx"
      }
    },
    {
      "cell_type": "code",
      "source": [
        "#7번 문제와 동일하나, \"--------\"를 추가로 출력한다.\n",
        "\n",
        "for i in range(3) : #변수 \"i\"를 range(3)만큼 반복, 각 반복 시 i는 0,1,2의 값을 가진다.\n",
        "  print((i+1)*10) #i의 값에 1을 더하여 순서대로 1,2,3이 되도록 한 후, 10을 곱하여 10,20,30을 순차적으로 출력한다.\n",
        "  print(\"-------\") #\"-------\"를 출력"
      ],
      "metadata": {
        "id": "z-XVoPVcI6s3",
        "colab": {
          "base_uri": "https://localhost:8080/"
        },
        "outputId": "8cf781d8-b92e-4ebb-ef0b-f1163dbda68c"
      },
      "execution_count": null,
      "outputs": [
        {
          "output_type": "stream",
          "name": "stdout",
          "text": [
            "10\n",
            "-------\n",
            "20\n",
            "-------\n",
            "30\n",
            "-------\n"
          ]
        }
      ]
    },
    {
      "cell_type": "markdown",
      "source": [
        "09\n",
        "\n",
        "다음 코드를 for문으로 작성하라.\n",
        "\n",
        "```\n",
        "print(\"++++\")\n",
        "print(10)\n",
        "print(20)\n",
        "print(30)\n",
        "```"
      ],
      "metadata": {
        "id": "0oFn1hEnI-Y4"
      }
    },
    {
      "cell_type": "code",
      "source": [
        "for i in range(4) : #변수 \"i\"를 range(4)만큼 반복, 각 반복 시 i는 0,1,2,3의 값을 가진다.\n",
        "  if i == 0 : #\"i\"가 0일 경우\n",
        "    print(\"++++\") #\"++++\"를 출력\n",
        "  else : #\"i\"가 0이 아닌 경우(\"i\"가 1,2,3인 경우)\n",
        "    print(i*10) #\"i\"의 값에 10을 곱한 값을 출력한다. 각각 10, 20, 30"
      ],
      "metadata": {
        "id": "2EHBT0GUJAa3",
        "colab": {
          "base_uri": "https://localhost:8080/"
        },
        "outputId": "01bb9b22-ca79-4b5b-d7b8-88e3570decf2"
      },
      "execution_count": null,
      "outputs": [
        {
          "output_type": "stream",
          "name": "stdout",
          "text": [
            "++++\n",
            "10\n",
            "20\n",
            "30\n"
          ]
        }
      ]
    },
    {
      "cell_type": "markdown",
      "source": [
        "10\n",
        "\n",
        "다음 코드를 for문으로 작성하라.\n",
        "\n",
        "```\n",
        "print(\"-------\")\n",
        "print(\"-------\")\n",
        "print(\"-------\")\n",
        "print(\"-------\")\n",
        "```"
      ],
      "metadata": {
        "id": "s27YnAUAJB1q"
      }
    },
    {
      "cell_type": "code",
      "source": [
        "#9번 문제와 유사하나, 특정한 값을 출력하는 대신 문자열 \"--------\"를 출력한다.\n",
        "\n",
        "for i in range(4) : #변수 \"i\"를 range(4)만큼 반복, 각 반복 시 i는 0,1,2,3의 값을 가진다.\n",
        "  print(\"-------\") #\"-------\"를 출력"
      ],
      "metadata": {
        "id": "s5YJV3lDJDwW",
        "colab": {
          "base_uri": "https://localhost:8080/"
        },
        "outputId": "24aa8253-4dfd-4ff8-9314-0f828f35164c"
      },
      "execution_count": null,
      "outputs": [
        {
          "output_type": "stream",
          "name": "stdout",
          "text": [
            "-------\n",
            "-------\n",
            "-------\n",
            "-------\n"
          ]
        }
      ]
    },
    {
      "cell_type": "markdown",
      "source": [
        "11\n",
        "\n",
        "다음과 같이 판매가가 저장된 리스트가 있을 때 부가세가 포함된 가격을 for 문을 사용해서 화면에 출력하라. 단 부가세는 10원으로 가정한다.\n",
        "\n",
        "```\n",
        "리스트 = [100, 200, 300]\n",
        "```\n",
        "```\n",
        "110\n",
        "210\n",
        "310\n",
        "```"
      ],
      "metadata": {
        "id": "UvtyvvC0JH5i"
      }
    },
    {
      "cell_type": "code",
      "source": [
        "리스트 = [100, 200, 300]\n",
        "\n",
        "for i in 리스트 :\n",
        "  print(i + 10)"
      ],
      "metadata": {
        "id": "VDjvFSV3JMHP",
        "colab": {
          "base_uri": "https://localhost:8080/"
        },
        "outputId": "8cda03e2-2848-4723-a206-d56055df0236"
      },
      "execution_count": null,
      "outputs": [
        {
          "output_type": "stream",
          "name": "stdout",
          "text": [
            "110\n",
            "210\n",
            "310\n"
          ]
        }
      ]
    },
    {
      "cell_type": "markdown",
      "source": [
        "12\n",
        "\n",
        "for 문을 사용해서 리스트에 저장된 값을 다음과 같이 출력하라.\n",
        "```\n",
        "리스트 = [\"김밥\", \"라면\", \"튀김\"]\n",
        "```\n",
        "```\n",
        "오늘의 메뉴: 김밥\n",
        "오늘의 메뉴: 라면\n",
        "오늘의 메뉴: 튀김\n",
        "```"
      ],
      "metadata": {
        "id": "9vHlClebJNW_"
      }
    },
    {
      "cell_type": "code",
      "source": [
        "list = [\"김밥\", \"라면\", \"튀김\"] # 해당 요소를 포함하는 list를 선언\n",
        "\n",
        "for i in list : # i는 list의 모든 요소를 순회한다\n",
        "  print(\"오늘의 메뉴:\",i) # 매번 \"오늘의 메뉴:\" 문자열과 함께 list의 요소를 한 번씩 순서대로 출력한다."
      ],
      "metadata": {
        "id": "cRjsTI40JP-n",
        "colab": {
          "base_uri": "https://localhost:8080/"
        },
        "outputId": "5d93b0da-98e5-4f77-af4d-9e5123ba8f8b"
      },
      "execution_count": 1,
      "outputs": [
        {
          "output_type": "stream",
          "name": "stdout",
          "text": [
            "오늘의 메뉴: 김밥\n",
            "오늘의 메뉴: 라면\n",
            "오늘의 메뉴: 튀김\n"
          ]
        }
      ]
    },
    {
      "cell_type": "markdown",
      "source": [
        "13\n",
        "\n",
        "리스트에 주식 종목이름이 저장돼 있다.\n",
        "\n",
        "```\n",
        "리스트 = [\"SK하이닉스\", \"삼성전자\", \"LG전자\"]\n",
        "```\n",
        "\n",
        "저장된 문자열의 길이를 다음과 같이 출력하라.\n",
        "```\n",
        "6\n",
        "4\n",
        "4\n",
        "```"
      ],
      "metadata": {
        "id": "ta3rV3l5JSAp"
      }
    },
    {
      "cell_type": "code",
      "source": [
        "리스트 = [\"SK하이닉스\", \"삼성전자\", \"LG전자\"]\n",
        "\n",
        "for i in 리스트 :\n",
        "  print(len(i))\n",
        "  "
      ],
      "metadata": {
        "id": "sUHH3BZVJVU-",
        "colab": {
          "base_uri": "https://localhost:8080/"
        },
        "outputId": "dae7424d-8b90-4cc7-ac64-2ae6075408ea"
      },
      "execution_count": null,
      "outputs": [
        {
          "output_type": "stream",
          "name": "stdout",
          "text": [
            "6\n",
            "4\n",
            "4\n"
          ]
        }
      ]
    },
    {
      "cell_type": "markdown",
      "source": [
        "14\n",
        "\n",
        "리스트에는 동물이름이 문자열로 저장돼 있다.\n",
        "\n",
        "```\n",
        "리스트 = ['dog', 'cat', 'parrot']\n",
        "```\n",
        "\n",
        "동물 이름과 글자수를 다음과 같이 출력하라.\n",
        "\n",
        "```\n",
        "dog 3\n",
        "cat 3\n",
        "parrot 6\n",
        "```"
      ],
      "metadata": {
        "id": "a2CPgXHkJW9L"
      }
    },
    {
      "cell_type": "code",
      "source": [
        "리스트 = ['dog', 'cat', 'parrot']\n",
        "\n",
        "for i in 리스트 :\n",
        "  print(i,len(i))"
      ],
      "metadata": {
        "id": "EWHBV3YaJdLn",
        "colab": {
          "base_uri": "https://localhost:8080/"
        },
        "outputId": "b1bd8e72-7af2-4cc0-d53c-148939d0195b"
      },
      "execution_count": null,
      "outputs": [
        {
          "output_type": "stream",
          "name": "stdout",
          "text": [
            "dog 3\n",
            "cat 3\n",
            "parrot 6\n"
          ]
        }
      ]
    },
    {
      "cell_type": "markdown",
      "source": [
        "15\n",
        "\n",
        "리스트에 동물 이름 저장돼 있다.\n",
        "\n",
        "```\n",
        "리스트 = ['dog', 'cat', 'parrot']\n",
        "```\n",
        "for문을 사용해서 동물 이름의 첫 글자만 출력하라.\n",
        "```\n",
        "d\n",
        "c\n",
        "p\n",
        "```"
      ],
      "metadata": {
        "id": "F9XzfitTJfKo"
      }
    },
    {
      "cell_type": "code",
      "source": [
        "list = ['dog', 'cat', 'parrot'] # 해당 요소를 가지고있는 list를 선언\n",
        "\n",
        "for i in list : # i는 list의 모든 요소를 순회한다.\n",
        "  print(i[0]) # 각 문자열 오소의 0번째 인덱스(첫 번째 글자)를 출력한다."
      ],
      "metadata": {
        "id": "snm3tWIjJhd-",
        "colab": {
          "base_uri": "https://localhost:8080/"
        },
        "outputId": "bd2870b0-1603-44bd-e654-5b11e6368e09"
      },
      "execution_count": null,
      "outputs": [
        {
          "output_type": "stream",
          "name": "stdout",
          "text": [
            "d\n",
            "c\n",
            "p\n"
          ]
        }
      ]
    },
    {
      "cell_type": "markdown",
      "source": [
        "16\n",
        "\n",
        "리스트에는 세 개의 숫자가 바인딩돼 있다.\n",
        "\n",
        "```\n",
        "리스트 = [1, 2, 3]\n",
        "```\n",
        "\n",
        "for문을 사용해서 다음과 같이 출력하라.\n",
        "```\n",
        "3 x 1\n",
        "3 x 2\n",
        "3 x 3\n",
        "```"
      ],
      "metadata": {
        "id": "hAynRh5oJkoC"
      }
    },
    {
      "cell_type": "code",
      "source": [
        "리스트 = [1, 2, 3]\n",
        "\n",
        "for i in 리스트 :\n",
        "  print(\"3 X\",i)"
      ],
      "metadata": {
        "id": "bp3yhyIhJnu2",
        "colab": {
          "base_uri": "https://localhost:8080/"
        },
        "outputId": "a36d36c6-a530-462e-ded7-b8d10f25e951"
      },
      "execution_count": null,
      "outputs": [
        {
          "output_type": "stream",
          "name": "stdout",
          "text": [
            "3 X 1\n",
            "3 X 2\n",
            "3 X 3\n"
          ]
        }
      ]
    },
    {
      "cell_type": "markdown",
      "source": [
        "17\n",
        "\n",
        "리스트에는 세 개의 숫자가 바인딩돼 있다.\n",
        "\n",
        "```\n",
        "리스트 = [1, 2, 3]\n",
        "```\n",
        "for문을 사용해서 다음과 같이 출력하라.\n",
        "```\n",
        "3 x 1 = 3\n",
        "3 x 2 = 6\n",
        "3 x 3 = 9\n",
        "```"
      ],
      "metadata": {
        "id": "YQVozpP8JpUa"
      }
    },
    {
      "cell_type": "code",
      "source": [
        "리스트 = [1, 2, 3]\n",
        "\n",
        "for i in 리스트 :\n",
        "  print(\"3 X\", i, \"=\", 3*i)"
      ],
      "metadata": {
        "id": "nBz6rgCmJsjG",
        "colab": {
          "base_uri": "https://localhost:8080/"
        },
        "outputId": "f8e0227d-7712-4142-e8c6-c0335d9e3415"
      },
      "execution_count": null,
      "outputs": [
        {
          "output_type": "stream",
          "name": "stdout",
          "text": [
            "3 X 1 = 3\n",
            "3 X 2 = 6\n",
            "3 X 3 = 9\n"
          ]
        }
      ]
    },
    {
      "cell_type": "markdown",
      "source": [
        "18\n",
        "\n",
        "리스트에는 네 개의 문자열이 바인딩돼 있다.\n",
        "\n",
        "```\n",
        "리스트 = [\"가\", \"나\", \"다\", \"라\"]\n",
        "```\n",
        "for문을 사용해서 다음과 같이 출력하라.\n",
        "```\n",
        "나\n",
        "다\n",
        "라\n",
        "```"
      ],
      "metadata": {
        "id": "E8QtxaNXJtn6"
      }
    },
    {
      "cell_type": "code",
      "source": [
        "list = [\"가\", \"나\", \"다\", \"라\"] # 해당 요소를 포함하는 list를 선언\n",
        "\n",
        "for i in list :  # i 는 list의 모든 요소를 순회한다\n",
        "  if(i != \"가\") : # i가 \"가\"가 아니라면\n",
        "    print(i) # i를 출력\n",
        "\n",
        "#선생님의 방법\n",
        "for i in range(1, len(list)) : # i는 1부터 list의 길이 만큼 순회(여기서 list의 요소는 4개이므로 1~3까지)\n",
        "  print(list[i]) # i를 출력"
      ],
      "metadata": {
        "id": "X7K7V6LCJwuO",
        "colab": {
          "base_uri": "https://localhost:8080/"
        },
        "outputId": "f1545a1f-7737-4576-e7ab-0e1545a2943c"
      },
      "execution_count": null,
      "outputs": [
        {
          "output_type": "stream",
          "name": "stdout",
          "text": [
            "나\n",
            "다\n",
            "라\n",
            "나\n",
            "다\n",
            "라\n"
          ]
        }
      ]
    },
    {
      "cell_type": "markdown",
      "source": [
        "19\n",
        "\n",
        "리스트에는 네 개의 문자열이 바인딩돼 있다.\n",
        "```\n",
        "리스트 = [\"가\", \"나\", \"다\", \"라\"]\n",
        "```\n",
        "for문을 사용해서 다음과 같이 출력하라.\n",
        "```\n",
        "가\n",
        "다\n",
        "```"
      ],
      "metadata": {
        "id": "4iJw6hJ4Jxzv"
      }
    },
    {
      "cell_type": "code",
      "source": [
        "리스트 = [\"가\", \"나\", \"다\", \"라\"]\n",
        "\n",
        "for i in range(0,len(리스트)) :\n",
        "  if(i%2 == 0) :\n",
        "    print(리스트[i])\n",
        "\n",
        "#선생님의 방법\n",
        "\n",
        "for i in range(0, len(리스트),2) :\n",
        "  print(리스트[i])"
      ],
      "metadata": {
        "id": "E4cprX7uJz8G",
        "colab": {
          "base_uri": "https://localhost:8080/"
        },
        "outputId": "94fc9e18-983d-42f4-a26a-7b06ada98908"
      },
      "execution_count": null,
      "outputs": [
        {
          "output_type": "stream",
          "name": "stdout",
          "text": [
            "가\n",
            "다\n",
            "가\n",
            "다\n"
          ]
        }
      ]
    },
    {
      "cell_type": "markdown",
      "source": [
        "20\n",
        "\n",
        "리스트에는 네 개의 문자열이 바인딩돼 있다.\n",
        "\n",
        "```\n",
        "리스트 = [\"가\", \"나\", \"다\", \"라\"]\n",
        "```\n",
        "for문을 사용해서 다음과 같이 출력하라.\n",
        "```\n",
        "라\n",
        "다\n",
        "나\n",
        "가\n",
        "```"
      ],
      "metadata": {
        "id": "epf3OrxVJ1HF"
      }
    },
    {
      "cell_type": "code",
      "source": [
        "리스트 = [\"가\", \"나\", \"다\", \"라\"]\n",
        "\n",
        "for i in 리스트[::-1] :\n",
        "  print(i)"
      ],
      "metadata": {
        "id": "7CwSxNumJ3LW",
        "colab": {
          "base_uri": "https://localhost:8080/"
        },
        "outputId": "cb6b552c-100c-4299-99b0-d782e2501738"
      },
      "execution_count": null,
      "outputs": [
        {
          "output_type": "stream",
          "name": "stdout",
          "text": [
            "라\n",
            "다\n",
            "나\n",
            "가\n"
          ]
        }
      ]
    },
    {
      "cell_type": "markdown",
      "source": [
        "21\n",
        "\n",
        "리스트에는 네 개의 정수가 저장돼 있다.\n",
        "\n",
        "```\n",
        "리스트 = [3, -20, -3, 44]\n",
        "```\n",
        "\n",
        "for문을 사용해서 리스트의 음수를 출력하라.\n",
        "```\n",
        "-20\n",
        "-3\n",
        "```"
      ],
      "metadata": {
        "id": "pE9fIqHDJ9s0"
      }
    },
    {
      "cell_type": "code",
      "source": [
        "list = [3, -20, -3, 44] # 해당 요소를 포함하는 list 선언\n",
        "\n",
        "for i in list[1:3] : # list의 인덱스 1부터 3전까지(1,2)\n",
        "  print(i) # 요소를 출력"
      ],
      "metadata": {
        "id": "dqe1ETKvKAlG",
        "colab": {
          "base_uri": "https://localhost:8080/"
        },
        "outputId": "9b474f13-1610-47e6-c55e-eca25fadac72"
      },
      "execution_count": null,
      "outputs": [
        {
          "output_type": "stream",
          "name": "stdout",
          "text": [
            "-20\n",
            "-3\n"
          ]
        }
      ]
    },
    {
      "cell_type": "markdown",
      "source": [
        "22\n",
        "\n",
        "for문을 사용해서 3의 배수만을 출력하라.\n",
        "\n",
        "```\n",
        "리스트 = [3, 100, 23, 44]\n",
        "```\n",
        "```\n",
        "3\n",
        "```"
      ],
      "metadata": {
        "id": "rPp1HHYqKCP0"
      }
    },
    {
      "cell_type": "code",
      "source": [
        "nums = [3, 100, 23, 44] # nums 리스트 를 선언\n",
        "\n",
        "for i in nums : # i는 nums의 모든 요소를 순회\n",
        "  if(i%3 == 0) : # i 를 3으로 나눈 나머지가 0이라면(요소가 3의 배수라면)\n",
        "    print(i) # i를 출력"
      ],
      "metadata": {
        "id": "WLQe83TpKE_1",
        "colab": {
          "base_uri": "https://localhost:8080/"
        },
        "outputId": "2288ae3e-1a20-41b3-871d-9ac6a48bdcd4"
      },
      "execution_count": null,
      "outputs": [
        {
          "output_type": "stream",
          "name": "stdout",
          "text": [
            "3\n"
          ]
        }
      ]
    },
    {
      "cell_type": "markdown",
      "source": [
        "23\n",
        "\n",
        "리스트에서 20 보다 작은 3의 배수를 출력하라\n",
        "```\n",
        "리스트 = [13, 21, 12, 14, 30, 18]\n",
        "```\n",
        "```\n",
        "12\n",
        "18\n",
        "```"
      ],
      "metadata": {
        "id": "sUimQT4sKGpf"
      }
    },
    {
      "cell_type": "code",
      "source": [
        "list = [13, 21, 12, 14, 30, 18]\n",
        "\n",
        "for i in list :\n",
        "  if(i%3 == 0 and i<20) :\n",
        "    print(i)"
      ],
      "metadata": {
        "id": "APlCYIu_KJN0",
        "colab": {
          "base_uri": "https://localhost:8080/"
        },
        "outputId": "dd443dd3-bebc-48fb-cd78-ead3e5975e13"
      },
      "execution_count": null,
      "outputs": [
        {
          "output_type": "stream",
          "name": "stdout",
          "text": [
            "12\n",
            "18\n"
          ]
        }
      ]
    },
    {
      "cell_type": "markdown",
      "source": [
        "24\n",
        "\n",
        "리스트에서 세 글자 이상의 문자를 화면에 출력하라\n",
        "\n",
        "```\n",
        "리스트 = [\"I\", \"study\", \"python\", \"language\", \"!\"]\n",
        "```\n",
        "```\n",
        "study\n",
        "python\n",
        "language\n",
        "```"
      ],
      "metadata": {
        "id": "4s0rksTRKKNS"
      }
    },
    {
      "cell_type": "code",
      "source": [
        "list = [\"I\", \"study\", \"python\", \"language\", \"!\"] # list 리스트를 선언\n",
        "\n",
        "for i in list : # i는 list의 모든 요소를 순회한다.\n",
        "  if(len(i) >= 3) : # 요소(문자열)의 길이가 3이상이라면\n",
        "    print(i) # 요소(문자열)을 출력"
      ],
      "metadata": {
        "id": "LtTfqvmcKMzU",
        "colab": {
          "base_uri": "https://localhost:8080/"
        },
        "outputId": "818b31ab-0155-43dc-b28e-f985e7a15788"
      },
      "execution_count": null,
      "outputs": [
        {
          "output_type": "stream",
          "name": "stdout",
          "text": [
            "study\n",
            "python\n",
            "language\n"
          ]
        }
      ]
    },
    {
      "cell_type": "markdown",
      "source": [
        "25\n",
        "\n",
        "리스트에서 대문자만 화면에 출력하라.\n",
        "\n",
        "```\n",
        "리스트 = [\"A\", \"b\", \"c\", \"D\"]\n",
        "```\n",
        "```\n",
        "A\n",
        "D\n",
        "```\n",
        "(참고) isupper() 메서드는 대문자 여부를 판별합니다.\n",
        "```\n",
        ">> 변수 = \"A\"\n",
        ">> 변수.isupper()\n",
        "True\n",
        ">> 변수 = \"a\"\n",
        ">> 변수.isupper()\n",
        "False\n",
        "```"
      ],
      "metadata": {
        "id": "c5I7ebg9KOuC"
      }
    },
    {
      "cell_type": "code",
      "source": [
        "list = [\"A\", \"b\", \"c\", \"D\"] # list 리스트를 선언\n",
        "\n",
        "for i in list : # i는 리스트의 모든 요소를 순회\n",
        "  if(i.isupper()) : # 요소가 대문자라면\n",
        "    print(i) # 요소를 출력"
      ],
      "metadata": {
        "id": "onxEPPu0KTIE",
        "colab": {
          "base_uri": "https://localhost:8080/"
        },
        "outputId": "73055821-e6de-41fb-9c23-8afa687bf303"
      },
      "execution_count": null,
      "outputs": [
        {
          "output_type": "stream",
          "name": "stdout",
          "text": [
            "A\n",
            "D\n"
          ]
        }
      ]
    },
    {
      "cell_type": "markdown",
      "source": [
        "26\n",
        "\n",
        "리스트에서 소문자만 화면에 출력하라.\n",
        "\n",
        "```\n",
        "리스트 = [\"A\", \"b\", \"c\", \"D\"]\n",
        "```\n",
        "```\n",
        "b\n",
        "c\n",
        "```"
      ],
      "metadata": {
        "id": "pohlP-hLKWR4"
      }
    },
    {
      "cell_type": "code",
      "source": [
        "list = [\"A\", \"b\", \"c\", \"D\"]\n",
        "\n",
        "for i in list :\n",
        "  if(i.islower()) :\n",
        "    print(i)"
      ],
      "metadata": {
        "id": "fAWX8SMkKZaz",
        "colab": {
          "base_uri": "https://localhost:8080/"
        },
        "outputId": "071acb9d-e8bf-456d-a094-e10e6a4d3df7"
      },
      "execution_count": null,
      "outputs": [
        {
          "output_type": "stream",
          "name": "stdout",
          "text": [
            "b\n",
            "c\n"
          ]
        }
      ]
    },
    {
      "cell_type": "markdown",
      "source": [
        "27\n",
        "\n",
        "이름의 첫 글자를 대문자로 변경해서 출력하라.\n",
        "\n",
        "```\n",
        "리스트 = ['dog', 'cat', 'parrot']\n",
        "```\n",
        "```\n",
        "Dog\n",
        "Cat\n",
        "Parrot\n",
        "```\n",
        "(참고) upper() 메서드는 문자열을 대문자로 변경합니다.\n",
        "```\n",
        ">> 변수 = \"a\"\n",
        ">> a.upper()\n",
        "A\n",
        ">> 변수 = \"abc\"\n",
        ">> 변수.upper()\n",
        "ABC\n",
        "```"
      ],
      "metadata": {
        "id": "Ha1hzXzgKa4-"
      }
    },
    {
      "cell_type": "code",
      "source": [
        "list = ['dog', 'cat', 'parrot'] # list 리스트를 선언\n",
        "\n",
        "for i in list : # i는 list의 모든요소를 순회\n",
        "  print(i[0].upper() + i[1:]) # 요소(문자열)의 첫번째 글자를 대문자로 변환하고, 요소(문자열)의 나머지 부분을 붙여서 출력한다."
      ],
      "metadata": {
        "id": "QI-6JVfEKesL",
        "colab": {
          "base_uri": "https://localhost:8080/"
        },
        "outputId": "bb600f8c-c649-4544-9dc3-55b538341f43"
      },
      "execution_count": null,
      "outputs": [
        {
          "output_type": "stream",
          "name": "stdout",
          "text": [
            "Dog\n",
            "Cat\n",
            "Parrot\n"
          ]
        }
      ]
    },
    {
      "cell_type": "markdown",
      "source": [
        "28\n",
        "\n",
        "파일 이름이 저장된 리스트에서 확장자를 제거하고 파일 이름만 화면에 출력하라. (힌트: split() 메서드)\n",
        "\n",
        "```\n",
        "리스트 = ['hello.py', 'ex01.py', 'intro.hwp']\n",
        "```\n",
        "```\n",
        "hello\n",
        "ex01\n",
        "intro\n",
        "```"
      ],
      "metadata": {
        "id": "K6BlXeW-KgkB"
      }
    },
    {
      "cell_type": "code",
      "source": [
        "list = ['hello.py', 'ex01.py', 'intro.hwp']\n",
        "\n",
        "for i in list :\n",
        "  print(i.split(\".\")[0])"
      ],
      "metadata": {
        "id": "6qUacxDKKku7",
        "colab": {
          "base_uri": "https://localhost:8080/"
        },
        "outputId": "eec5c1e3-968b-4a9f-b350-06ba5532ce0d"
      },
      "execution_count": null,
      "outputs": [
        {
          "output_type": "stream",
          "name": "stdout",
          "text": [
            "hello\n",
            "ex01\n",
            "intro\n"
          ]
        }
      ]
    },
    {
      "cell_type": "markdown",
      "source": [
        "29\n",
        "파일 이름이 저장된 리스트에서 확장자가 .h인 파일 이름을 출력하라.\n",
        "\n",
        "```\n",
        "리스트 = ['intra.h', 'intra.c', 'define.h', 'run.py']\n",
        "```\n",
        "```\n",
        "intra.h\n",
        "define.h\n",
        "```"
      ],
      "metadata": {
        "id": "W-AMGKPBKl-5"
      }
    },
    {
      "cell_type": "code",
      "source": [
        "list = ['intra.h', 'intra.c', 'define.h', 'run.py']\n",
        "\n",
        "for i in list :\n",
        "  if(i.split(\".\")[1] == \"h\") :\n",
        "    print(i)"
      ],
      "metadata": {
        "id": "RNTWAoItKoV7",
        "colab": {
          "base_uri": "https://localhost:8080/"
        },
        "outputId": "53c5f8a3-855b-4c15-db04-aa13106428c2"
      },
      "execution_count": null,
      "outputs": [
        {
          "output_type": "stream",
          "name": "stdout",
          "text": [
            "intra.h\n",
            "define.h\n"
          ]
        }
      ]
    },
    {
      "cell_type": "markdown",
      "source": [
        "30\n",
        "파일 이름이 저장된 리스트에서 확장자가 .h나 .c인 파일을 화면에 출력하라.\n",
        "\n",
        "```\n",
        "리스트 = ['intra.h', 'intra.c', 'define.h', 'run.py']\n",
        "```\n",
        "```\n",
        "intra.h\n",
        "intra.c\n",
        "define.h\n",
        "```"
      ],
      "metadata": {
        "id": "GxnB0sOfKpZx"
      }
    },
    {
      "cell_type": "code",
      "source": [
        "list = ['intra.h', 'intra.c', 'define.h', 'run.py'] # list 리스트를 선언\n",
        "\n",
        "for i in list : # i는 list의 모든 요소를 순ㅇ회\n",
        "  if(i.split(\".\")[1] == \"h\" or i.split(\".\")[1] == \"c\") : # 요소(문자열)를 \".\"을 기준으로 분리시킨 후, index가 1인 요소가 \"h\" 또는 \"c\"라면\n",
        "    print(i) # 요소를 출력"
      ],
      "metadata": {
        "id": "gw7SzLG3KuNa",
        "colab": {
          "base_uri": "https://localhost:8080/"
        },
        "outputId": "a9a90c89-c5e4-4934-b619-5a852a8b5521"
      },
      "execution_count": null,
      "outputs": [
        {
          "output_type": "stream",
          "name": "stdout",
          "text": [
            "intra.h\n",
            "intra.c\n",
            "define.h\n"
          ]
        }
      ]
    },
    {
      "cell_type": "markdown",
      "source": [
        "31\n",
        "\n",
        "for문과 range 구문을 사용해서 0~99까지 한 라인에 하나씩 순차적으로 출력하는 프로그램을 작성하라."
      ],
      "metadata": {
        "id": "N86eI1PPKyP-"
      }
    },
    {
      "cell_type": "code",
      "source": [
        "for i in range(100) :\n",
        "  print(i)"
      ],
      "metadata": {
        "id": "5W6zECT9Kz-S",
        "colab": {
          "base_uri": "https://localhost:8080/"
        },
        "outputId": "82bb5d2b-e864-439e-fbe3-c0cbdc88cfd4"
      },
      "execution_count": null,
      "outputs": [
        {
          "output_type": "stream",
          "name": "stdout",
          "text": [
            "0\n",
            "1\n",
            "2\n",
            "3\n",
            "4\n",
            "5\n",
            "6\n",
            "7\n",
            "8\n",
            "9\n",
            "10\n",
            "11\n",
            "12\n",
            "13\n",
            "14\n",
            "15\n",
            "16\n",
            "17\n",
            "18\n",
            "19\n",
            "20\n",
            "21\n",
            "22\n",
            "23\n",
            "24\n",
            "25\n",
            "26\n",
            "27\n",
            "28\n",
            "29\n",
            "30\n",
            "31\n",
            "32\n",
            "33\n",
            "34\n",
            "35\n",
            "36\n",
            "37\n",
            "38\n",
            "39\n",
            "40\n",
            "41\n",
            "42\n",
            "43\n",
            "44\n",
            "45\n",
            "46\n",
            "47\n",
            "48\n",
            "49\n",
            "50\n",
            "51\n",
            "52\n",
            "53\n",
            "54\n",
            "55\n",
            "56\n",
            "57\n",
            "58\n",
            "59\n",
            "60\n",
            "61\n",
            "62\n",
            "63\n",
            "64\n",
            "65\n",
            "66\n",
            "67\n",
            "68\n",
            "69\n",
            "70\n",
            "71\n",
            "72\n",
            "73\n",
            "74\n",
            "75\n",
            "76\n",
            "77\n",
            "78\n",
            "79\n",
            "80\n",
            "81\n",
            "82\n",
            "83\n",
            "84\n",
            "85\n",
            "86\n",
            "87\n",
            "88\n",
            "89\n",
            "90\n",
            "91\n",
            "92\n",
            "93\n",
            "94\n",
            "95\n",
            "96\n",
            "97\n",
            "98\n",
            "99\n"
          ]
        }
      ]
    },
    {
      "cell_type": "markdown",
      "source": [
        "32\n",
        "\n",
        "월드컵은 4년에 한 번 개최된다. range()를 사용하여 2002~2050년까지 중 월드컵이 개최되는 연도를 출력하라.\n",
        "\n",
        "```\n",
        "2002\n",
        "2006\n",
        "2010\n",
        "...\n",
        "2042\n",
        "2046\n",
        "2050\n",
        "```\n",
        "참고) range의 세번 째 파라미터는 증감폭을 결정합니다.\n",
        "```\n",
        ">> print(list(range(0, 10, 2)))\n",
        "[0, 2, 4, 6, 8]\n",
        "```"
      ],
      "metadata": {
        "id": "OLQV0U2tK0pv"
      }
    },
    {
      "cell_type": "code",
      "source": [
        "for i in range(2002,2051,4) :\n",
        "  print(i)"
      ],
      "metadata": {
        "id": "xwcDf1hlK5Mq",
        "colab": {
          "base_uri": "https://localhost:8080/"
        },
        "outputId": "fb5be589-66e0-4e4b-c7e9-6d9f73381f1a"
      },
      "execution_count": null,
      "outputs": [
        {
          "output_type": "stream",
          "name": "stdout",
          "text": [
            "2002\n",
            "2006\n",
            "2010\n",
            "2014\n",
            "2018\n",
            "2022\n",
            "2026\n",
            "2030\n",
            "2034\n",
            "2038\n",
            "2042\n",
            "2046\n",
            "2050\n"
          ]
        }
      ]
    },
    {
      "cell_type": "markdown",
      "source": [
        "33\n",
        "\n",
        "1부터 30까지의 숫자 중 3의 배수를 출력하라.\n",
        "\n",
        "```\n",
        "3 \n",
        "6 \n",
        "9 \n",
        "12 \n",
        "15 \n",
        "18 \n",
        "21 \n",
        "24 \n",
        "27 \n",
        "30\n",
        "```"
      ],
      "metadata": {
        "id": "cd3f89TZK65s"
      }
    },
    {
      "cell_type": "code",
      "source": [
        "for i in range(1,31) : # i는 1부터 30까지 순회\n",
        "  if(i%3 == 0) : # i를 3으로 나눈 나머지가 0이라면(i가 3의 배수라면)\n",
        "    print(i) # i를 출력한다"
      ],
      "metadata": {
        "id": "6e8A_2p-K-n6",
        "colab": {
          "base_uri": "https://localhost:8080/"
        },
        "outputId": "963ddc53-7b60-46d5-b2f6-bd4df2c517eb"
      },
      "execution_count": 2,
      "outputs": [
        {
          "output_type": "stream",
          "name": "stdout",
          "text": [
            "3\n",
            "6\n",
            "9\n",
            "12\n",
            "15\n",
            "18\n",
            "21\n",
            "24\n",
            "27\n",
            "30\n"
          ]
        }
      ]
    },
    {
      "cell_type": "markdown",
      "source": [
        "34\n",
        "\n",
        "99부터 0까지 1씩 감소하는 숫자들을, 한 라인에 하나씩 출력하라."
      ],
      "metadata": {
        "id": "Nc5S2O9CLAGv"
      }
    },
    {
      "cell_type": "code",
      "source": [
        "for i in range(99,-1,-1) :\n",
        "  print(i)"
      ],
      "metadata": {
        "id": "pZNdmathLBNy",
        "colab": {
          "base_uri": "https://localhost:8080/"
        },
        "outputId": "122741b5-f256-4c01-a6fb-1ba849e35b8c"
      },
      "execution_count": null,
      "outputs": [
        {
          "output_type": "stream",
          "name": "stdout",
          "text": [
            "99\n",
            "98\n",
            "97\n",
            "96\n",
            "95\n",
            "94\n",
            "93\n",
            "92\n",
            "91\n",
            "90\n",
            "89\n",
            "88\n",
            "87\n",
            "86\n",
            "85\n",
            "84\n",
            "83\n",
            "82\n",
            "81\n",
            "80\n",
            "79\n",
            "78\n",
            "77\n",
            "76\n",
            "75\n",
            "74\n",
            "73\n",
            "72\n",
            "71\n",
            "70\n",
            "69\n",
            "68\n",
            "67\n",
            "66\n",
            "65\n",
            "64\n",
            "63\n",
            "62\n",
            "61\n",
            "60\n",
            "59\n",
            "58\n",
            "57\n",
            "56\n",
            "55\n",
            "54\n",
            "53\n",
            "52\n",
            "51\n",
            "50\n",
            "49\n",
            "48\n",
            "47\n",
            "46\n",
            "45\n",
            "44\n",
            "43\n",
            "42\n",
            "41\n",
            "40\n",
            "39\n",
            "38\n",
            "37\n",
            "36\n",
            "35\n",
            "34\n",
            "33\n",
            "32\n",
            "31\n",
            "30\n",
            "29\n",
            "28\n",
            "27\n",
            "26\n",
            "25\n",
            "24\n",
            "23\n",
            "22\n",
            "21\n",
            "20\n",
            "19\n",
            "18\n",
            "17\n",
            "16\n",
            "15\n",
            "14\n",
            "13\n",
            "12\n",
            "11\n",
            "10\n",
            "9\n",
            "8\n",
            "7\n",
            "6\n",
            "5\n",
            "4\n",
            "3\n",
            "2\n",
            "1\n",
            "0\n"
          ]
        }
      ]
    },
    {
      "cell_type": "markdown",
      "source": [
        "35\n",
        "\n",
        "for문을 사용해서 아래와 같이 출력하라.\n",
        "\n",
        "```\n",
        "0.0\n",
        "0.1\n",
        "0.2\n",
        "0.3\n",
        "0.4\n",
        "0.5\n",
        "...\n",
        "0.9\n",
        "```"
      ],
      "metadata": {
        "id": "JgddzXfPLBk1"
      }
    },
    {
      "cell_type": "code",
      "source": [
        "for i in range(0, 10 , 1) :\n",
        "  print(round(i*0.1, 1))"
      ],
      "metadata": {
        "id": "i23O197gLHgS",
        "colab": {
          "base_uri": "https://localhost:8080/"
        },
        "outputId": "f5390b15-a718-42da-8c86-cfbe88c0dba0"
      },
      "execution_count": null,
      "outputs": [
        {
          "output_type": "stream",
          "name": "stdout",
          "text": [
            "0.0\n",
            "0.1\n",
            "0.2\n",
            "0.3\n",
            "0.4\n",
            "0.5\n",
            "0.6\n",
            "0.7\n",
            "0.8\n",
            "0.9\n"
          ]
        }
      ]
    },
    {
      "cell_type": "markdown",
      "source": [
        "36\n",
        "\n",
        "구구단 3단을 출력하라.\n",
        "```\n",
        "3x1 = 3\n",
        "3x2 = 6\n",
        "3x3 = 9\n",
        "3x4 = 12\n",
        "3x5 = 15\n",
        "3x6 = 18\n",
        "3x7 = 21\n",
        "3x8 = 24\n",
        "3x9 = 27\n",
        "```"
      ],
      "metadata": {
        "id": "_06sP3QELH7V"
      }
    },
    {
      "cell_type": "code",
      "source": [
        "for i in range(1,10) : # i는 1부터 9까지 순회한다\n",
        "  print(\"3x\",i, \" = \",i*3,sep=\"\") # 3에 1~9를 순차적으로 곱해주며 출력한다"
      ],
      "metadata": {
        "id": "mXlW43ScLLaa",
        "colab": {
          "base_uri": "https://localhost:8080/"
        },
        "outputId": "9a8c19ab-aeb0-48d3-adfb-7ea6fd6376ce"
      },
      "execution_count": null,
      "outputs": [
        {
          "output_type": "stream",
          "name": "stdout",
          "text": [
            "3x1 = 3\n",
            "3x2 = 6\n",
            "3x3 = 9\n",
            "3x4 = 12\n",
            "3x5 = 15\n",
            "3x6 = 18\n",
            "3x7 = 21\n",
            "3x8 = 24\n",
            "3x9 = 27\n"
          ]
        }
      ]
    },
    {
      "cell_type": "markdown",
      "source": [
        "37\n",
        "\n",
        "구구단 3단을 출력하라. 단 홀수 번째만 출력한다.\n",
        "\n",
        "```\n",
        "3x1 = 3\n",
        "3x3 = 9\n",
        "3x5 = 15\n",
        "3x7 = 21\n",
        "3x9 = 27\n",
        "```"
      ],
      "metadata": {
        "id": "7pjK7TYCLMYs"
      }
    },
    {
      "cell_type": "code",
      "source": [
        "for i in range(1,10) :\n",
        "  if(i%2 == 1) :\n",
        "    print(\"3x\",i, \" = \",i*3,sep=\"\")"
      ],
      "metadata": {
        "id": "G4R92NLJLOUh",
        "colab": {
          "base_uri": "https://localhost:8080/"
        },
        "outputId": "5d8ece2e-ea99-4520-88a9-e733549c1f52"
      },
      "execution_count": null,
      "outputs": [
        {
          "output_type": "stream",
          "name": "stdout",
          "text": [
            "3x1 = 3\n",
            "3x3 = 9\n",
            "3x5 = 15\n",
            "3x7 = 21\n",
            "3x9 = 27\n"
          ]
        }
      ]
    },
    {
      "cell_type": "markdown",
      "source": [
        "38\n",
        "\n",
        "1~10까지의 숫자에 대해 모두 더한 값을 출력하는 프로그램을 for 문을 사용하여 작성하라.\n",
        "\n",
        "```\n",
        "합 : 55\n",
        "```"
      ],
      "metadata": {
        "id": "psl-ozEHLPgf"
      }
    },
    {
      "cell_type": "code",
      "source": [
        "sum = 0;\n",
        "for i in range(1,11) :\n",
        "  sum += i\n",
        "print(sum)"
      ],
      "metadata": {
        "id": "7aH2pY9uLSFR",
        "colab": {
          "base_uri": "https://localhost:8080/"
        },
        "outputId": "705fbfcc-9ae7-4b20-90b5-8d74c93c0e86"
      },
      "execution_count": null,
      "outputs": [
        {
          "output_type": "stream",
          "name": "stdout",
          "text": [
            "55\n"
          ]
        }
      ]
    },
    {
      "cell_type": "markdown",
      "source": [
        "39\n",
        "\n",
        "1~10까지의 숫자 중 모든 홀수의 합을 출력하는 프로그램을 for 문을 사용하여 작성하라.\n",
        "\n",
        "```\n",
        "합: 25\n",
        "```"
      ],
      "metadata": {
        "id": "JTW1VG-PLSij"
      }
    },
    {
      "cell_type": "code",
      "source": [
        "sum = 0; # sum을 선언하고 0으로 초기화\n",
        "for i in range(1,11) : #i는 1 부터 10까지 순회\n",
        "  if(i%2 == 1) : # i를 2로 나눈 나머지가 1이라면(짝수가 아니라면,홀수)\n",
        "    sum += i # sum에 i를 더해준다.\n",
        "print(sum) # "
      ],
      "metadata": {
        "id": "RG66BTsiLVfh",
        "colab": {
          "base_uri": "https://localhost:8080/"
        },
        "outputId": "d94148fb-1c03-462b-df03-80ec33c8698d"
      },
      "execution_count": null,
      "outputs": [
        {
          "output_type": "stream",
          "name": "stdout",
          "text": [
            "25\n"
          ]
        }
      ]
    },
    {
      "cell_type": "markdown",
      "source": [
        "40\n",
        "\n",
        "1~10까지의 숫자를 모두 곱한 값을 출력하는 프로그램을 for 문을 사용하여 작성하라."
      ],
      "metadata": {
        "id": "rU0Uwl-xLYFJ"
      }
    },
    {
      "cell_type": "code",
      "source": [
        "result = 1;\n",
        "\n",
        "for i in range(1,11) :\n",
        "  result *= i\n",
        "\n",
        "print(result)"
      ],
      "metadata": {
        "id": "r5PwKZ_lLY8x",
        "colab": {
          "base_uri": "https://localhost:8080/"
        },
        "outputId": "ee69e9a9-130e-4b41-9e0b-7a435b30d58b"
      },
      "execution_count": null,
      "outputs": [
        {
          "output_type": "stream",
          "name": "stdout",
          "text": [
            "3628800\n"
          ]
        }
      ]
    },
    {
      "cell_type": "markdown",
      "source": [
        "41\n",
        "\n",
        "아래와 같이 리스트의 데이터를 출력하라. 단, for문과 range문을 사용하라.\n",
        "```\n",
        "price_list = [32100, 32150, 32000, 32500]\n",
        "32100\n",
        "32150\n",
        "32000\n",
        "32500\n",
        "```"
      ],
      "metadata": {
        "id": "zIpAlzdoLbTY"
      }
    },
    {
      "cell_type": "code",
      "source": [
        "price_list = [32100, 32150, 32000, 32500]\n",
        "\n",
        "for i in range(0,len(price_list)) :\n",
        "  print(price_list[i])"
      ],
      "metadata": {
        "id": "w6QfFpJXLhct",
        "colab": {
          "base_uri": "https://localhost:8080/"
        },
        "outputId": "26f18896-2430-4a6d-d834-4ad8e3c27cf1"
      },
      "execution_count": null,
      "outputs": [
        {
          "output_type": "stream",
          "name": "stdout",
          "text": [
            "32100\n",
            "32150\n",
            "32000\n",
            "32500\n"
          ]
        }
      ]
    },
    {
      "cell_type": "markdown",
      "source": [
        "42\n",
        "\n",
        "아래와 같이 리스트의 데이터를 출력하라. 단, for문과 range문을 사용하라.\n",
        "\n",
        "```\n",
        "price_list = [32100, 32150, 32000, 32500]\n",
        "0 32100\n",
        "1 32150\n",
        "2 32000\n",
        "3 32500\n",
        "```"
      ],
      "metadata": {
        "id": "bsViAc6pLi2M"
      }
    },
    {
      "cell_type": "code",
      "source": [
        "price_list = [32100, 32150, 32000, 32500] # price_list 선언\n",
        "\n",
        "for i in range(0,len(price_list)) : # i는 0~3까지 순회\n",
        "  print(i,price_list[i]) # i와 i를 인덱스로 하는 price_list의 요소를 출력\n",
        "\n",
        "#enumerate를 사용한 방법\n",
        "# for idx, value in enumerate(price_list) :\n",
        "#   print(idx, value)"
      ],
      "metadata": {
        "id": "Eo19w7kzLjTY",
        "colab": {
          "base_uri": "https://localhost:8080/"
        },
        "outputId": "4c939d59-d5b1-4892-cd98-0032a712c7f8"
      },
      "execution_count": 4,
      "outputs": [
        {
          "output_type": "stream",
          "name": "stdout",
          "text": [
            "0 32100\n",
            "1 32150\n",
            "2 32000\n",
            "3 32500\n"
          ]
        }
      ]
    },
    {
      "cell_type": "markdown",
      "source": [
        "43\n",
        "\n",
        "아래와 같이 리스트의 데이터를 출력하라. 단, for문과 range문을 사용하라.\n",
        "\n",
        "```\n",
        "price_list = [32100, 32150, 32000, 32500]\n",
        "3 32100\n",
        "2 32150\n",
        "1 32000\n",
        "0 32500\n",
        "```"
      ],
      "metadata": {
        "id": "PF7H_7H_LkOU"
      }
    },
    {
      "cell_type": "code",
      "source": [
        "price_list = [32100, 32150, 32000, 32500]\n",
        "\n",
        "for i in range(0,len(price_list)) :\n",
        "  print(len(price_list)-i-1,price_list[i])\n",
        "\n"
      ],
      "metadata": {
        "id": "ZA1kpp1nLnPB",
        "colab": {
          "base_uri": "https://localhost:8080/"
        },
        "outputId": "1e285c78-158d-4406-ec9d-7501b400a31d"
      },
      "execution_count": null,
      "outputs": [
        {
          "output_type": "stream",
          "name": "stdout",
          "text": [
            "3 32100\n",
            "2 32150\n",
            "1 32000\n",
            "0 32500\n"
          ]
        }
      ]
    },
    {
      "cell_type": "markdown",
      "source": [
        "44\n",
        "\n",
        "아래와 같이 리스트의 데이터를 출력하라. 단, for문과 range문을 사용하라.\n",
        "\n",
        "```\n",
        "price_list = [32100, 32150, 32000, 32500]\n",
        "100 32150\n",
        "110 32000\n",
        "120 32500\n",
        "```"
      ],
      "metadata": {
        "id": "_L9G3mUkLpyx"
      }
    },
    {
      "cell_type": "code",
      "source": [
        "price_list = [32100, 32150, 32000, 32500]\n",
        "\n",
        "for i in range(1,len(price_list)) :\n",
        "  print(100 + (i-1)*10 ,price_list[i])"
      ],
      "metadata": {
        "id": "Gbci3jZRLsNw",
        "colab": {
          "base_uri": "https://localhost:8080/"
        },
        "outputId": "d4a80707-169f-4790-9bb2-c08580dbc40a"
      },
      "execution_count": null,
      "outputs": [
        {
          "output_type": "stream",
          "name": "stdout",
          "text": [
            "100 32150\n",
            "110 32000\n",
            "120 32500\n"
          ]
        }
      ]
    },
    {
      "cell_type": "markdown",
      "source": [
        "45\n",
        "\n",
        "my_list를 아래와 같이 출력하라.\n",
        "\n",
        "```\n",
        "my_list = [\"가\", \"나\", \"다\", \"라\"]\n",
        "가 나\n",
        "나 다\n",
        "다 라\n",
        "```"
      ],
      "metadata": {
        "id": "8n3XqlXsLtUT"
      }
    },
    {
      "cell_type": "code",
      "source": [
        "my_list = [\"가\", \"나\", \"다\", \"라\"] # my_list를 선언\n",
        "\n",
        "for i in range(3) : # i는 0부터 2까지 순회\n",
        "  print(my_list[i], my_list[i+1]) # my_list의 index가 i인 요소와 i+1인 요소를 출력"
      ],
      "metadata": {
        "id": "ev2lLcsrLvQx",
        "colab": {
          "base_uri": "https://localhost:8080/"
        },
        "outputId": "5f70e867-1b45-4643-937e-dbeab1529f30"
      },
      "execution_count": null,
      "outputs": [
        {
          "output_type": "stream",
          "name": "stdout",
          "text": [
            "가 나\n",
            "나 다\n",
            "다 라\n"
          ]
        }
      ]
    },
    {
      "cell_type": "markdown",
      "source": [
        "46\n",
        "\n",
        "리스트를 아래와 같이 출력하라.\n",
        "\n",
        "```\n",
        "my_list = [\"가\", \"나\", \"다\", \"라\", \"마\"]\n",
        "가 나 다\n",
        "나 다 라\n",
        "다 라 마\n",
        "```"
      ],
      "metadata": {
        "id": "y3_FEeI1Lzba"
      }
    },
    {
      "cell_type": "code",
      "source": [
        "my_list = [\"가\", \"나\", \"다\", \"라\", \"마\"]\n",
        "\n",
        "for i in range(3) :\n",
        "  print(my_list[i], my_list[i+1], my_list[i+2])"
      ],
      "metadata": {
        "id": "QHwzTwexL1fY",
        "colab": {
          "base_uri": "https://localhost:8080/"
        },
        "outputId": "2952027a-1118-420a-dbcd-807567065641"
      },
      "execution_count": null,
      "outputs": [
        {
          "output_type": "stream",
          "name": "stdout",
          "text": [
            "가 나 다\n",
            "나 다 라\n",
            "다 라 마\n"
          ]
        }
      ]
    },
    {
      "cell_type": "markdown",
      "source": [
        "47\n",
        "\n",
        "반복문과 range 함수를 사용해서 my_list를 아래와 같이 출력하라.\n",
        "\n",
        "```\n",
        "my_list = [\"가\", \"나\", \"다\", \"라\"]\n",
        "라 다\n",
        "다 나\n",
        "나 가\n",
        "```"
      ],
      "metadata": {
        "id": "VLKZFDnKMBUL"
      }
    },
    {
      "cell_type": "code",
      "source": [
        "my_list = [\"가\", \"나\", \"다\", \"라\"]\n",
        "\n",
        "for i in range(3,0,-1) :\n",
        "  print(my_list[i], my_list[i-1])"
      ],
      "metadata": {
        "id": "TUfd2eVoMDSY",
        "colab": {
          "base_uri": "https://localhost:8080/"
        },
        "outputId": "dee82de8-52d6-47a3-cba1-5c04e218fe8e"
      },
      "execution_count": null,
      "outputs": [
        {
          "output_type": "stream",
          "name": "stdout",
          "text": [
            "라 다\n",
            "다 나\n",
            "나 가\n"
          ]
        }
      ]
    },
    {
      "cell_type": "markdown",
      "source": [
        "48\n",
        "\n",
        "리스트에는 네 개의 정수가 저장되어 있다. 각각의 데이터에 대해서 자신과 우측값과의 차분값을 화면에 출력하라.\n",
        "\n",
        "```\n",
        "my_list = [100, 200, 400, 800]\n",
        "```\n",
        "예를들어 100을 기준으로 우측에 위치한 200과의 차분 값를 화면에 출력하고, 200을 기준으로 우측에 위치한 400과의 차분값을 화면에 출력한다. 이어서 400을 기준으로 우측에 위치한 800과의 차분값을 화면에 출력한다.\n",
        "```\n",
        "100\n",
        "200\n",
        "400\n",
        "```"
      ],
      "metadata": {
        "id": "tIBwv82dMLMP"
      }
    },
    {
      "cell_type": "code",
      "source": [
        "my_list = [100, 200, 400, 800] # my_list를 선언\n",
        "\n",
        "for i in range(3) : # i는 0~3을 순회\n",
        "  print(abs(my_list[i] - my_list[i+1])) # my_list의 index가 i인 요소에서 index가 i+1인 요소를 뺀 후, 그 값의 절대값을 출력한다."
      ],
      "metadata": {
        "id": "qON0RdjOMPDX",
        "colab": {
          "base_uri": "https://localhost:8080/"
        },
        "outputId": "a1b55d27-5452-4416-e4f1-cf8fa3002d83"
      },
      "execution_count": 6,
      "outputs": [
        {
          "output_type": "stream",
          "name": "stdout",
          "text": [
            "100\n",
            "200\n",
            "400\n"
          ]
        }
      ]
    },
    {
      "cell_type": "markdown",
      "source": [
        "49\n",
        "\n",
        "리스트에는 6일 간의 종가 데이터가 저장되어 있다. 종가 데이터의 3일 이동 평균을 계산하고 이를 화면에 출력하라.\n",
        "\n",
        "```\n",
        "my_list = [100, 200, 400, 800, 1000, 1300]\n",
        "```\n",
        "첫 번째 줄에는 100, 200, 400의 평균값이 출력된다. 두 번째 줄에는 200, 400, 800의 평균값이 출력된다. 같은 방식으로 나머지 데이터의 평균을 출력한다.\n",
        "```\n",
        "233.33333333333334\n",
        "466.6666666666667\n",
        "733.3333333333334\n",
        "1033.3333333333333\n",
        "```"
      ],
      "metadata": {
        "id": "CMVVe4tBMQ3D"
      }
    },
    {
      "cell_type": "code",
      "source": [
        "my_list = [100, 200, 400, 800, 1000, 1300]\n",
        "\n",
        "for i in range(0,4) :\n",
        "  sum = my_list[i] + my_list[i+1] + my_list[i+2]\n",
        "  avg = sum/3\n",
        "  print(avg)"
      ],
      "metadata": {
        "id": "a1E-LSETMTxf",
        "colab": {
          "base_uri": "https://localhost:8080/"
        },
        "outputId": "aea1205f-4638-43c5-f623-5346cc9d0adb"
      },
      "execution_count": null,
      "outputs": [
        {
          "output_type": "stream",
          "name": "stdout",
          "text": [
            "233.33333333333334\n",
            "466.6666666666667\n",
            "733.3333333333334\n",
            "1033.3333333333333\n"
          ]
        }
      ]
    },
    {
      "cell_type": "markdown",
      "source": [
        "50\n",
        "\n",
        "리스트에 5일간의 저가, 고가 정보가 저장돼 있다. 고가와 저가의 차를 변동폭이라고 정의할 때, low, high 두 개의 리스트를 사용해서 5일간의 변동폭을 volatility 리스트에 저장하라.\n",
        "\n",
        "```\n",
        "low_prices  = [100, 200, 400, 800, 1000]\n",
        "high_prices = [150, 300, 430, 880, 1000]\n",
        "```"
      ],
      "metadata": {
        "id": "XKsgaHAzMWGi"
      }
    },
    {
      "cell_type": "code",
      "source": [
        "low_prices  = [100, 200, 400, 800, 1000]\n",
        "high_prices = [150, 300, 430, 880, 1000]\n",
        "\n",
        "volatility = []\n",
        "\n",
        "for i in range(0,len(low_prices)) :\n",
        "  \n",
        "  volatility.append(high_prices[i] - low_prices[i])\n",
        "\n",
        "print(volatility)"
      ],
      "metadata": {
        "colab": {
          "base_uri": "https://localhost:8080/"
        },
        "id": "rXO3fc2rzatp",
        "outputId": "d2b412d7-2c38-4d4b-db6b-3e56cb7ad330"
      },
      "execution_count": null,
      "outputs": [
        {
          "output_type": "stream",
          "name": "stdout",
          "text": [
            "[50, 100, 30, 80, 0]\n"
          ]
        }
      ]
    },
    {
      "cell_type": "code",
      "source": [],
      "metadata": {
        "id": "U199epUZzy3d"
      },
      "execution_count": null,
      "outputs": []
    }
  ]
}