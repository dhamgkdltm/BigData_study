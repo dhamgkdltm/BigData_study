{
  "nbformat": 4,
  "nbformat_minor": 0,
  "metadata": {
    "colab": {
      "provenance": []
    },
    "kernelspec": {
      "name": "python3",
      "display_name": "Python 3"
    },
    "language_info": {
      "name": "python"
    }
  },
  "cells": [
    {
      "cell_type": "markdown",
      "source": [
        "01 \n",
        "\n",
        "\"뉴딜\" 문자열을 화면에 출력하는 print_new() 함수를 정의하라."
      ],
      "metadata": {
        "id": "bZKGkTFENJX2"
      }
    },
    {
      "cell_type": "code",
      "execution_count": null,
      "metadata": {
        "id": "AEBlty-UNImm",
        "colab": {
          "base_uri": "https://localhost:8080/"
        },
        "outputId": "88b61e6e-7c18-496a-f2e3-d7b8f60127f9"
      },
      "outputs": [
        {
          "output_type": "stream",
          "name": "stdout",
          "text": [
            "뉴딜\n"
          ]
        }
      ],
      "source": [
        "def print_new() :\n",
        "  print(\"뉴딜\")\n",
        "\n",
        "print_new()"
      ]
    },
    {
      "cell_type": "markdown",
      "source": [
        "02\n",
        "\n",
        "01번에서 정의한 함수를 호출하라."
      ],
      "metadata": {
        "id": "9Fno-FRnNQcX"
      }
    },
    {
      "cell_type": "code",
      "source": [
        "print_new()"
      ],
      "metadata": {
        "id": "ho11AW3cNTrD",
        "colab": {
          "base_uri": "https://localhost:8080/"
        },
        "outputId": "6408cc08-0cef-452c-c440-d8e3e812d77e"
      },
      "execution_count": null,
      "outputs": [
        {
          "output_type": "stream",
          "name": "stdout",
          "text": [
            "뉴딜\n"
          ]
        }
      ]
    },
    {
      "cell_type": "markdown",
      "source": [
        "03\n",
        "\n",
        "01번에서 정의한 print_new 함수를 100번호출하라."
      ],
      "metadata": {
        "id": "DmXnZifVNUdH"
      }
    },
    {
      "cell_type": "code",
      "source": [
        "# i는 range(100): 0~99까지 반복하며 print_new() 함수를 실행 (print(\"뉴딜\"))\n",
        "for i in range(100) :\n",
        "  print_new()"
      ],
      "metadata": {
        "id": "pFTuFNWYNdxZ",
        "colab": {
          "base_uri": "https://localhost:8080/"
        },
        "outputId": "645962a2-c11b-478e-bd41-e88a5761c9a2"
      },
      "execution_count": null,
      "outputs": [
        {
          "output_type": "stream",
          "name": "stdout",
          "text": [
            "뉴딜\n",
            "뉴딜\n",
            "뉴딜\n",
            "뉴딜\n",
            "뉴딜\n",
            "뉴딜\n",
            "뉴딜\n",
            "뉴딜\n",
            "뉴딜\n",
            "뉴딜\n",
            "뉴딜\n",
            "뉴딜\n",
            "뉴딜\n",
            "뉴딜\n",
            "뉴딜\n",
            "뉴딜\n",
            "뉴딜\n",
            "뉴딜\n",
            "뉴딜\n",
            "뉴딜\n",
            "뉴딜\n",
            "뉴딜\n",
            "뉴딜\n",
            "뉴딜\n",
            "뉴딜\n",
            "뉴딜\n",
            "뉴딜\n",
            "뉴딜\n",
            "뉴딜\n",
            "뉴딜\n",
            "뉴딜\n",
            "뉴딜\n",
            "뉴딜\n",
            "뉴딜\n",
            "뉴딜\n",
            "뉴딜\n",
            "뉴딜\n",
            "뉴딜\n",
            "뉴딜\n",
            "뉴딜\n",
            "뉴딜\n",
            "뉴딜\n",
            "뉴딜\n",
            "뉴딜\n",
            "뉴딜\n",
            "뉴딜\n",
            "뉴딜\n",
            "뉴딜\n",
            "뉴딜\n",
            "뉴딜\n",
            "뉴딜\n",
            "뉴딜\n",
            "뉴딜\n",
            "뉴딜\n",
            "뉴딜\n",
            "뉴딜\n",
            "뉴딜\n",
            "뉴딜\n",
            "뉴딜\n",
            "뉴딜\n",
            "뉴딜\n",
            "뉴딜\n",
            "뉴딜\n",
            "뉴딜\n",
            "뉴딜\n",
            "뉴딜\n",
            "뉴딜\n",
            "뉴딜\n",
            "뉴딜\n",
            "뉴딜\n",
            "뉴딜\n",
            "뉴딜\n",
            "뉴딜\n",
            "뉴딜\n",
            "뉴딜\n",
            "뉴딜\n",
            "뉴딜\n",
            "뉴딜\n",
            "뉴딜\n",
            "뉴딜\n",
            "뉴딜\n",
            "뉴딜\n",
            "뉴딜\n",
            "뉴딜\n",
            "뉴딜\n",
            "뉴딜\n",
            "뉴딜\n",
            "뉴딜\n",
            "뉴딜\n",
            "뉴딜\n",
            "뉴딜\n",
            "뉴딜\n",
            "뉴딜\n",
            "뉴딜\n",
            "뉴딜\n",
            "뉴딜\n",
            "뉴딜\n",
            "뉴딜\n",
            "뉴딜\n",
            "뉴딜\n"
          ]
        }
      ]
    },
    {
      "cell_type": "markdown",
      "source": [
        "04\n",
        "\n",
        "\"뉴딜\" 문자열을 100번 화면에 출력하는 new_prints() 함수를 정의하라."
      ],
      "metadata": {
        "id": "pZ9O4RqqNd_h"
      }
    },
    {
      "cell_type": "code",
      "source": [
        "def new_prints() :\n",
        "  for i in range(100) :\n",
        "    print_new()\n",
        "\n",
        "new_prints()"
      ],
      "metadata": {
        "id": "gsMsYYzGPBNG",
        "colab": {
          "base_uri": "https://localhost:8080/"
        },
        "outputId": "7ec74fb2-a7da-472a-eaaf-333a8834c9d8"
      },
      "execution_count": null,
      "outputs": [
        {
          "output_type": "stream",
          "name": "stdout",
          "text": [
            "뉴딜\n",
            "뉴딜\n",
            "뉴딜\n",
            "뉴딜\n",
            "뉴딜\n",
            "뉴딜\n",
            "뉴딜\n",
            "뉴딜\n",
            "뉴딜\n",
            "뉴딜\n",
            "뉴딜\n",
            "뉴딜\n",
            "뉴딜\n",
            "뉴딜\n",
            "뉴딜\n",
            "뉴딜\n",
            "뉴딜\n",
            "뉴딜\n",
            "뉴딜\n",
            "뉴딜\n",
            "뉴딜\n",
            "뉴딜\n",
            "뉴딜\n",
            "뉴딜\n",
            "뉴딜\n",
            "뉴딜\n",
            "뉴딜\n",
            "뉴딜\n",
            "뉴딜\n",
            "뉴딜\n",
            "뉴딜\n",
            "뉴딜\n",
            "뉴딜\n",
            "뉴딜\n",
            "뉴딜\n",
            "뉴딜\n",
            "뉴딜\n",
            "뉴딜\n",
            "뉴딜\n",
            "뉴딜\n",
            "뉴딜\n",
            "뉴딜\n",
            "뉴딜\n",
            "뉴딜\n",
            "뉴딜\n",
            "뉴딜\n",
            "뉴딜\n",
            "뉴딜\n",
            "뉴딜\n",
            "뉴딜\n",
            "뉴딜\n",
            "뉴딜\n",
            "뉴딜\n",
            "뉴딜\n",
            "뉴딜\n",
            "뉴딜\n",
            "뉴딜\n",
            "뉴딜\n",
            "뉴딜\n",
            "뉴딜\n",
            "뉴딜\n",
            "뉴딜\n",
            "뉴딜\n",
            "뉴딜\n",
            "뉴딜\n",
            "뉴딜\n",
            "뉴딜\n",
            "뉴딜\n",
            "뉴딜\n",
            "뉴딜\n",
            "뉴딜\n",
            "뉴딜\n",
            "뉴딜\n",
            "뉴딜\n",
            "뉴딜\n",
            "뉴딜\n",
            "뉴딜\n",
            "뉴딜\n",
            "뉴딜\n",
            "뉴딜\n",
            "뉴딜\n",
            "뉴딜\n",
            "뉴딜\n",
            "뉴딜\n",
            "뉴딜\n",
            "뉴딜\n",
            "뉴딜\n",
            "뉴딜\n",
            "뉴딜\n",
            "뉴딜\n",
            "뉴딜\n",
            "뉴딜\n",
            "뉴딜\n",
            "뉴딜\n",
            "뉴딜\n",
            "뉴딜\n",
            "뉴딜\n",
            "뉴딜\n",
            "뉴딜\n",
            "뉴딜\n"
          ]
        }
      ]
    },
    {
      "cell_type": "markdown",
      "source": [
        "05\n",
        "\n",
        "아래의 에러가 발생하는 이유에 대해 설명하라.\n",
        "\n",
        "```\n",
        "hello()\n",
        "def hello():\n",
        "    print(\"Hi\")\n",
        "```\n",
        "\n",
        "실행 예\n",
        "```\n",
        "NameError: name 'hello' is not defined\n",
        "```\n"
      ],
      "metadata": {
        "id": "Rihgf7vdPOP9"
      }
    },
    {
      "cell_type": "code",
      "source": [
        "#'hello'함수가 정의되기 이전에 함수를 실행해서 오류가 발생합니다."
      ],
      "metadata": {
        "id": "BCF_iIVwPWfp",
        "colab": {
          "base_uri": "https://localhost:8080/"
        },
        "outputId": "d785869b-cbaa-4f1f-ce16-89cb7c2756ee"
      },
      "execution_count": null,
      "outputs": [
        {
          "output_type": "stream",
          "name": "stdout",
          "text": [
            "Hi\n"
          ]
        }
      ]
    },
    {
      "cell_type": "markdown",
      "source": [
        "06\n",
        "\n",
        "아래 코드의 실행 결과를 예측하라.\n",
        "\n",
        "```\n",
        "def message() :\n",
        "    print(\"A\")\n",
        "    print(\"B\")\n",
        "\n",
        "message()\n",
        "print(\"C\")\n",
        "message()\n",
        "```"
      ],
      "metadata": {
        "id": "GuAAXOCAParp"
      }
    },
    {
      "cell_type": "code",
      "source": [
        "# A\n",
        "# B\n",
        "# C\n",
        "# A\n",
        "# B\n",
        "\n",
        "# 문자열 \"A\",\"B\"를 출력하는 함수 message()를 정의\n",
        "def message() :\n",
        "    print(\"A\")\n",
        "    print(\"B\")\n",
        "\n",
        "message() #message() 함수 실행, \"A\"출력, \"B\"출력\n",
        "print(\"C\") # \"C\"출력\n",
        "message() #message() 함수 실행, \"A\"출력, \"B\"출력"
      ],
      "metadata": {
        "id": "FLsz-2t4PenB",
        "colab": {
          "base_uri": "https://localhost:8080/"
        },
        "outputId": "efb4b8b8-0f26-4708-c961-68b603268b32"
      },
      "execution_count": null,
      "outputs": [
        {
          "output_type": "stream",
          "name": "stdout",
          "text": [
            "A\n",
            "B\n",
            "C\n",
            "A\n",
            "B\n"
          ]
        }
      ]
    },
    {
      "cell_type": "markdown",
      "source": [
        "07\n",
        "\n",
        "아래 코드의 실행 결과를 예측하라. (읽기 어려운 코드의 예입니다.)\n",
        "\n",
        "```\n",
        "print(\"A\")\n",
        "\n",
        "def message() :\n",
        "    print(\"B\")\n",
        "\n",
        "print(\"C\")\n",
        "message()\n",
        "```"
      ],
      "metadata": {
        "id": "04sl6tQyPiaZ"
      }
    },
    {
      "cell_type": "code",
      "source": [
        "# A\n",
        "# C\n",
        "# B\n",
        "\n",
        "print(\"A\")\n",
        "\n",
        "def message() :\n",
        "    print(\"B\")\n",
        "\n",
        "print(\"C\")\n",
        "message()"
      ],
      "metadata": {
        "id": "JKVk2Aw2PmTw",
        "colab": {
          "base_uri": "https://localhost:8080/"
        },
        "outputId": "f4505d0e-f2a1-44a0-b73c-5273b958dd53"
      },
      "execution_count": null,
      "outputs": [
        {
          "output_type": "stream",
          "name": "stdout",
          "text": [
            "A\n",
            "C\n",
            "B\n"
          ]
        }
      ]
    },
    {
      "cell_type": "markdown",
      "source": [
        "08\n",
        "\n",
        "아래 코드의 실행 결과를 예측하라. (읽기 어려운 코드의 예입니다.)\n",
        "```\n",
        "print(\"A\")\n",
        "def message1() :\n",
        "    print(\"B\")\n",
        "print(\"C\")\n",
        "def message2() :\n",
        "    print(\"D\")\n",
        "message1()\n",
        "print(\"E\")\n",
        "message2()\n",
        "```"
      ],
      "metadata": {
        "id": "-0Urje6bPm9P"
      }
    },
    {
      "cell_type": "code",
      "source": [
        "# A\n",
        "# C\n",
        "# B\n",
        "# E\n",
        "# D\n",
        "\n",
        "print(\"A\")\n",
        "def message1() :\n",
        "    print(\"B\")\n",
        "print(\"C\")\n",
        "def message2() :\n",
        "    print(\"D\")\n",
        "message1()\n",
        "print(\"E\")\n",
        "message2()"
      ],
      "metadata": {
        "id": "quw5X00dPq1Q",
        "colab": {
          "base_uri": "https://localhost:8080/"
        },
        "outputId": "08e917f5-0274-4372-a0cf-676a50319528"
      },
      "execution_count": null,
      "outputs": [
        {
          "output_type": "stream",
          "name": "stdout",
          "text": [
            "A\n",
            "C\n",
            "B\n",
            "E\n",
            "D\n"
          ]
        }
      ]
    },
    {
      "cell_type": "markdown",
      "source": [
        "09\n",
        "\n",
        "아래 코드의 실행 결과를 예측하라.\n",
        "\n",
        "```\n",
        "def message1():\n",
        "    print(\"A\")\n",
        "\n",
        "def message2():\n",
        "    print(\"B\")\n",
        "    message1()\n",
        "\n",
        "message2()\n",
        "```"
      ],
      "metadata": {
        "id": "pwMD3-S4PrTk"
      }
    },
    {
      "cell_type": "code",
      "source": [
        "# B\n",
        "# A\n",
        "\n",
        "# 문자열 \"A\"를 출력하는 message1() 함수를 정의\n",
        "def message1():\n",
        "    print(\"A\")\n",
        "\n",
        "# 문자열 \"B\"를 출력하고, message1()함수를 실행하는 message2() 함수를 정의\n",
        "def message2():\n",
        "    print(\"B\")\n",
        "    message1()\n",
        "\n",
        "message2() # 문자열 \"B\"를 출력하고 message1() 함수에 내재된 문자열 \"A\"도 출력한다.\n"
      ],
      "metadata": {
        "id": "De-PwqqwP0RQ",
        "colab": {
          "base_uri": "https://localhost:8080/"
        },
        "outputId": "d4e78539-de6a-41e8-acdb-6ae7f8f92415"
      },
      "execution_count": null,
      "outputs": [
        {
          "output_type": "stream",
          "name": "stdout",
          "text": [
            "B\n",
            "A\n"
          ]
        }
      ]
    },
    {
      "cell_type": "markdown",
      "source": [
        "10\n",
        "\n",
        "아래 코드의 실행 결과를 예측하라.\n",
        "\n",
        "```\n",
        "def message1():\n",
        "    print(\"A\")\n",
        "\n",
        "def message2():\n",
        "    print(\"B\")\n",
        "\n",
        "def message3():\n",
        "    for i in range (3) :\n",
        "        message2()\n",
        "        print(\"C\")\n",
        "    message1()\n",
        "\n",
        "message3()\n",
        "\n",
        "```"
      ],
      "metadata": {
        "id": "Uk2oLx17P2s7"
      }
    },
    {
      "cell_type": "code",
      "source": [
        "# B\n",
        "# C\n",
        "# B\n",
        "# C\n",
        "# B\n",
        "# C\n",
        "# A\n",
        "\n",
        "def message1():\n",
        "    print(\"A\")\n",
        "\n",
        "def message2():\n",
        "    print(\"B\")\n",
        "\n",
        "def message3():\n",
        "    for i in range (3) :\n",
        "        message2()\n",
        "        print(\"C\")\n",
        "    message1()\n",
        "\n",
        "message3()"
      ],
      "metadata": {
        "id": "OrspRUSxP6IY",
        "colab": {
          "base_uri": "https://localhost:8080/"
        },
        "outputId": "be17b57e-0551-4b3e-c494-c71f86819712"
      },
      "execution_count": null,
      "outputs": [
        {
          "output_type": "stream",
          "name": "stdout",
          "text": [
            "B\n",
            "C\n",
            "B\n",
            "C\n",
            "B\n",
            "C\n",
            "A\n"
          ]
        }
      ]
    },
    {
      "cell_type": "markdown",
      "source": [
        "11\n",
        "\n",
        "\n",
        "함수의 호출 결과를 예측하라.\n",
        "```\n",
        "def 함수(문자열) :\n",
        "    print(문자열)\n",
        "\n",
        "함수(\"안녕\")\n",
        "함수(\"Hi\")\n",
        "```"
      ],
      "metadata": {
        "id": "AvWbaDMAP6nI"
      }
    },
    {
      "cell_type": "code",
      "source": [
        "# 안녕\n",
        "# Hi\n",
        "\n",
        "def 함수(문자열) :\n",
        "    print(문자열)\n",
        "\n",
        "함수(\"안녕\")\n",
        "함수(\"Hi\")"
      ],
      "metadata": {
        "id": "1Fse24b3P_uP",
        "colab": {
          "base_uri": "https://localhost:8080/"
        },
        "outputId": "b5ba41ae-fe2d-4cf9-9a82-10754b7172df"
      },
      "execution_count": null,
      "outputs": [
        {
          "output_type": "stream",
          "name": "stdout",
          "text": [
            "안녕\n",
            "Hi\n"
          ]
        }
      ]
    },
    {
      "cell_type": "markdown",
      "source": [
        "12\n",
        "\n",
        "함수의 호출 결과를 예측하라.\n",
        "\n",
        "```\n",
        "def 함수(a, b) :\n",
        "    print(a + b)\n",
        "\n",
        "함수(3, 4)\n",
        "함수(7, 8)\n",
        "```"
      ],
      "metadata": {
        "id": "jyPw2HBcQAMi"
      }
    },
    {
      "cell_type": "code",
      "source": [
        "# 7\n",
        "# 15\n",
        "\n",
        "# a 와 b의 합연산을 출력하는 함수(a,b)를 정의\n",
        "def 함수(a, b) :\n",
        "    print(a + b)\n",
        "\n",
        "함수(3, 4) # 3 + 4 를 출력\n",
        "함수(7, 8) # 7 + 8 을 출력"
      ],
      "metadata": {
        "id": "ZJLPbX_zQCaf",
        "colab": {
          "base_uri": "https://localhost:8080/"
        },
        "outputId": "94ea0983-aa0b-44fa-ae7b-f22653ef71ff"
      },
      "execution_count": null,
      "outputs": [
        {
          "output_type": "stream",
          "name": "stdout",
          "text": [
            "7\n",
            "15\n"
          ]
        }
      ]
    },
    {
      "cell_type": "markdown",
      "source": [
        "13\n",
        "\n",
        "아래와 같은 에러가 발생하는 원인을 설명하라.\n",
        "\n",
        "```\n",
        "def 함수(문자열) :\n",
        "    print(문자열)\n",
        "\n",
        "함수()\n",
        "```\n",
        "\n",
        "```\n",
        "TypeError: 함수() missing 1 required positional argument: '문자열'\n",
        "```"
      ],
      "metadata": {
        "id": "L2_nJyf6QEku"
      }
    },
    {
      "cell_type": "code",
      "source": [
        "# \"함수\"라는 이름의 함수를 실행하기 위해 필요한 argument가 없다.\n",
        "\n",
        "def 함수(문자열) :\n",
        "    print(문자열)\n",
        "\n",
        "함수(\"argument가 있다면 성공\")"
      ],
      "metadata": {
        "id": "--nJXZkxQJ-n",
        "colab": {
          "base_uri": "https://localhost:8080/"
        },
        "outputId": "33ed67c1-f7ad-453a-8bb4-f79dfea2b635"
      },
      "execution_count": null,
      "outputs": [
        {
          "output_type": "stream",
          "name": "stdout",
          "text": [
            "argument가 있다면 성공\n"
          ]
        }
      ]
    },
    {
      "cell_type": "markdown",
      "source": [
        "14\n",
        "\n",
        "아래와 같은 에러가 발생하는 원인을 설명하라.\n",
        "```\n",
        "def 함수(a, b) :\n",
        "    print(a + b)\n",
        "\n",
        "함수(\"안녕\", 3)\n",
        "```"
      ],
      "metadata": {
        "id": "KOnAR360QQmx"
      }
    },
    {
      "cell_type": "code",
      "source": [
        "# \"함수\"라는 이름의 함수에 2개의 argument를 주입하는데,String 타입과 int 타입은 서로 + 연산을 할 수 없기 때문에 에러가 발생한다.\n",
        "# 타입을 String 또는 int로 일치시켜주어야 한다."
      ],
      "metadata": {
        "id": "VLwkbpheQT0e",
        "colab": {
          "base_uri": "https://localhost:8080/"
        },
        "outputId": "20b841e2-43d5-4a3d-beec-8717956e9e2f"
      },
      "execution_count": null,
      "outputs": [
        {
          "output_type": "stream",
          "name": "stdout",
          "text": [
            "안녕3\n"
          ]
        }
      ]
    },
    {
      "cell_type": "markdown",
      "source": [
        "15\n",
        "\n",
        "하나의 문자를 입력받아 문자열 끝에 \":D\" 스마일 문자열을 이어 붙여 출력하는 print_with_smile 함수를 정의하라."
      ],
      "metadata": {
        "id": "HpDVku90QUr3"
      }
    },
    {
      "cell_type": "code",
      "source": [
        "# 인수로 입력된 string에 \":D\"를 추가하여 출력하는 print_with_smile(string) 함수를 정의\n",
        "def print_with_smile(string) :\n",
        "  print(string + \":D\")\n",
        "\n",
        "print_with_smile(\"안녕\") # \"안녕\"에 \":D\"를 추가하여 출력"
      ],
      "metadata": {
        "id": "JWZ1Ar4KQW3O",
        "colab": {
          "base_uri": "https://localhost:8080/"
        },
        "outputId": "41f95bd7-1910-46a8-a3b0-5b09b7a2cba8"
      },
      "execution_count": null,
      "outputs": [
        {
          "output_type": "stream",
          "name": "stdout",
          "text": [
            "안녕:D\n"
          ]
        }
      ]
    },
    {
      "cell_type": "markdown",
      "source": [
        "16\n",
        "\n",
        "15에서 정의한 함수를 호출하라. 파라미터는 \"안녕하세요\"로 입력하라.\n",
        "\n"
      ],
      "metadata": {
        "id": "9hm2K6BaQZ-v"
      }
    },
    {
      "cell_type": "code",
      "source": [
        "print_with_smile(\"안녕하세요\")"
      ],
      "metadata": {
        "id": "XufEKUK2QdgW",
        "colab": {
          "base_uri": "https://localhost:8080/"
        },
        "outputId": "69d32563-df4c-473a-e8fc-7fadb1bc143c"
      },
      "execution_count": null,
      "outputs": [
        {
          "output_type": "stream",
          "name": "stdout",
          "text": [
            "안녕하세요:D\n"
          ]
        }
      ]
    },
    {
      "cell_type": "markdown",
      "source": [
        "17\n",
        "\n",
        "현재 가격을 입력 받아 상한가 (30%)를 출력하는 print_upper_price 함수를 정의하라."
      ],
      "metadata": {
        "id": "3lUj5hXRQfI-"
      }
    },
    {
      "cell_type": "code",
      "source": [
        "def print_upper_price(price) :\n",
        "  print(price * 0.3)\n",
        "\n",
        "print_upper_price(232323)"
      ],
      "metadata": {
        "id": "NG28myQ9QhI-",
        "colab": {
          "base_uri": "https://localhost:8080/"
        },
        "outputId": "51b99acc-d662-41f8-f0cc-6a70c1898496"
      },
      "execution_count": null,
      "outputs": [
        {
          "output_type": "stream",
          "name": "stdout",
          "text": [
            "69696.9\n"
          ]
        }
      ]
    },
    {
      "cell_type": "markdown",
      "source": [
        "18\n",
        "\n",
        "두 개의 숫자를 입력받아 두 수의 합을 출력하는 print_sum 함수를 정의하라."
      ],
      "metadata": {
        "id": "jRC8OmBEQhhH"
      }
    },
    {
      "cell_type": "code",
      "source": [
        "# 인수 x와 y의 합연산을 출력하는 print_sum(x,y) 함수를 정의\n",
        "def print_sum(x,y) :\n",
        "  print(x + y)\n",
        "\n",
        "print_sum(0,232)"
      ],
      "metadata": {
        "id": "wzPmXmzwQi_F",
        "colab": {
          "base_uri": "https://localhost:8080/"
        },
        "outputId": "06c90b95-aa91-4d97-b8bc-77135e4661e7"
      },
      "execution_count": null,
      "outputs": [
        {
          "output_type": "stream",
          "name": "stdout",
          "text": [
            "232\n"
          ]
        }
      ]
    },
    {
      "cell_type": "markdown",
      "source": [
        "19\n",
        "\n",
        "두 개의 숫자를 입력받아 합/차/곱/나눗셈을 출력하는 print_arithmetic_operation 함수를 작성하라."
      ],
      "metadata": {
        "id": "K117rkfdQkUY"
      }
    },
    {
      "cell_type": "code",
      "source": [
        "def print_arithmetic_operation(x,y) :\n",
        "  print(x+y)\n",
        "  print(x-y)\n",
        "  print(x*y)\n",
        "  print(x/y)\n",
        "\n",
        "print_arithmetic_operation(3,2)"
      ],
      "metadata": {
        "id": "I3vzkMYhQkhu",
        "colab": {
          "base_uri": "https://localhost:8080/"
        },
        "outputId": "524a1902-709a-4846-83e7-09abdf0fd6d6"
      },
      "execution_count": null,
      "outputs": [
        {
          "output_type": "stream",
          "name": "stdout",
          "text": [
            "5\n",
            "1\n",
            "6\n",
            "1.5\n"
          ]
        }
      ]
    },
    {
      "cell_type": "markdown",
      "source": [
        "20\n",
        "\n",
        "세 개의 숫자를 입력받아 가장 큰수를 출력하는 print_max 함수를 정의하라. 단 if 문을 사용해서 수를 비교하라."
      ],
      "metadata": {
        "id": "yjKnZeeXQmxz"
      }
    },
    {
      "cell_type": "code",
      "source": [
        "def print_max(x,y,z) :\n",
        "  max = x\n",
        "  if(y>max) :\n",
        "    max = y\n",
        "  if(z>max) :\n",
        "    max = z\n",
        "  print(max)\n",
        "\n",
        "print_max(5,123,333)"
      ],
      "metadata": {
        "id": "pghd6Rs1QnWN",
        "colab": {
          "base_uri": "https://localhost:8080/"
        },
        "outputId": "9addaaba-ad9c-42a5-f9c0-adec5f6f5c23"
      },
      "execution_count": null,
      "outputs": [
        {
          "output_type": "stream",
          "name": "stdout",
          "text": [
            "333\n"
          ]
        }
      ]
    },
    {
      "cell_type": "markdown",
      "source": [
        "21\n",
        "\n",
        "입력된 문자열을 역순으로 출력하는 print_reverse 함수를 정의하라.\n",
        "\n",
        "```\n",
        "print_reverse(\"python\")\n",
        "```\n",
        "\n",
        "```\n",
        "nohtyp\n",
        "```"
      ],
      "metadata": {
        "id": "2069nKrUQooZ"
      }
    },
    {
      "cell_type": "code",
      "source": [
        "def print_reverse(string) :\n",
        "  for i in range(len(string),0,-1) : # i는 인수로 입력된 string의 길이부터 역으로 순회한다.( len(string) 부터 1까지)\n",
        "    print(string[i-1],end=\"\") # 인수로 입력된 문자열 string의 마지막 index부터 index = 0까지 연속으로 출력\n",
        "\n",
        "print_reverse(\"python\")"
      ],
      "metadata": {
        "id": "F6KF7nKUQuVt",
        "colab": {
          "base_uri": "https://localhost:8080/"
        },
        "outputId": "81afbcde-add6-4c9a-bfd8-159aa452a30f"
      },
      "execution_count": null,
      "outputs": [
        {
          "output_type": "stream",
          "name": "stdout",
          "text": [
            "nohtyp"
          ]
        }
      ]
    },
    {
      "cell_type": "markdown",
      "source": [
        "22\n",
        "\n",
        "성적 리스트를 입력 받아 평균을 출력하는 print_score 함수를 정의하라.\n",
        "```\n",
        "print_score ([1, 2, 3])\n",
        "```\n",
        "```\n",
        "2.0\n",
        "```"
      ],
      "metadata": {
        "id": "I4q8JlvPQvAR"
      }
    },
    {
      "cell_type": "code",
      "source": [
        "def print_score(grade) :\n",
        "  # sum = 0;\n",
        "  # for i in range(0,len(grade)) :\n",
        "  #   sum += grade[i]\n",
        "  # print(sum/len(grade))\n",
        "\n",
        "  # or\n",
        "  print(sum(grade)/len(grade))\n",
        "\n",
        "print_score([3,6,10]) "
      ],
      "metadata": {
        "id": "tL3eR4VCQwdk",
        "colab": {
          "base_uri": "https://localhost:8080/"
        },
        "outputId": "3b1e775d-c966-4923-95a7-717288909a9b"
      },
      "execution_count": null,
      "outputs": [
        {
          "output_type": "stream",
          "name": "stdout",
          "text": [
            "6.333333333333333\n"
          ]
        }
      ]
    },
    {
      "cell_type": "markdown",
      "source": [
        "23\n",
        "\n",
        "하나의 리스트를 입력받아 짝수만 화면에 출력하는 print_even 함수를 정의하라.\n",
        "```\n",
        "print_even ([1, 3, 2, 10, 12, 11, 15])\n",
        "```\n",
        "```\n",
        "2\n",
        "10\n",
        "12\n",
        "```"
      ],
      "metadata": {
        "id": "-yvuLNj7Q8Io"
      }
    },
    {
      "cell_type": "code",
      "source": [
        "def print_even(num) :\n",
        "  for i in range(len(num)) :\n",
        "    if(num[i]%2 == 0) :\n",
        "      print(num[i])\n",
        "\n",
        "print_even ([1, 3, 2, 10, 12, 11, 15])"
      ],
      "metadata": {
        "id": "bHSSU059Q8vs",
        "colab": {
          "base_uri": "https://localhost:8080/"
        },
        "outputId": "6456aa65-e0e4-4adc-a2da-b82a0ab520d9"
      },
      "execution_count": null,
      "outputs": [
        {
          "output_type": "stream",
          "name": "stdout",
          "text": [
            "2\n",
            "10\n",
            "12\n"
          ]
        }
      ]
    },
    {
      "cell_type": "markdown",
      "source": [
        "24\n",
        "\n",
        "하나의 딕셔너리를 입력받아 딕셔너리의 key 값을 화면에 출력하는 print_keys 함수를 정의하라.\n",
        "\n",
        "```\n",
        "print_keys ({\"이름\":\"김말똥\", \"나이\":30, \"성별\":0})\n",
        "```\n",
        "\n",
        "```\n",
        "이름\n",
        "나이\n",
        "성별\n",
        "```\n"
      ],
      "metadata": {
        "id": "P1XGIn-fRBHI"
      }
    },
    {
      "cell_type": "code",
      "source": [
        "def print_keys(dic) :\n",
        "  for k in dic.keys() : # 인수로 입력된 dic의 key를 순회하는 k\n",
        "    print(k) # dic의 key를 순차적으로 출력한다.\n",
        "\n",
        "print_keys ({\"이름\":\"김말똥\", \"나이\":30, \"성별\":0})"
      ],
      "metadata": {
        "id": "OxkvLkn9RG1U",
        "colab": {
          "base_uri": "https://localhost:8080/"
        },
        "outputId": "0a81f9cc-c71b-4ce5-f56f-566a4d642440"
      },
      "execution_count": null,
      "outputs": [
        {
          "output_type": "stream",
          "name": "stdout",
          "text": [
            "이름\n",
            "나이\n",
            "성별\n"
          ]
        }
      ]
    },
    {
      "cell_type": "markdown",
      "source": [
        "25\n",
        "\n",
        "입력 문자열을 한 줄에 다섯글자씩 출력하는 print_5xn(string) 함수를 작성하라.\n",
        "\n",
        "```\n",
        "print_5xn(\"아이엠어보이유알어걸\")\n",
        "```\n",
        "```\n",
        "아이엠어보\n",
        "이유알어걸\n",
        "```"
      ],
      "metadata": {
        "id": "Ql6MrGVVRNYg"
      }
    },
    {
      "cell_type": "code",
      "source": [
        "def print_5xn(string) :\n",
        "  # for s in range(len(string)) :\n",
        "  #   if(s%5 == 0) :\n",
        "  #     print()\n",
        "  #     print(string[s],end=\"\")\n",
        "  #   else :\n",
        "  #     print(string[s],end=\"\")\n",
        "\n",
        "    # 선생님 답   \n",
        "    line_num = int(len(string)/5)\n",
        "    for i in range(line_num) :\n",
        "      print(string[i*5:i*5+5])\n",
        "\n",
        "print_5xn(\"아이엠어보이유알어걸\")\n"
      ],
      "metadata": {
        "id": "GmJ6eeduRQMs",
        "colab": {
          "base_uri": "https://localhost:8080/"
        },
        "outputId": "f6736b32-784a-43bf-9f33-fb9d30e74754"
      },
      "execution_count": null,
      "outputs": [
        {
          "output_type": "stream",
          "name": "stdout",
          "text": [
            "아이엠어보\n",
            "이유알어걸\n"
          ]
        }
      ]
    },
    {
      "cell_type": "markdown",
      "source": [
        "26\n",
        "\n",
        "문자열과 한줄에 출력될 글자 수를 입력을 받아 한 줄에 입력된 글자 수만큼 출력하는 print_mxn(string) 함수를 작성하라.\n",
        "\n",
        "```\n",
        "printmxn(\"아이엠어보이유알어걸\", 3)\n",
        "```\n",
        "```\n",
        "아이엠\n",
        "어보이\n",
        "유알어\n",
        "걸\n",
        "```"
      ],
      "metadata": {
        "id": "Kpk_NVYQRS5f"
      }
    },
    {
      "cell_type": "code",
      "source": [
        "def printmxn(string, int) :\n",
        "  for i in range(len(string)) :\n",
        "    if(i%int == 0) :\n",
        "      print()\n",
        "      print(string[i],end=\"\")\n",
        "    else :\n",
        "      print(string[i],end=\"\")\n",
        "\n",
        "printmxn(\"안녕하세요\",2)"
      ],
      "metadata": {
        "id": "1-qzLC7sRVhc",
        "colab": {
          "base_uri": "https://localhost:8080/"
        },
        "outputId": "a7cadc18-dc69-4273-c4b7-775e5b6d17f3"
      },
      "execution_count": null,
      "outputs": [
        {
          "output_type": "stream",
          "name": "stdout",
          "text": [
            "\n",
            "안녕\n",
            "하세\n",
            "요"
          ]
        }
      ]
    },
    {
      "cell_type": "markdown",
      "source": [
        "27\n",
        "\n",
        "연봉을 입력받아 월급을 계산하는 calc_monthly_salary(annual_salary) 함수를 정의하라. 회사는 연봉을 12개월로 나누어 분할 지급하며, \n",
        "\n",
        "이 때 1원 미만은 버림한다.\n",
        "\n",
        "```\n",
        "calc_monthly_salary(12000000)\n",
        "```\n",
        "```\n",
        "1000000\n",
        "```"
      ],
      "metadata": {
        "id": "OBbbhmTuSPZU"
      }
    },
    {
      "cell_type": "code",
      "source": [
        "#1의 자리를 버리기 위해 int타입으로 변환 후, 10으로 나눈 다음 다시 10을 곱해준다.\n",
        "def calc_monthly_salary(sal) :\n",
        "  print(int(sal/12/10) * 10) # 인수로 입력된 값을 12로 나눈 값에서 10으로 다시 나눈 후, int타입으로 변환 후, 다시 10을 곱하여 1의자리를 버린다.\n",
        "\n",
        "calc_monthly_salary(121212)"
      ],
      "metadata": {
        "id": "fEwqkUWdSP_5",
        "colab": {
          "base_uri": "https://localhost:8080/"
        },
        "outputId": "ed76a003-a5af-4b10-a04e-80f0b8b166d7"
      },
      "execution_count": null,
      "outputs": [
        {
          "output_type": "stream",
          "name": "stdout",
          "text": [
            "10100\n"
          ]
        }
      ]
    },
    {
      "cell_type": "markdown",
      "source": [
        "\n",
        "28\n",
        "\n",
        "아래 코드의 실행 결과를 예측하라.\n",
        "\n",
        "```\n",
        "def my_print (a, b) :\n",
        "    print(\"왼쪽:\", a)\n",
        "    print(\"오른쪽:\", b)\n",
        "\n",
        "```\n",
        "my_print(a=100, b=200)"
      ],
      "metadata": {
        "id": "s1BANAOvSXOZ"
      }
    },
    {
      "cell_type": "code",
      "source": [
        "# 왼쪽: 100\n",
        "# 오른쪽: 200\n",
        "\n",
        "def my_print (a, b) :\n",
        "    print(\"왼쪽:\", a)\n",
        "    print(\"오른쪽:\", b)\n",
        "\n",
        "my_print(a=100, b=200)"
      ],
      "metadata": {
        "id": "ugMfvXvtSad5",
        "colab": {
          "base_uri": "https://localhost:8080/"
        },
        "outputId": "9ed69d73-5d08-4614-f3e6-08f73d14f1d3"
      },
      "execution_count": null,
      "outputs": [
        {
          "output_type": "stream",
          "name": "stdout",
          "text": [
            "왼쪽: 100\n",
            "오른쪽: 200\n"
          ]
        }
      ]
    },
    {
      "cell_type": "markdown",
      "source": [
        "29\n",
        "\n",
        "아래 코드의 실행 결과를 예측하라.\n",
        "\n",
        "```\n",
        "def my_print (a, b) :\n",
        "    print(\"왼쪽:\", a)\n",
        "    print(\"오른쪽:\", b)\n",
        "```\n",
        "```\n",
        "my_print(b=100, a=200)\n",
        "```"
      ],
      "metadata": {
        "id": "uIFN2HqSScKs"
      }
    },
    {
      "cell_type": "code",
      "source": [
        "# 왼쪽: 200\n",
        "# 오른쪽: 100\n",
        "\n",
        "def my_print (a, b) :\n",
        "    print(\"왼쪽:\", a)\n",
        "    print(\"오른쪽:\", b)\n",
        "\n",
        "my_print(b=100, a=200)"
      ],
      "metadata": {
        "id": "PcCCrEsOSvwg",
        "colab": {
          "base_uri": "https://localhost:8080/"
        },
        "outputId": "d87460da-a784-447a-914c-ba28bbbffcc6"
      },
      "execution_count": null,
      "outputs": [
        {
          "output_type": "stream",
          "name": "stdout",
          "text": [
            "왼쪽: 200\n",
            "오른쪽: 100\n"
          ]
        }
      ]
    },
    {
      "cell_type": "markdown",
      "source": [
        "30\n",
        "\n",
        "아래 코드를 실행한 결과를 예상하라.\n",
        "\n",
        "```\n",
        "def n_plus_1 (n) :\n",
        "    result = n + 1\n",
        "```\n",
        "```\n",
        "n_plus_1(3)\n",
        "print (result)\n",
        "```"
      ],
      "metadata": {
        "id": "6aI2IJs1Sy4m"
      }
    },
    {
      "cell_type": "code",
      "source": [
        "#함수 바깥에서 result는 선언되지 않았기때문에 출력되지 않는다.\n",
        "\n",
        "def n_plus_1 (n) :\n",
        "    result = n + 1\n",
        "\n",
        "n_plus_1(3)\n",
        "# print (result)"
      ],
      "metadata": {
        "id": "ZkK5seQDS6oH"
      },
      "execution_count": null,
      "outputs": []
    },
    {
      "cell_type": "markdown",
      "source": [
        "31\n",
        "\n",
        "문자열 하나를 입력받아 인터넷 주소를 반환하는 make_url 함수를 정의하라.\n",
        "```\n",
        "make_url(\"naver\")\n",
        "```\n",
        "```\n",
        "www.naver.com\n",
        "```"
      ],
      "metadata": {
        "id": "YnxwO2HgS-6K"
      }
    },
    {
      "cell_type": "code",
      "source": [
        "def make_url(string) :\n",
        "  print(\"www.\" + string + \".com\")\n",
        "\n",
        "make_url(\"naver\")"
      ],
      "metadata": {
        "id": "V9zsfPGkS_c_",
        "colab": {
          "base_uri": "https://localhost:8080/"
        },
        "outputId": "74975296-4660-4a99-faef-a3db7a101270"
      },
      "execution_count": null,
      "outputs": [
        {
          "output_type": "stream",
          "name": "stdout",
          "text": [
            "www.naver.com\n"
          ]
        }
      ]
    },
    {
      "cell_type": "markdown",
      "source": [
        "32\n",
        "\n",
        "문자열을 입력받아 각 문자들로 구성된 리스트로 반환하는 make_list 함수를 정의하라.\n",
        "\n",
        "```\n",
        "make_list(\"abcd\")\n",
        "```\n",
        "```\n",
        "['a', 'b', 'c', 'd']\n",
        "```"
      ],
      "metadata": {
        "id": "ctVz3FNqTDaM"
      }
    },
    {
      "cell_type": "code",
      "source": [
        "def make_list(string) :\n",
        "  list = []\n",
        "  for i in range(len(string)) :\n",
        "    list.append(string[i])\n",
        "\n",
        "  print(list)\n",
        "\n",
        "make_list(\"문자열\")"
      ],
      "metadata": {
        "id": "LlPbEv06TIJW",
        "colab": {
          "base_uri": "https://localhost:8080/"
        },
        "outputId": "c864bb86-864f-4403-ab4b-d6f66bd2b08e"
      },
      "execution_count": null,
      "outputs": [
        {
          "output_type": "stream",
          "name": "stdout",
          "text": [
            "['문', '자', '열']\n"
          ]
        }
      ]
    },
    {
      "cell_type": "markdown",
      "source": [
        "33\n",
        "\n",
        "숫자로 구성된 하나의 리스트를 입력받아, 짝수들을 추출하여 리스트로 반환하는 pickup_even 함수를 구현하라.\n",
        "\n",
        "```\n",
        "pickup_even([3, 4, 5, 6, 7, 8])\n",
        "```\n",
        "```\n",
        "[4, 6, 8]\n",
        "```"
      ],
      "metadata": {
        "id": "MvWSnSS2TIsY"
      }
    },
    {
      "cell_type": "code",
      "source": [
        "def pickup_even(list) :\n",
        "  newList = [] # 결과에서 출력할 비어있는 list \"newList\"를 선언\n",
        "  for i in range(len(list)) : #인수로 입력된 list의 길이만큼 순회하는 i\n",
        "    if(list[i]%2 == 0) : #인수로 입력된 list의 요소중 2로 나누어 나머지가 0이면(짝수이면)\n",
        "      newList.append(list[i]) # 비어있던 newList에 순차적으로 요소를 추가(짝수인 요소들)\n",
        "  print(newList) # 요소가 추가된 newList를 출력\n",
        "\n",
        "pickup_even([3, 4, 5, 6, 7, 8])"
      ],
      "metadata": {
        "id": "WvRTasfbTMhe",
        "colab": {
          "base_uri": "https://localhost:8080/"
        },
        "outputId": "b4810d5b-cf38-4f79-b2e8-101bd1a71377"
      },
      "execution_count": null,
      "outputs": [
        {
          "output_type": "stream",
          "name": "stdout",
          "text": [
            "[4, 6, 8]\n"
          ]
        }
      ]
    },
    {
      "cell_type": "markdown",
      "source": [
        "34\n",
        "\n",
        "콤마가 포함된 문자열 숫자를 입력받아 정수로 변환하는 convert_int 함수를 정의하라.\n",
        "\n",
        "```\n",
        "convert_int(\"1,234,567\")\n",
        "```\n",
        "```\n",
        "1234567\n",
        "```"
      ],
      "metadata": {
        "id": "ipEGBNRhTOZ_"
      }
    },
    {
      "cell_type": "code",
      "source": [
        "def convert_int(string) :\n",
        "  newString = \"\"\n",
        "  for i in range(len(string.split(\",\"))) : #문자열을 ,로 나눴을 때 나오는 요소의 수만큼 반복\n",
        "    newString += string.split(\",\")[i]\n",
        "\n",
        "  print(newString)\n",
        "\n",
        "  #선생님 답안\n",
        "  #replace(\",\", \"\")\n",
        "\n",
        "convert_int(\"1,234,567\")"
      ],
      "metadata": {
        "id": "9ho3c77NTRRe",
        "colab": {
          "base_uri": "https://localhost:8080/"
        },
        "outputId": "cc3e8545-e35f-4609-ffb4-f8534a8aaa03"
      },
      "execution_count": null,
      "outputs": [
        {
          "output_type": "stream",
          "name": "stdout",
          "text": [
            "1234567\n"
          ]
        }
      ]
    },
    {
      "cell_type": "markdown",
      "source": [
        "35\n",
        "\n",
        "아래 코드의 실행 결과를 예측하라.\n",
        "\n",
        "```\n",
        "def 함수(num) :\n",
        "    return num + 4\n",
        "\n",
        "\n",
        "a = 함수(10)\n",
        "b = 함수(a)\n",
        "c = 함수(b)\n",
        "print(c)\n",
        "```"
      ],
      "metadata": {
        "id": "TEKwZi1NTS_j"
      }
    },
    {
      "cell_type": "code",
      "source": [
        "# a = 함수(10) => 10 + 4 => 14\n",
        "# b = 함수(a) => 함수(14) => 18\n",
        "# c = 22\n",
        "\n",
        "def 함수(num) :\n",
        "    return num + 4 # 입력된 인수에 4를 더하여 값을 반환\n",
        "\n",
        "a = 함수(10) #a = 10 + 4 = 14\n",
        "b = 함수(a) # b = 14 + 4 = 18\n",
        "c = 함수(b) # c = 18 + 4 = 22\n",
        "print(c) # 22를 출력"
      ],
      "metadata": {
        "id": "AeJIk70vTVbH",
        "colab": {
          "base_uri": "https://localhost:8080/"
        },
        "outputId": "80b1242d-a1e9-4550-bbab-2ea4fc9ab02a"
      },
      "execution_count": null,
      "outputs": [
        {
          "output_type": "stream",
          "name": "stdout",
          "text": [
            "22\n"
          ]
        }
      ]
    },
    {
      "cell_type": "markdown",
      "source": [
        "36\n",
        "\n",
        "아래 코드의 실행 결과를 예측하라.\n",
        "\n",
        "```\n",
        "def 함수(num) :\n",
        "    return num + 4\n",
        "\n",
        "c = 함수(함수(함수(10)))\n",
        "print(c)\n",
        "```"
      ],
      "metadata": {
        "id": "838UmNADTXK2"
      }
    },
    {
      "cell_type": "code",
      "source": [
        "#22\n",
        "\n",
        "def 함수(num) :\n",
        "    return num + 4 # 인수에 4를 더한 값을 반환\n",
        "\n",
        "c = 함수(함수(함수(10))) # 가장 안쪽의 함수부터 실행한다. => ((num + 4) + 4) +4 , num에 인수 10을 대입하면 c = 22\n",
        "print(c)"
      ],
      "metadata": {
        "id": "l1DN9Nl3TZHO",
        "colab": {
          "base_uri": "https://localhost:8080/"
        },
        "outputId": "212cf476-8857-407e-d4e2-8e25e7e46e2e"
      },
      "execution_count": null,
      "outputs": [
        {
          "output_type": "stream",
          "name": "stdout",
          "text": [
            "22\n"
          ]
        }
      ]
    },
    {
      "cell_type": "markdown",
      "source": [
        "37\n",
        "\n",
        "아래 코드의 실행 결과를 예측하라.\n",
        "\n",
        "```\n",
        "def 함수1(num) :\n",
        "    return num + 4\n",
        "\n",
        "def 함수2(num) :\n",
        "    return num * 10\n",
        "\n",
        "a = 함수1(10)\n",
        "c = 함수2(a)\n",
        "print(c)\n",
        "```"
      ],
      "metadata": {
        "id": "_ffE0iAtTbve"
      }
    },
    {
      "cell_type": "code",
      "source": [
        "# a = 14\n",
        "# c = 140\n",
        "\n",
        "def 함수1(num) :\n",
        "    return num + 4\n",
        "\n",
        "def 함수2(num) :\n",
        "    return num * 10\n",
        "\n",
        "a = 함수1(10)\n",
        "c = 함수2(a)\n",
        "print(c)"
      ],
      "metadata": {
        "id": "5j8zq0skTd82",
        "colab": {
          "base_uri": "https://localhost:8080/"
        },
        "outputId": "3e68ef0c-53a2-4bce-8b64-f3fa6238ea0d"
      },
      "execution_count": null,
      "outputs": [
        {
          "output_type": "stream",
          "name": "stdout",
          "text": [
            "140\n"
          ]
        }
      ]
    },
    {
      "cell_type": "markdown",
      "source": [
        "38\n",
        "\n",
        "아래 코드의 실행 결과를 예측하라.\n",
        "\n",
        "```\n",
        "def 함수1(num) :\n",
        "    return num + 4\n",
        "\n",
        "def 함수2(num) :\n",
        "    num = num + 2\n",
        "    return 함수1(num)\n",
        "\n",
        "c = 함수2(10)\n",
        "print(c)\n",
        "```"
      ],
      "metadata": {
        "id": "LXr2yvqVTgcR"
      }
    },
    {
      "cell_type": "code",
      "source": [
        "# c = 함수2(10) => 함수1(12) => 16\n",
        "\n",
        "def 함수1(num) :\n",
        "    return num + 4\n",
        "\n",
        "def 함수2(num) :\n",
        "    num = num + 2\n",
        "    return 함수1(num)\n",
        "\n",
        "c = 함수2(10)\n",
        "print(c)"
      ],
      "metadata": {
        "id": "3XH601oJTjul",
        "colab": {
          "base_uri": "https://localhost:8080/"
        },
        "outputId": "5e27702c-7beb-4f91-d08e-1aae92e6bfd6"
      },
      "execution_count": null,
      "outputs": [
        {
          "output_type": "stream",
          "name": "stdout",
          "text": [
            "16\n"
          ]
        }
      ]
    },
    {
      "cell_type": "markdown",
      "source": [
        "39\n",
        "아래 코드의 실행 결과를 예측하라.\n",
        "\n",
        "```\n",
        "def 함수0(num) :\n",
        "    return num * 2\n",
        "\n",
        "def 함수1(num) :\n",
        "    return 함수0(num + 2)\n",
        "\n",
        "def 함수2(num) :\n",
        "    num = num + 10\n",
        "    return 함수1(num)\n",
        "\n",
        "c = 함수2(2)\n",
        "print(c)\n",
        "```"
      ],
      "metadata": {
        "id": "S2Lred36TkuA"
      }
    },
    {
      "cell_type": "code",
      "source": [
        "# c = 함수2(2) => 함수1(12) => 함수0(14) => 28\n",
        "\n",
        "def 함수0(num) :\n",
        "    return num * 2 # 인수에 2를 곱해서 반환\n",
        "\n",
        "def 함수1(num) :\n",
        "    return 함수0(num + 2) # 인수에 2를 더한 후 함수0()의 인수로 대입한 결과를 반환\n",
        "\n",
        "def 함수2(num) :\n",
        "    num = num + 10 # 인수에 10을 더한다\n",
        "    return 함수1(num) # 10을 더한 인수를 함수1()의 인수로 대입한 결과를 반환\n",
        "\n",
        "c = 함수2(2) # 순서대로, 함수2(2)는 함수1(12)를 반환하고, 함수1(12)는 함수0(14)를 반환, 함수0(14)는 28을 반환.\n",
        "print(c)"
      ],
      "metadata": {
        "id": "HwPkba8VTqA1",
        "colab": {
          "base_uri": "https://localhost:8080/"
        },
        "outputId": "f2617aee-558c-404a-a044-943ba21e8df1"
      },
      "execution_count": null,
      "outputs": [
        {
          "output_type": "stream",
          "name": "stdout",
          "text": [
            "28\n"
          ]
        }
      ]
    }
  ]
}